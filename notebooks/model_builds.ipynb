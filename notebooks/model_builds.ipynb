{
 "cells": [
  {
   "cell_type": "code",
   "execution_count": 1,
   "id": "initial_id",
   "metadata": {
    "collapsed": true,
    "ExecuteTime": {
     "end_time": "2024-02-26T20:40:35.078556300Z",
     "start_time": "2024-02-26T20:40:34.701394300Z"
    }
   },
   "outputs": [],
   "source": [
    "import requests\n",
    "import numpy as np\n",
    "import pandas as pd\n",
    "from tqdm import tqdm\n",
    "import plotly.express as px\n",
    "import json\n",
    "\n",
    "import plotly.io as pio\n",
    "import re\n",
    "from sklearn.linear_model import LinearRegression\n",
    "\n",
    "pio.templates.default = \"plotly_dark\"\n",
    "pio.renderers.default = \"browser\""
   ]
  },
  {
   "cell_type": "code",
   "outputs": [],
   "source": [
    "def get_salary_cap_events():\n",
    "    ## Load json file from downloads\n",
    "    with open('C:/Users/jrnas/Downloads/BBGM_League_1_2220_free_agency(1).json', encoding='latin') as f:\n",
    "        r_json = json.load(f)\n",
    "\n",
    "    return pd.DataFrame([(x['season'], x['text']) for x in r_json['events'] if 'An inflation rate of' in x['text']],\n",
    "                        columns=['season', 'text'])\n",
    "\n",
    "\n",
    "def extract_values(text):\n",
    "    # Pattern for inflation rate\n",
    "    inflation_pattern = r\"(\\d+(\\.\\d+)?)%\"\n",
    "    # Pattern for salary cap\n",
    "    salary_cap_pattern = r\"\\$(\\d+(\\.\\d+)?[MB]?)\"\n",
    "\n",
    "    # Search for the patterns\n",
    "    inflation_match = re.search(inflation_pattern, text)\n",
    "    salary_cap_match = re.search(salary_cap_pattern, text)\n",
    "\n",
    "    # Extract the matched values\n",
    "    inflation_rate = float(inflation_match.group(1)) if inflation_match else None\n",
    "    salary_cap = salary_cap_match.group(1) if salary_cap_match else None\n",
    "\n",
    "    return inflation_rate, salary_cap\n",
    "\n",
    "\n",
    "def convert_salary_cap(salary_cap):\n",
    "    if salary_cap.endswith('M'):\n",
    "        return float(salary_cap[:-1])\n",
    "    elif salary_cap.endswith('B'):\n",
    "        return float(salary_cap[:-1]) * 1000\n",
    "    else:\n",
    "        return None\n",
    "\n",
    "\n",
    "def get_salary_cap():\n",
    "    inf_df = get_salary_cap_events()\n",
    "    inf_df['inf_rate'], inf_df['salary_cap'] = zip(*inf_df['text'].apply(extract_values))\n",
    "    inf_df['salary_cap'] = inf_df['salary_cap'].apply(convert_salary_cap)\n",
    "    inf_df = inf_df[['season', 'inf_rate', 'salary_cap']]\n",
    "    ## Add a row for 2023\n",
    "    inf_df = pd.concat(\n",
    "        [pd.DataFrame({'season': 2023, 'inf_rate': 0, 'salary_cap': 136}, index=[0]), inf_df]).reset_index(\n",
    "        drop=True)\n",
    "    ## Set up dictionary\n",
    "    return inf_df.set_index('season').to_dict()['salary_cap']"
   ],
   "metadata": {
    "collapsed": false,
    "ExecuteTime": {
     "end_time": "2024-02-26T20:40:35.915250500Z",
     "start_time": "2024-02-26T20:40:35.891313500Z"
    }
   },
   "id": "de8ac6c1b765835f",
   "execution_count": 2
  },
  {
   "cell_type": "code",
   "outputs": [],
   "source": [
    "salary_cap = get_salary_cap()"
   ],
   "metadata": {
    "collapsed": false,
    "ExecuteTime": {
     "end_time": "2024-02-26T20:40:38.557746800Z",
     "start_time": "2024-02-26T20:40:37.476280700Z"
    }
   },
   "id": "4b98105db065f320",
   "execution_count": 3
  },
  {
   "cell_type": "code",
   "outputs": [],
   "source": [
    "with open('C:/Users/jrnas/Downloads/BBGM_League_1_2220_free_agency.json', encoding='latin') as f:\n",
    "    r_json = json.load(f)"
   ],
   "metadata": {
    "collapsed": false,
    "ExecuteTime": {
     "end_time": "2024-02-26T20:40:46.093486300Z",
     "start_time": "2024-02-26T20:40:38.724304Z"
    }
   },
   "id": "1ba2a26e3c4942fd",
   "execution_count": 4
  },
  {
   "cell_type": "code",
   "outputs": [
    {
     "name": "stderr",
     "output_type": "stream",
     "text": [
      "100%|██████████| 14724/14724 [00:00<00:00, 29209.01it/s]\n"
     ]
    }
   ],
   "source": [
    "# Initialize an empty list to store the data\n",
    "data = []\n",
    "\n",
    "# Iterate over the list of players\n",
    "for player in tqdm(r_json['players']):\n",
    "    # Iterate over the ratings of the current player\n",
    "    for rating in player['stats']:\n",
    "        # Create a new dictionary that includes 'pid', 'firstName', 'lastName' and the rating\n",
    "        row = {\n",
    "            'pid': player['pid']\n",
    "        }\n",
    "        row.update(rating)\n",
    "        # Append the dictionary to the list\n",
    "        data.append(row)\n",
    "\n",
    "# Convert the list of dictionaries to a DataFrame\n",
    "stats_df = (\n",
    "    pd.DataFrame(data)\n",
    "    .convert_dtypes(dtype_backend='pyarrow')\n",
    ")\n",
    "\n",
    "stats_df = stats_df[(stats_df.season.between(2024, 2220)) & (stats_df.playoffs == False)].reset_index(drop=True)"
   ],
   "metadata": {
    "collapsed": false,
    "ExecuteTime": {
     "end_time": "2024-02-26T20:40:49.289631500Z",
     "start_time": "2024-02-26T20:40:46.094508500Z"
    }
   },
   "id": "f294ca8b2e190cbf",
   "execution_count": 5
  },
  {
   "cell_type": "code",
   "outputs": [
    {
     "name": "stderr",
     "output_type": "stream",
     "text": [
      "100%|██████████| 14724/14724 [00:00<00:00, 72218.76it/s]\n"
     ]
    }
   ],
   "source": [
    "# Initialize an empty list to store the data\n",
    "data = []\n",
    "\n",
    "# Iterate over the list of players\n",
    "for player in tqdm(r_json['players']):\n",
    "    # Iterate over the ratings of the current player\n",
    "    for rating in player['ratings']:\n",
    "        # Create a new dictionary that includes 'pid', 'firstName', 'lastName' and the rating\n",
    "        row = {\n",
    "            'pid': player['pid'],\n",
    "            'firstName': player['firstName'],\n",
    "            'lastName': player['lastName'],\n",
    "            'born': player['born']['year'],\n",
    "        }\n",
    "        row.update(rating)\n",
    "        # Append the dictionary to the list\n",
    "        data.append(row)\n",
    "\n",
    "# Convert the list of dictionaries to a DataFrame\n",
    "ratings_df = (\n",
    "    pd.DataFrame(data)\n",
    "    .convert_dtypes(dtype_backend='pyarrow')\n",
    "    .astype({'skills': 'string[pyarrow]'})\n",
    "    .assign(\n",
    "        age=lambda x: x.season - x.born,\n",
    "    )\n",
    ")\n",
    "\n",
    "ratings_df = ratings_df[ratings_df.season.between(2024, 2220)].reset_index(drop=True)"
   ],
   "metadata": {
    "collapsed": false,
    "ExecuteTime": {
     "end_time": "2024-02-26T20:40:50.382789Z",
     "start_time": "2024-02-26T20:40:49.291812100Z"
    }
   },
   "id": "93d4e231782f3426",
   "execution_count": 6
  },
  {
   "cell_type": "code",
   "outputs": [
    {
     "name": "stderr",
     "output_type": "stream",
     "text": [
      "100%|██████████| 14724/14724 [00:00<00:00, 391965.65it/s]\n"
     ]
    }
   ],
   "source": [
    "# Initialize an empty list to store the data\n",
    "data = []\n",
    "\n",
    "# Iterate over the list of players\n",
    "for player in tqdm(r_json['players']):\n",
    "    # Iterate over the ratings of the current player\n",
    "    for rating in player['salaries']:\n",
    "        # Create a new dictionary that includes 'pid', 'firstName', 'lastName' and the rating\n",
    "        row = {\n",
    "            'pid': player['pid'],\n",
    "        }\n",
    "        row.update(rating)\n",
    "        # Append the dictionary to the list\n",
    "        data.append(row)\n",
    "\n",
    "# Convert the list of dictionaries to a DataFrame\n",
    "salaries_df = (\n",
    "    pd.DataFrame(data)\n",
    "    .convert_dtypes(dtype_backend='pyarrow')\n",
    ")\n",
    "\n",
    "salaries_df = salaries_df[salaries_df.season.between(2024, 2220)].reset_index(drop=True)"
   ],
   "metadata": {
    "collapsed": false,
    "ExecuteTime": {
     "end_time": "2024-02-26T20:40:50.536873400Z",
     "start_time": "2024-02-26T20:40:50.382789Z"
    }
   },
   "id": "4d990700b10f48fc",
   "execution_count": 7
  },
  {
   "cell_type": "code",
   "outputs": [],
   "source": [
    "df = ratings_df.merge(\n",
    "    stats_df[['pid', 'season', 'tid', 'gp', 'gs', 'min', 'usgp', 'ortg', 'drtg', 'obpm', 'dbpm', 'ows', 'dws', 'vorp',\n",
    "              'ewa']],\n",
    "    on=['pid', 'season'], how='left').merge(\n",
    "    salaries_df[['pid', 'season', 'amount']].rename(columns={'amount': 'salary'}), on=['pid', 'season'], how='left')"
   ],
   "metadata": {
    "collapsed": false,
    "ExecuteTime": {
     "end_time": "2024-02-26T20:40:50.680582800Z",
     "start_time": "2024-02-26T20:40:50.538917Z"
    }
   },
   "id": "f5395c396b335e5",
   "execution_count": 8
  },
  {
   "cell_type": "code",
   "outputs": [],
   "source": [
    "df['vorp_norm'] = (df['vorp'] / df['min']) * (32 * 82)"
   ],
   "metadata": {
    "collapsed": false,
    "ExecuteTime": {
     "end_time": "2024-02-26T20:40:50.687156700Z",
     "start_time": "2024-02-26T20:40:50.680582800Z"
    }
   },
   "id": "51763d4ac524764f",
   "execution_count": 9
  },
  {
   "cell_type": "code",
   "outputs": [],
   "source": [
    "test_df = df[(df['min'] > 10) & (~df['vorp_norm'].isna())].reset_index(drop=True)\n",
    "test_df['vorp_norm_wt'] = test_df['vorp_norm'] * test_df['min']\n",
    "agg_df = test_df.groupby('ovr')[['vorp_norm_wt', 'min']].sum().reset_index()\n",
    "agg_df['vorp_norm'] = agg_df['vorp_norm_wt'] / agg_df['min']"
   ],
   "metadata": {
    "collapsed": false,
    "ExecuteTime": {
     "end_time": "2024-02-26T20:40:50.725689800Z",
     "start_time": "2024-02-26T20:40:50.686030200Z"
    }
   },
   "id": "3438719698f7da4f",
   "execution_count": 10
  },
  {
   "cell_type": "code",
   "outputs": [],
   "source": [
    "under_over = 56.064\n",
    "\n",
    "model_df_under = agg_df[agg_df['ovr'] <= under_over].reset_index(drop=True)\n",
    "poly_under = np.polyfit(model_df_under['ovr'], model_df_under['vorp_norm'], 1)\n",
    "\n",
    "model_df_over = agg_df[agg_df['ovr'] > under_over].reset_index(drop=True)\n",
    "poly_over = np.polyfit(model_df_over['ovr'], model_df_over['vorp_norm'], 1)\n",
    "\n",
    "df['vorp_under'] = np.polyval(poly_under, df['ovr'])\n",
    "df['vorp_over'] = np.polyval(poly_over, df['ovr'])\n",
    "df['vorp_pred'] = np.where(\n",
    "    df['ovr'] <= under_over,\n",
    "    df['vorp_under'],\n",
    "    df['vorp_over']\n",
    ")"
   ],
   "metadata": {
    "collapsed": false,
    "ExecuteTime": {
     "end_time": "2024-02-26T20:42:36.913261400Z",
     "start_time": "2024-02-26T20:42:36.863901800Z"
    }
   },
   "id": "892fa998a81a39fe",
   "execution_count": 18
  },
  {
   "cell_type": "code",
   "outputs": [],
   "source": [
    "df['cvorp'] = df['vorp'].clip(0, )\n",
    "df['vorp_pct'] = df['vorp_pred'].clip(0, ) / df.groupby('season').cvorp.sum().mean()\n",
    "df['vorp_pct_cap'] = df['vorp_pct'] * 30"
   ],
   "metadata": {
    "collapsed": false,
    "ExecuteTime": {
     "end_time": "2024-02-26T20:26:31.625253300Z",
     "start_time": "2024-02-26T20:26:31.600471Z"
    }
   },
   "id": "e24ec4e1b9e87644",
   "execution_count": 56
  },
  {
   "cell_type": "code",
   "outputs": [],
   "source": [],
   "metadata": {
    "collapsed": false
   },
   "id": "36a99117666a6a06"
  },
  {
   "cell_type": "code",
   "outputs": [],
   "source": [
    "### Growth"
   ],
   "metadata": {
    "collapsed": false,
    "ExecuteTime": {
     "end_time": "2024-02-26T20:26:32.213237900Z",
     "start_time": "2024-02-26T20:26:32.208528600Z"
    }
   },
   "id": "a5cd47233dbb5836",
   "execution_count": 58
  },
  {
   "cell_type": "code",
   "outputs": [],
   "source": [
    "df = df.drop_duplicates(['pid', 'season'], keep='first').reset_index(drop=True)"
   ],
   "metadata": {
    "collapsed": false,
    "ExecuteTime": {
     "end_time": "2024-02-26T20:26:33.117045700Z",
     "start_time": "2024-02-26T20:26:33.057181600Z"
    }
   },
   "id": "e127db17d9928d76",
   "execution_count": 59
  },
  {
   "cell_type": "code",
   "outputs": [],
   "source": [
    "df['ovr+'] = df.groupby('pid')['ovr'].shift(-1) - df['ovr']"
   ],
   "metadata": {
    "collapsed": false,
    "ExecuteTime": {
     "end_time": "2024-02-26T20:26:33.588406400Z",
     "start_time": "2024-02-26T20:26:33.575593200Z"
    }
   },
   "id": "46cfe936709ae695",
   "execution_count": 60
  },
  {
   "cell_type": "code",
   "outputs": [
    {
     "name": "stdout",
     "output_type": "stream",
     "text": [
      "Count: 6828\n",
      "Mean: 4.160076157000586\n",
      "Std: 4.615905351267984\n"
     ]
    },
    {
     "data": {
      "text/plain": "<Figure size 640x480 with 1 Axes>",
      "image/png": "[encoded data removed]"
     },
     "metadata": {},
     "output_type": "display_data"
    },
    {
     "data": {
      "text/plain": "<Figure size 640x480 with 1 Axes>",
      "image/png": "[encoded data removed]"
     },
     "metadata": {},
     "output_type": "display_data"
    }
   ],
   "source": [
    "import seaborn as sns\n",
    "import matplotlib.pyplot as plt\n",
    "age = 19\n",
    "kde_19 = sns.kdeplot(df[df.age.isin([age, age-1])][['age','ovr','ovr+']].dropna()['ovr+'])\n",
    "plt.figure()\n",
    "kde_20 = sns.kdeplot(df[df.age == (age + 1)][['age','ovr','ovr+']].dropna()['ovr+'])\n",
    "print(f\"Count: {df[df.age == age]['ovr+'].count()}\")\n",
    "print(f\"Mean: {df[df.age == age]['ovr+'].mean()}\")\n",
    "print(f\"Std: {df[df.age == age]['ovr+'].std()}\")"
   ],
   "metadata": {
    "collapsed": false,
    "ExecuteTime": {
     "end_time": "2024-02-26T20:26:44.139642800Z",
     "start_time": "2024-02-26T20:26:43.761286400Z"
    }
   },
   "id": "af36625e6e27a81c",
   "execution_count": 62
  },
  {
   "cell_type": "code",
   "outputs": [],
   "source": [
    "x1, y1 = kde_19.get_lines()[0].get_data()"
   ],
   "metadata": {
    "collapsed": false,
    "ExecuteTime": {
     "end_time": "2024-02-26T20:26:48.127082800Z",
     "start_time": "2024-02-26T20:26:48.121029900Z"
    }
   },
   "id": "e45946d51af581e2",
   "execution_count": 63
  },
  {
   "cell_type": "code",
   "outputs": [],
   "source": [
    "x2, y2 = kde_20.get_lines()[0].get_data()"
   ],
   "metadata": {
    "collapsed": false,
    "ExecuteTime": {
     "end_time": "2024-02-26T20:26:48.508975200Z",
     "start_time": "2024-02-26T20:26:48.502238300Z"
    }
   },
   "id": "b78c17eecb04c156",
   "execution_count": 64
  },
  {
   "cell_type": "code",
   "outputs": [
    {
     "data": {
      "text/plain": "4.162913132494881"
     },
     "execution_count": 65,
     "metadata": {},
     "output_type": "execute_result"
    }
   ],
   "source": [
    "df[df.age.isin([age, age-1])][['age','ovr','ovr+']].dropna()['ovr+'].mean()"
   ],
   "metadata": {
    "collapsed": false,
    "ExecuteTime": {
     "end_time": "2024-02-26T20:26:48.893544600Z",
     "start_time": "2024-02-26T20:26:48.879771800Z"
    }
   },
   "id": "21fa4241a9449b3a",
   "execution_count": 65
  },
  {
   "cell_type": "code",
   "outputs": [
    {
     "data": {
      "text/plain": "4.527957508450024"
     },
     "execution_count": 66,
     "metadata": {},
     "output_type": "execute_result"
    }
   ],
   "source": [
    "df[df.age == age + 1][['age','ovr','ovr+']].dropna()['ovr+'].mean()"
   ],
   "metadata": {
    "collapsed": false,
    "ExecuteTime": {
     "end_time": "2024-02-26T20:26:49.326855200Z",
     "start_time": "2024-02-26T20:26:49.312063100Z"
    }
   },
   "id": "aad824afe778516e",
   "execution_count": 66
  },
  {
   "cell_type": "code",
   "outputs": [
    {
     "name": "stdout",
     "output_type": "stream",
     "text": [
      "4.162914905828783\n",
      "4.5279536749773905\n"
     ]
    }
   ],
   "source": [
    "print(np.dot(x1, y1) / np.sum(y1))\n",
    "print(np.dot(x2, y2) / np.sum(y2))"
   ],
   "metadata": {
    "collapsed": false,
    "ExecuteTime": {
     "end_time": "2024-02-26T20:26:50.135124600Z",
     "start_time": "2024-02-26T20:26:50.128241100Z"
    }
   },
   "id": "f3b64ebd477fb995",
   "execution_count": 67
  },
  {
   "cell_type": "code",
   "outputs": [],
   "source": [
    "from scipy.stats import gaussian_kde\n",
    "kde_dict = dict()\n",
    "\n",
    "for age in [19,20,21,22]:\n",
    "    kde_dict[age] = dict()\n",
    "    kde_dict[age]['data'] = df[df.age == age]['ovr+'].dropna().values\n",
    "    kde_dict[age]['kde'] = gaussian_kde(kde_dict[age]['data'])\n",
    "    kde_dict[age]['x'] = np.linspace(-100, 100, 1000)\n",
    "    kde_dict[age]['density'] = kde_dict[age]['kde'](kde_dict[age]['x'])"
   ],
   "metadata": {
    "collapsed": false,
    "ExecuteTime": {
     "end_time": "2024-02-26T20:27:00.697168100Z",
     "start_time": "2024-02-26T20:27:00.010182700Z"
    }
   },
   "id": "60c8c67041f1507c",
   "execution_count": 70
  },
  {
   "cell_type": "code",
   "outputs": [],
   "source": [
    "from scipy import signal\n",
    "import numpy as np\n",
    "\n",
    "def convolve_distributions(kdes):\n",
    "    # Generate x values that cover the range of all KDEs\n",
    "    x = np.linspace(-100, 100, 1000)\n",
    "\n",
    "    # Initialize the convolved density as the density of the first KDE\n",
    "    y_convolved = kdes[0](x)\n",
    "\n",
    "    # Iterate over the rest of the KDEs\n",
    "    for kde in kdes[1:]:\n",
    "        # Calculate the density of the current KDE\n",
    "        y = kde(x)\n",
    "\n",
    "        # Perform the convolution\n",
    "        y_convolved = signal.convolve(y_convolved, y, mode='same')\n",
    "\n",
    "        # Normalize the result\n",
    "        y_convolved /= np.trapz(y_convolved, x)  # Use trapezoidal rule to approximate the integral\n",
    "\n",
    "    return x, y_convolved\n",
    "\n",
    "# Use the function with two KDEs from your dictionary\n",
    "x_new, y_new = convolve_distributions([\n",
    "    kde_dict[19]['kde'], \n",
    "    kde_dict[20]['kde'],\n",
    "    kde_dict[21]['kde'],\n",
    "    kde_dict[22]['kde'],\n",
    "])\n",
    "# Normalize the result\n",
    "y_new /= np.trapz(y_new, x_new)  # Use trapezoidal rule to approximate the integral"
   ],
   "metadata": {
    "collapsed": false,
    "ExecuteTime": {
     "end_time": "2024-02-26T20:27:03.133355700Z",
     "start_time": "2024-02-26T20:27:02.460087800Z"
    }
   },
   "id": "4c0db0e6689f5e96",
   "execution_count": 71
  },
  {
   "cell_type": "code",
   "outputs": [],
   "source": [
    "px.line(\n",
    "    x=x_new,\n",
    "    y=y_new,\n",
    "    title='Convolved Distribution of OVR Growth',\n",
    "    labels={'x': 'OVR Growth', 'y': 'Density'},\n",
    "    range_x=[-20, 60]\n",
    ")"
   ],
   "metadata": {
    "collapsed": false,
    "ExecuteTime": {
     "end_time": "2024-02-26T20:27:03.944145600Z",
     "start_time": "2024-02-26T20:27:03.767194700Z"
    }
   },
   "id": "626b8f95e2fe1afe",
   "execution_count": 72
  },
  {
   "cell_type": "code",
   "outputs": [],
   "source": [
    "player_rating = 40"
   ],
   "metadata": {
    "collapsed": false,
    "ExecuteTime": {
     "end_time": "2024-02-26T20:27:11.458104600Z",
     "start_time": "2024-02-26T20:27:11.454315800Z"
    }
   },
   "id": "bad09433990ea847",
   "execution_count": 73
  },
  {
   "cell_type": "code",
   "outputs": [],
   "source": [
    "x_rating = x_new + player_rating"
   ],
   "metadata": {
    "collapsed": false,
    "ExecuteTime": {
     "end_time": "2024-02-26T20:27:11.858630300Z",
     "start_time": "2024-02-26T20:27:11.854052900Z"
    }
   },
   "id": "4e7f605dd7afbd8",
   "execution_count": 74
  },
  {
   "cell_type": "code",
   "outputs": [
    {
     "name": "stderr",
     "output_type": "stream",
     "text": [
      "C:\\Users\\jrnas\\anaconda3\\envs\\BBGM\\Lib\\site-packages\\sklearn\\base.py:493: UserWarning:\n",
      "\n",
      "X does not have valid feature names, but LinearRegression was fitted with feature names\n",
      "\n",
      "C:\\Users\\jrnas\\anaconda3\\envs\\BBGM\\Lib\\site-packages\\sklearn\\base.py:493: UserWarning:\n",
      "\n",
      "X does not have valid feature names, but LinearRegression was fitted with feature names\n",
      "\n"
     ]
    }
   ],
   "source": [
    "vorp_under = lin_reg_under.predict(x_rating.reshape(-1, 1))\n",
    "vorp_over = lin_reg_over.predict(x_rating.reshape(-1, 1))\n",
    "vorp_pred = np.where(\n",
    "    x_rating <= under_over,\n",
    "    vorp_under,\n",
    "    vorp_over\n",
    ")\n",
    "\n",
    "vorp_value = vorp_pred.clip(0, )"
   ],
   "metadata": {
    "collapsed": false,
    "ExecuteTime": {
     "end_time": "2024-02-26T20:27:13.260687800Z",
     "start_time": "2024-02-26T20:27:13.255691Z"
    }
   },
   "id": "3959e1348562d2b4",
   "execution_count": 75
  },
  {
   "cell_type": "code",
   "outputs": [
    {
     "data": {
      "text/plain": "       x_rating  vorp_value\n0    -60.000000    0.000000\n1    -59.799800    0.000000\n2    -59.599600    0.000000\n3    -59.399399    0.000000\n4    -59.199199    0.000000\n..          ...         ...\n995  139.199199   37.652974\n996  139.399399   37.741834\n997  139.599600   37.830695\n998  139.799800   37.919556\n999  140.000000   38.008417\n\n[1000 rows x 2 columns]",
      "text/html": "<div>\n<style scoped>\n    .dataframe tbody tr th:only-of-type {\n        vertical-align: middle;\n    }\n\n    .dataframe tbody tr th {\n        vertical-align: top;\n    }\n\n    .dataframe thead th {\n        text-align: right;\n    }\n</style>\n<table border=\"1\" class=\"dataframe\">\n  <thead>\n    <tr style=\"text-align: right;\">\n      <th></th>\n      <th>x_rating</th>\n      <th>vorp_value</th>\n    </tr>\n  </thead>\n  <tbody>\n    <tr>\n      <th>0</th>\n      <td>-60.000000</td>\n      <td>0.000000</td>\n    </tr>\n    <tr>\n      <th>1</th>\n      <td>-59.799800</td>\n      <td>0.000000</td>\n    </tr>\n    <tr>\n      <th>2</th>\n      <td>-59.599600</td>\n      <td>0.000000</td>\n    </tr>\n    <tr>\n      <th>3</th>\n      <td>-59.399399</td>\n      <td>0.000000</td>\n    </tr>\n    <tr>\n      <th>4</th>\n      <td>-59.199199</td>\n      <td>0.000000</td>\n    </tr>\n    <tr>\n      <th>...</th>\n      <td>...</td>\n      <td>...</td>\n    </tr>\n    <tr>\n      <th>995</th>\n      <td>139.199199</td>\n      <td>37.652974</td>\n    </tr>\n    <tr>\n      <th>996</th>\n      <td>139.399399</td>\n      <td>37.741834</td>\n    </tr>\n    <tr>\n      <th>997</th>\n      <td>139.599600</td>\n      <td>37.830695</td>\n    </tr>\n    <tr>\n      <th>998</th>\n      <td>139.799800</td>\n      <td>37.919556</td>\n    </tr>\n    <tr>\n      <th>999</th>\n      <td>140.000000</td>\n      <td>38.008417</td>\n    </tr>\n  </tbody>\n</table>\n<p>1000 rows × 2 columns</p>\n</div>"
     },
     "execution_count": 76,
     "metadata": {},
     "output_type": "execute_result"
    }
   ],
   "source": [
    "pd.DataFrame({'x_rating': x_rating, 'vorp_value': vorp_value})"
   ],
   "metadata": {
    "collapsed": false,
    "ExecuteTime": {
     "end_time": "2024-02-26T20:27:17.070644600Z",
     "start_time": "2024-02-26T20:27:17.063834700Z"
    }
   },
   "id": "8d835bd3d5700de2",
   "execution_count": 76
  },
  {
   "cell_type": "code",
   "outputs": [],
   "source": [
    "px.line(\n",
    "    x=vorp_value,\n",
    "    y=y_new,\n",
    "    title='Convolved Distribution of OVR Growth',\n",
    "    labels={'x': 'OVR Growth', 'y': 'Density'},\n",
    "    range_x=[0, 20]\n",
    ")"
   ],
   "metadata": {
    "collapsed": false,
    "ExecuteTime": {
     "end_time": "2024-02-26T20:27:40.228241200Z",
     "start_time": "2024-02-26T20:27:40.070593100Z"
    }
   },
   "id": "af10c22f136be0e6",
   "execution_count": 77
  },
  {
   "cell_type": "code",
   "outputs": [],
   "source": [],
   "metadata": {
    "collapsed": false
   },
   "id": "a99b9ad30de5882b"
  }
 ],
 "metadata": {
  "kernelspec": {
   "display_name": "Python 3",
   "language": "python",
   "name": "python3"
  },
  "language_info": {
   "codemirror_mode": {
    "name": "ipython",
    "version": 2
   },
   "file_extension": ".py",
   "mimetype": "text/x-python",
   "name": "python",
   "nbconvert_exporter": "python",
   "pygments_lexer": "ipython2",
   "version": "2.7.6"
  }
 },
 "nbformat": 4,
 "nbformat_minor": 5
}
