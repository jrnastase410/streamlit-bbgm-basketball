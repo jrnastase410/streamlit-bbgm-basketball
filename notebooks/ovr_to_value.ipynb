{
 "cells": [
  {
   "cell_type": "code",
   "execution_count": 1,
   "id": "initial_id",
   "metadata": {
    "collapsed": true,
    "ExecuteTime": {
     "end_time": "2024-03-01T19:22:36.430499Z",
     "start_time": "2024-03-01T19:22:35.922885Z"
    }
   },
   "outputs": [],
   "source": [
    "import os\n",
    "\n",
    "os.chdir('..')\n",
    "\n",
    "import numpy as np\n",
    "import json\n",
    "\n",
    "import plotly.io as pio\n",
    "\n",
    "from apps.data import *\n",
    "\n",
    "pio.templates.default = \"plotly_dark\"\n",
    "pio.renderers.default = \"browser\""
   ]
  },
  {
   "cell_type": "code",
   "outputs": [],
   "source": [
    "UNDER_OVER = 56.064"
   ],
   "metadata": {
    "collapsed": false,
    "ExecuteTime": {
     "end_time": "2024-03-01T19:22:36.433890Z",
     "start_time": "2024-03-01T19:22:36.430499Z"
    }
   },
   "id": "eb481e69d310c427",
   "execution_count": 2
  },
  {
   "cell_type": "code",
   "outputs": [],
   "source": [
    "with open('C:/Users/jrnas/Downloads/BBGM_League_1_2220_free_agency.json', encoding='latin') as f:\n",
    "    r_json = json.load(f)"
   ],
   "metadata": {
    "collapsed": false,
    "ExecuteTime": {
     "end_time": "2024-03-01T19:22:43.177904Z",
     "start_time": "2024-03-01T19:22:36.434998Z"
    }
   },
   "id": "1ba2a26e3c4942fd",
   "execution_count": 3
  },
  {
   "cell_type": "code",
   "outputs": [],
   "source": [
    "df = player_json_to_df(r_json, keep=['ratings', 'stats'])"
   ],
   "metadata": {
    "collapsed": false,
    "ExecuteTime": {
     "end_time": "2024-03-01T19:22:48.022370Z",
     "start_time": "2024-03-01T19:22:43.178961Z"
    }
   },
   "id": "31a98c0a6d962c6f",
   "execution_count": 4
  },
  {
   "cell_type": "code",
   "outputs": [],
   "source": [
    "df['vorp_norm'] = (df['vorp'] / df['min']) * (32 * 82)"
   ],
   "metadata": {
    "collapsed": false,
    "ExecuteTime": {
     "end_time": "2024-03-01T19:22:48.028256Z",
     "start_time": "2024-03-01T19:22:48.022370Z"
    }
   },
   "id": "51763d4ac524764f",
   "execution_count": 5
  },
  {
   "cell_type": "code",
   "outputs": [],
   "source": [
    "test_df = df[(df['min'] > 10) & (~df['vorp_norm'].isna())].reset_index(drop=True)\n",
    "test_df['vorp_norm_wt'] = test_df['vorp_norm'] * test_df['min']\n",
    "agg_df = test_df.groupby('ovr')[['vorp_norm_wt', 'min']].sum().reset_index()\n",
    "agg_df['vorp_norm'] = agg_df['vorp_norm_wt'] / agg_df['min']"
   ],
   "metadata": {
    "collapsed": false,
    "ExecuteTime": {
     "end_time": "2024-03-01T19:22:48.096683Z",
     "start_time": "2024-03-01T19:22:48.030261Z"
    }
   },
   "id": "3438719698f7da4f",
   "execution_count": 6
  },
  {
   "cell_type": "code",
   "outputs": [],
   "source": [
    "model_df_under = agg_df[agg_df['ovr'] <= UNDER_OVER].reset_index(drop=True)\n",
    "poly_under = np.polyfit(model_df_under['ovr'], model_df_under['vorp_norm'], 1)\n",
    "\n",
    "model_df_over = agg_df[agg_df['ovr'] > UNDER_OVER].reset_index(drop=True)\n",
    "poly_over = np.polyfit(model_df_over['ovr'], model_df_over['vorp_norm'], 1)\n",
    "\n",
    "df['vorp_under'] = np.polyval(poly_under, df['ovr'])\n",
    "df['vorp_over'] = np.polyval(poly_over, df['ovr'])\n",
    "df['vorp_pred'] = np.where(\n",
    "    df['ovr'] <= UNDER_OVER,\n",
    "    df['vorp_under'],\n",
    "    df['vorp_over']\n",
    ")\n",
    "\n",
    "np.save('models/poly_under.npy', poly_under)\n",
    "np.save('models/poly_over.npy', poly_over)"
   ],
   "metadata": {
    "collapsed": false,
    "ExecuteTime": {
     "end_time": "2024-03-01T19:22:48.118528Z",
     "start_time": "2024-03-01T19:22:48.097688Z"
    }
   },
   "id": "892fa998a81a39fe",
   "execution_count": 7
  },
  {
   "cell_type": "code",
   "outputs": [],
   "source": [
    "df['cvorp'] = df['vorp'].clip(0, )\n",
    "df['vorp_pct'] = df['vorp_pred'].clip(0, ) / df[df.season.between(2024, 2220)].groupby('season').vorp.sum().mean()\n",
    "df['vorp_pct_cap'] = df['vorp_pct'] * 30"
   ],
   "metadata": {
    "collapsed": false,
    "ExecuteTime": {
     "end_time": "2024-03-01T19:22:48.173785Z",
     "start_time": "2024-03-01T19:22:48.118528Z"
    }
   },
   "id": "e24ec4e1b9e87644",
   "execution_count": 8
  },
  {
   "cell_type": "code",
   "outputs": [],
   "source": [
    "def predict_minutes(ovr):\n",
    "    # =6.6208*LN(A2) - 26.515\n",
    "    pred_ini = 6.6208 * np.log(ovr) - 26.515\n",
    "    pred_inverse = 1 / (1 + np.exp(-pred_ini))\n",
    "    pred_final = 3000 * pred_inverse\n",
    "    return pred_final"
   ],
   "metadata": {
    "collapsed": false,
    "ExecuteTime": {
     "end_time": "2024-03-01T19:22:48.177674Z",
     "start_time": "2024-03-01T19:22:48.174799Z"
    }
   },
   "id": "4fa7d53707a9a33",
   "execution_count": 9
  },
  {
   "cell_type": "code",
   "outputs": [],
   "source": [
    "df['min_pred'] = df['ovr'].apply(predict_minutes)\n",
    "df['vorp_total'] = df['vorp_pred'].clip(0,) * df['min_pred'] / 82 / 32\n",
    "df['vorp_total_pct'] = df['vorp_total'] / df[df.season.between(2024, 2220)].groupby('season').vorp.sum().mean()\n",
    "df['vorp_total_pct_cap'] = df['vorp_total_pct'] * 30"
   ],
   "metadata": {
    "collapsed": false,
    "ExecuteTime": {
     "end_time": "2024-03-01T19:27:56.318409Z",
     "start_time": "2024-03-01T19:27:56.000166Z"
    }
   },
   "id": "e452eb196b42c5ab",
   "execution_count": 27
  },
  {
   "cell_type": "code",
   "outputs": [
    {
     "data": {
      "text/plain": "      firstName    lastName  ovr  vorp_pred  vorp_total  vorp_pct_cap  \\\n2485       Trae       Young   67   5.335780    4.817768      0.511059   \n538    Dejounte      Murray   64   4.022194    3.379924      0.385244   \n539    Dejounte      Murray   62   3.146469    2.489697      0.301368   \n1911   De'Andre      Hunter   61   2.708607    2.070758      0.259429   \n2820      Jalen     Johnson   61   2.708607    2.070758      0.259429   \n1299      Clint      Capela   59   1.832883    1.295276      0.175553   \n2685     Saddiq         Bey   59   1.832883    1.295276      0.175553   \n2759     Bogdan  Bogdanovic   59   1.832883    1.295276      0.175553   \n3374     Onyeka     Okongwu   57   0.957158    0.616067      0.091676   \n4859   Garrison     Mathews   50  -0.285780    0.000000      0.000000   \n6678     Wesley    Matthews   50  -0.285780    0.000000      0.000000   \n4633      Patty       Mills   49  -0.468027    0.000000      0.000000   \n4531         AJ     Griffin   48  -0.650275    0.000000      0.000000   \n10693     Bruno    Fernando   47  -0.832522    0.000000      0.000000   \n8872      Trent     Forrest   46  -1.014770    0.000000      0.000000   \n11223      Seth       Lundy   45  -1.197017    0.000000      0.000000   \n11088       Vit      Krejci   44  -1.379264    0.000000      0.000000   \n3532       Kobe      Bufkin   39  -2.290501    0.000000      0.000000   \n7947   Mouhamed       Gueye   36  -2.837243    0.000000      0.000000   \n\n       vorp_total_pct_cap  \n2485             0.333351  \n538              0.233864  \n539              0.172267  \n1911             0.143280  \n2820             0.143280  \n1299             0.089623  \n2685             0.089623  \n2759             0.089623  \n3374             0.042627  \n4859             0.000000  \n6678             0.000000  \n4633             0.000000  \n4531             0.000000  \n10693            0.000000  \n8872             0.000000  \n11223            0.000000  \n11088            0.000000  \n3532             0.000000  \n7947             0.000000  ",
      "text/html": "<div>\n<style scoped>\n    .dataframe tbody tr th:only-of-type {\n        vertical-align: middle;\n    }\n\n    .dataframe tbody tr th {\n        vertical-align: top;\n    }\n\n    .dataframe thead th {\n        text-align: right;\n    }\n</style>\n<table border=\"1\" class=\"dataframe\">\n  <thead>\n    <tr style=\"text-align: right;\">\n      <th></th>\n      <th>firstName</th>\n      <th>lastName</th>\n      <th>ovr</th>\n      <th>vorp_pred</th>\n      <th>vorp_total</th>\n      <th>vorp_pct_cap</th>\n      <th>vorp_total_pct_cap</th>\n    </tr>\n  </thead>\n  <tbody>\n    <tr>\n      <th>2485</th>\n      <td>Trae</td>\n      <td>Young</td>\n      <td>67</td>\n      <td>5.335780</td>\n      <td>4.817768</td>\n      <td>0.511059</td>\n      <td>0.333351</td>\n    </tr>\n    <tr>\n      <th>538</th>\n      <td>Dejounte</td>\n      <td>Murray</td>\n      <td>64</td>\n      <td>4.022194</td>\n      <td>3.379924</td>\n      <td>0.385244</td>\n      <td>0.233864</td>\n    </tr>\n    <tr>\n      <th>539</th>\n      <td>Dejounte</td>\n      <td>Murray</td>\n      <td>62</td>\n      <td>3.146469</td>\n      <td>2.489697</td>\n      <td>0.301368</td>\n      <td>0.172267</td>\n    </tr>\n    <tr>\n      <th>1911</th>\n      <td>De'Andre</td>\n      <td>Hunter</td>\n      <td>61</td>\n      <td>2.708607</td>\n      <td>2.070758</td>\n      <td>0.259429</td>\n      <td>0.143280</td>\n    </tr>\n    <tr>\n      <th>2820</th>\n      <td>Jalen</td>\n      <td>Johnson</td>\n      <td>61</td>\n      <td>2.708607</td>\n      <td>2.070758</td>\n      <td>0.259429</td>\n      <td>0.143280</td>\n    </tr>\n    <tr>\n      <th>1299</th>\n      <td>Clint</td>\n      <td>Capela</td>\n      <td>59</td>\n      <td>1.832883</td>\n      <td>1.295276</td>\n      <td>0.175553</td>\n      <td>0.089623</td>\n    </tr>\n    <tr>\n      <th>2685</th>\n      <td>Saddiq</td>\n      <td>Bey</td>\n      <td>59</td>\n      <td>1.832883</td>\n      <td>1.295276</td>\n      <td>0.175553</td>\n      <td>0.089623</td>\n    </tr>\n    <tr>\n      <th>2759</th>\n      <td>Bogdan</td>\n      <td>Bogdanovic</td>\n      <td>59</td>\n      <td>1.832883</td>\n      <td>1.295276</td>\n      <td>0.175553</td>\n      <td>0.089623</td>\n    </tr>\n    <tr>\n      <th>3374</th>\n      <td>Onyeka</td>\n      <td>Okongwu</td>\n      <td>57</td>\n      <td>0.957158</td>\n      <td>0.616067</td>\n      <td>0.091676</td>\n      <td>0.042627</td>\n    </tr>\n    <tr>\n      <th>4859</th>\n      <td>Garrison</td>\n      <td>Mathews</td>\n      <td>50</td>\n      <td>-0.285780</td>\n      <td>0.000000</td>\n      <td>0.000000</td>\n      <td>0.000000</td>\n    </tr>\n    <tr>\n      <th>6678</th>\n      <td>Wesley</td>\n      <td>Matthews</td>\n      <td>50</td>\n      <td>-0.285780</td>\n      <td>0.000000</td>\n      <td>0.000000</td>\n      <td>0.000000</td>\n    </tr>\n    <tr>\n      <th>4633</th>\n      <td>Patty</td>\n      <td>Mills</td>\n      <td>49</td>\n      <td>-0.468027</td>\n      <td>0.000000</td>\n      <td>0.000000</td>\n      <td>0.000000</td>\n    </tr>\n    <tr>\n      <th>4531</th>\n      <td>AJ</td>\n      <td>Griffin</td>\n      <td>48</td>\n      <td>-0.650275</td>\n      <td>0.000000</td>\n      <td>0.000000</td>\n      <td>0.000000</td>\n    </tr>\n    <tr>\n      <th>10693</th>\n      <td>Bruno</td>\n      <td>Fernando</td>\n      <td>47</td>\n      <td>-0.832522</td>\n      <td>0.000000</td>\n      <td>0.000000</td>\n      <td>0.000000</td>\n    </tr>\n    <tr>\n      <th>8872</th>\n      <td>Trent</td>\n      <td>Forrest</td>\n      <td>46</td>\n      <td>-1.014770</td>\n      <td>0.000000</td>\n      <td>0.000000</td>\n      <td>0.000000</td>\n    </tr>\n    <tr>\n      <th>11223</th>\n      <td>Seth</td>\n      <td>Lundy</td>\n      <td>45</td>\n      <td>-1.197017</td>\n      <td>0.000000</td>\n      <td>0.000000</td>\n      <td>0.000000</td>\n    </tr>\n    <tr>\n      <th>11088</th>\n      <td>Vit</td>\n      <td>Krejci</td>\n      <td>44</td>\n      <td>-1.379264</td>\n      <td>0.000000</td>\n      <td>0.000000</td>\n      <td>0.000000</td>\n    </tr>\n    <tr>\n      <th>3532</th>\n      <td>Kobe</td>\n      <td>Bufkin</td>\n      <td>39</td>\n      <td>-2.290501</td>\n      <td>0.000000</td>\n      <td>0.000000</td>\n      <td>0.000000</td>\n    </tr>\n    <tr>\n      <th>7947</th>\n      <td>Mouhamed</td>\n      <td>Gueye</td>\n      <td>36</td>\n      <td>-2.837243</td>\n      <td>0.000000</td>\n      <td>0.000000</td>\n      <td>0.000000</td>\n    </tr>\n  </tbody>\n</table>\n</div>"
     },
     "execution_count": 24,
     "metadata": {},
     "output_type": "execute_result"
    }
   ],
   "source": [
    "df[(df.season == 2024) & (df.tid == 0)].sort_values('ovr', ascending=False)[\n",
    "    ['firstName', 'lastName', 'ovr', 'vorp_pred', 'vorp_total', 'vorp_pct_cap', 'vorp_total_pct_cap']]"
   ],
   "metadata": {
    "collapsed": false,
    "ExecuteTime": {
     "end_time": "2024-03-01T19:27:13.706522Z",
     "start_time": "2024-03-01T19:27:13.694651Z"
    }
   },
   "id": "1e4e1eb595ad1219",
   "execution_count": 24
  },
  {
   "cell_type": "code",
   "outputs": [],
   "source": [
    "import plotly.express as px\n",
    "#px.scatter(df, x='ovr', y='vorp_pct_cap')\n",
    "px.scatter(df, x='ovr', y='vorp_total_pct_cap')"
   ],
   "metadata": {
    "collapsed": false,
    "ExecuteTime": {
     "end_time": "2024-03-01T19:27:58.272475Z",
     "start_time": "2024-03-01T19:27:58.054353Z"
    }
   },
   "id": "fd2248f33d90f212",
   "execution_count": 28
  },
  {
   "cell_type": "code",
   "outputs": [
    {
     "data": {
      "text/plain": "313.21912442015014"
     },
     "execution_count": 19,
     "metadata": {},
     "output_type": "execute_result"
    }
   ],
   "source": [
    "df[df.season.between(2024, 2220)].groupby('season').vorp.sum().mean()"
   ],
   "metadata": {
    "collapsed": false,
    "ExecuteTime": {
     "end_time": "2024-03-01T19:25:50.254094Z",
     "start_time": "2024-03-01T19:25:50.206611Z"
    }
   },
   "id": "e5d7e3e9eb716f6b",
   "execution_count": 19
  },
  {
   "cell_type": "code",
   "outputs": [],
   "source": [],
   "metadata": {
    "collapsed": false
   },
   "id": "2b41b1831d3329d"
  }
 ],
 "metadata": {
  "kernelspec": {
   "display_name": "Python 3",
   "language": "python",
   "name": "python3"
  },
  "language_info": {
   "codemirror_mode": {
    "name": "ipython",
    "version": 2
   },
   "file_extension": ".py",
   "mimetype": "text/x-python",
   "name": "python",
   "nbconvert_exporter": "python",
   "pygments_lexer": "ipython2",
   "version": "2.7.6"
  }
 },
 "nbformat": 4,
 "nbformat_minor": 5
}
