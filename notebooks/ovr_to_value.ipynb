{
 "cells": [
  {
   "cell_type": "code",
   "execution_count": 292,
   "id": "initial_id",
   "metadata": {
    "collapsed": true,
    "ExecuteTime": {
     "end_time": "2024-03-04T15:40:01.974635Z",
     "start_time": "2024-03-04T15:40:01.961570Z"
    }
   },
   "outputs": [],
   "source": [
    "import os\n",
    "\n",
    "os.chdir('..')\n",
    "\n",
    "import numpy as np\n",
    "import json\n",
    "\n",
    "import plotly.io as pio\n",
    "\n",
    "from apps.data import *\n",
    "\n",
    "pio.templates.default = \"plotly_dark\"\n",
    "pio.renderers.default = \"browser\""
   ]
  },
  {
   "cell_type": "code",
   "outputs": [],
   "source": [
    "UNDER_OVER = 56.064"
   ],
   "metadata": {
    "collapsed": false,
    "ExecuteTime": {
     "end_time": "2024-03-04T15:40:02.243515Z",
     "start_time": "2024-03-04T15:40:02.239820Z"
    }
   },
   "id": "eb481e69d310c427",
   "execution_count": 293
  },
  {
   "cell_type": "code",
   "outputs": [],
   "source": [
    "import re\n",
    "\n",
    "\n",
    "def get_salary_cap_events():\n",
    "    ## Load json file from downloads\n",
    "    with open('C:/Users/jrnas/Downloads/BBGM_League_1_2220_free_agency(1).json', encoding='latin') as f:\n",
    "        r_json = json.load(f)\n",
    "\n",
    "    return pd.DataFrame([(x['season'], x['text']) for x in r_json['events'] if 'An inflation rate of' in x['text']],\n",
    "                        columns=['season', 'text'])\n",
    "\n",
    "\n",
    "def extract_values(text):\n",
    "    # Pattern for inflation rate\n",
    "    inflation_pattern = r\"(\\d+(\\.\\d+)?)%\"\n",
    "    # Pattern for salary cap\n",
    "    salary_cap_pattern = r\"\\$(\\d+(\\.\\d+)?[MB]?)\"\n",
    "\n",
    "    # Search for the patterns\n",
    "    inflation_match = re.search(inflation_pattern, text)\n",
    "    salary_cap_match = re.search(salary_cap_pattern, text)\n",
    "\n",
    "    # Extract the matched values\n",
    "    inflation_rate = float(inflation_match.group(1)) if inflation_match else None\n",
    "    salary_cap = salary_cap_match.group(1) if salary_cap_match else None\n",
    "\n",
    "    return inflation_rate, salary_cap\n",
    "\n",
    "\n",
    "def convert_salary_cap(salary_cap):\n",
    "    if salary_cap.endswith('M'):\n",
    "        return float(salary_cap[:-1])\n",
    "    elif salary_cap.endswith('B'):\n",
    "        return float(salary_cap[:-1]) * 1000\n",
    "    else:\n",
    "        return None\n",
    "\n",
    "\n",
    "def get_salary_cap():\n",
    "    inf_df = get_salary_cap_events()\n",
    "    inf_df['inf_rate'], inf_df['salary_cap'] = zip(*inf_df['text'].apply(extract_values))\n",
    "    inf_df['salary_cap'] = inf_df['salary_cap'].apply(convert_salary_cap)\n",
    "    inf_df = inf_df[['season', 'inf_rate', 'salary_cap']]\n",
    "    ## Add a row for 2023\n",
    "    inf_df = pd.concat(\n",
    "        [pd.DataFrame({'season': 2023, 'inf_rate': 0, 'salary_cap': 136}, index=[0]), inf_df]).reset_index(\n",
    "        drop=True)\n",
    "    ## Set up dictionary\n",
    "    return inf_df.set_index('season').to_dict()['salary_cap']"
   ],
   "metadata": {
    "collapsed": false,
    "ExecuteTime": {
     "end_time": "2024-03-04T15:40:02.437888Z",
     "start_time": "2024-03-04T15:40:02.431201Z"
    }
   },
   "id": "abf8f87de6670972",
   "execution_count": 294
  },
  {
   "cell_type": "code",
   "outputs": [],
   "source": [
    "salary_cap = get_salary_cap()"
   ],
   "metadata": {
    "collapsed": false,
    "ExecuteTime": {
     "end_time": "2024-03-04T15:40:03.562717Z",
     "start_time": "2024-03-04T15:40:02.800991Z"
    }
   },
   "id": "1cba84fd00cba9de",
   "execution_count": 295
  },
  {
   "cell_type": "code",
   "outputs": [],
   "source": [
    "with open('C:/Users/jrnas/Downloads/BBGM_League_1_2220_free_agency.json', encoding='latin') as f:\n",
    "    r_json = json.load(f)"
   ],
   "metadata": {
    "collapsed": false,
    "ExecuteTime": {
     "end_time": "2024-03-04T15:40:12.132996Z",
     "start_time": "2024-03-04T15:40:03.616452Z"
    }
   },
   "id": "1ba2a26e3c4942fd",
   "execution_count": 296
  },
  {
   "cell_type": "code",
   "outputs": [],
   "source": [
    "df = player_json_to_df(r_json, keep=['ratings', 'stats','salaries'])"
   ],
   "metadata": {
    "collapsed": false,
    "ExecuteTime": {
     "end_time": "2024-03-04T15:46:26.635908Z",
     "start_time": "2024-03-04T15:44:33.423411Z"
    }
   },
   "id": "31a98c0a6d962c6f",
   "execution_count": 319
  },
  {
   "cell_type": "code",
   "outputs": [],
   "source": [
    "df['vorp_norm'] = (df['vorp'] / df['min']) * (32 * 82)\n",
    "df['ewa_norm'] = (df['ewa'] / df['min']) * (32 * 82)"
   ],
   "metadata": {
    "collapsed": false,
    "ExecuteTime": {
     "end_time": "2024-03-04T15:46:26.643461Z",
     "start_time": "2024-03-04T15:46:26.636923Z"
    }
   },
   "id": "51763d4ac524764f",
   "execution_count": 320
  },
  {
   "cell_type": "code",
   "outputs": [],
   "source": [
    "test_df = df[(df['min'] > 10) & (~df['vorp_norm'].isna())].reset_index(drop=True)\n",
    "test_df['vorp_norm_wt'] = test_df['vorp_norm'] * test_df['min']\n",
    "test_df['ewa_norm_wt'] = test_df['ewa_norm'] * test_df['min']\n",
    "agg_df = test_df.groupby('ovr')[['vorp_norm_wt', 'ewa_norm_wt', 'min']].sum().reset_index()\n",
    "agg_df['vorp_norm'] = agg_df['vorp_norm_wt'] / agg_df['min']\n",
    "agg_df['ewa_norm'] = agg_df['ewa_norm_wt'] / agg_df['min']"
   ],
   "metadata": {
    "collapsed": false,
    "ExecuteTime": {
     "end_time": "2024-03-04T15:46:26.706587Z",
     "start_time": "2024-03-04T15:46:26.644476Z"
    }
   },
   "id": "3438719698f7da4f",
   "execution_count": 321
  },
  {
   "cell_type": "code",
   "outputs": [
    {
     "ename": "FileNotFoundError",
     "evalue": "[Errno 2] No such file or directory: 'models/poly_under.npy'",
     "output_type": "error",
     "traceback": [
      "\u001B[1;31m---------------------------------------------------------------------------\u001B[0m",
      "\u001B[1;31mFileNotFoundError\u001B[0m                         Traceback (most recent call last)",
      "Cell \u001B[1;32mIn[322], line 25\u001B[0m\n\u001B[0;32m     18\u001B[0m df[\u001B[38;5;124m'\u001B[39m\u001B[38;5;124mewa_over\u001B[39m\u001B[38;5;124m'\u001B[39m] \u001B[38;5;241m=\u001B[39m np\u001B[38;5;241m.\u001B[39mpolyval(ewa_over, df[\u001B[38;5;124m'\u001B[39m\u001B[38;5;124movr\u001B[39m\u001B[38;5;124m'\u001B[39m])\n\u001B[0;32m     19\u001B[0m df[\u001B[38;5;124m'\u001B[39m\u001B[38;5;124mewa_pred\u001B[39m\u001B[38;5;124m'\u001B[39m] \u001B[38;5;241m=\u001B[39m np\u001B[38;5;241m.\u001B[39mwhere(\n\u001B[0;32m     20\u001B[0m     df[\u001B[38;5;124m'\u001B[39m\u001B[38;5;124movr\u001B[39m\u001B[38;5;124m'\u001B[39m] \u001B[38;5;241m<\u001B[39m\u001B[38;5;241m=\u001B[39m UNDER_OVER,\n\u001B[0;32m     21\u001B[0m     df[\u001B[38;5;124m'\u001B[39m\u001B[38;5;124mewa_under\u001B[39m\u001B[38;5;124m'\u001B[39m],\n\u001B[0;32m     22\u001B[0m     df[\u001B[38;5;124m'\u001B[39m\u001B[38;5;124mewa_over\u001B[39m\u001B[38;5;124m'\u001B[39m]\n\u001B[0;32m     23\u001B[0m )\n\u001B[1;32m---> 25\u001B[0m \u001B[43mnp\u001B[49m\u001B[38;5;241;43m.\u001B[39;49m\u001B[43msave\u001B[49m\u001B[43m(\u001B[49m\u001B[38;5;124;43m'\u001B[39;49m\u001B[38;5;124;43mmodels/poly_under.npy\u001B[39;49m\u001B[38;5;124;43m'\u001B[39;49m\u001B[43m,\u001B[49m\u001B[43m \u001B[49m\u001B[43mpoly_under\u001B[49m\u001B[43m)\u001B[49m\n\u001B[0;32m     26\u001B[0m np\u001B[38;5;241m.\u001B[39msave(\u001B[38;5;124m'\u001B[39m\u001B[38;5;124mmodels/poly_over.npy\u001B[39m\u001B[38;5;124m'\u001B[39m, poly_over)\n",
      "File \u001B[1;32m~\\anaconda3\\envs\\BBGM\\Lib\\site-packages\\numpy\\lib\\npyio.py:542\u001B[0m, in \u001B[0;36msave\u001B[1;34m(file, arr, allow_pickle, fix_imports)\u001B[0m\n\u001B[0;32m    540\u001B[0m     \u001B[38;5;28;01mif\u001B[39;00m \u001B[38;5;129;01mnot\u001B[39;00m file\u001B[38;5;241m.\u001B[39mendswith(\u001B[38;5;124m'\u001B[39m\u001B[38;5;124m.npy\u001B[39m\u001B[38;5;124m'\u001B[39m):\n\u001B[0;32m    541\u001B[0m         file \u001B[38;5;241m=\u001B[39m file \u001B[38;5;241m+\u001B[39m \u001B[38;5;124m'\u001B[39m\u001B[38;5;124m.npy\u001B[39m\u001B[38;5;124m'\u001B[39m\n\u001B[1;32m--> 542\u001B[0m     file_ctx \u001B[38;5;241m=\u001B[39m \u001B[38;5;28;43mopen\u001B[39;49m\u001B[43m(\u001B[49m\u001B[43mfile\u001B[49m\u001B[43m,\u001B[49m\u001B[43m \u001B[49m\u001B[38;5;124;43m\"\u001B[39;49m\u001B[38;5;124;43mwb\u001B[39;49m\u001B[38;5;124;43m\"\u001B[39;49m\u001B[43m)\u001B[49m\n\u001B[0;32m    544\u001B[0m \u001B[38;5;28;01mwith\u001B[39;00m file_ctx \u001B[38;5;28;01mas\u001B[39;00m fid:\n\u001B[0;32m    545\u001B[0m     arr \u001B[38;5;241m=\u001B[39m np\u001B[38;5;241m.\u001B[39masanyarray(arr)\n",
      "\u001B[1;31mFileNotFoundError\u001B[0m: [Errno 2] No such file or directory: 'models/poly_under.npy'"
     ]
    }
   ],
   "source": [
    "model_df_under = agg_df[agg_df['ovr'] <= UNDER_OVER].reset_index(drop=True)\n",
    "poly_under = np.polyfit(model_df_under['ovr'], model_df_under['vorp_norm'], 1)\n",
    "ewa_under = np.polyfit(model_df_under['ovr'], model_df_under['ewa_norm'], 1)\n",
    "\n",
    "model_df_over = agg_df[agg_df['ovr'] > UNDER_OVER].reset_index(drop=True)\n",
    "poly_over = np.polyfit(model_df_over['ovr'], model_df_over['vorp_norm'], 1)\n",
    "ewa_over = np.polyfit(model_df_over['ovr'], model_df_over['ewa_norm'], 1)\n",
    "\n",
    "df['vorp_under'] = np.polyval(poly_under, df['ovr'])\n",
    "df['vorp_over'] = np.polyval(poly_over, df['ovr'])\n",
    "df['vorp_pred'] = np.where(\n",
    "    df['ovr'] <= UNDER_OVER,\n",
    "    df['vorp_under'],\n",
    "    df['vorp_over']\n",
    ")\n",
    "\n",
    "df['ewa_under'] = np.polyval(ewa_under, df['ovr'])\n",
    "df['ewa_over'] = np.polyval(ewa_over, df['ovr'])\n",
    "df['ewa_pred'] = np.where(\n",
    "    df['ovr'] <= UNDER_OVER,\n",
    "    df['ewa_under'],\n",
    "    df['ewa_over']\n",
    ")\n",
    "\n",
    "np.save('models/poly_under.npy', poly_under)\n",
    "np.save('models/poly_over.npy', poly_over)"
   ],
   "metadata": {
    "collapsed": false,
    "ExecuteTime": {
     "end_time": "2024-03-04T15:46:26.757707Z",
     "start_time": "2024-03-04T15:46:26.707592Z"
    }
   },
   "id": "892fa998a81a39fe",
   "execution_count": 322
  },
  {
   "cell_type": "code",
   "outputs": [],
   "source": [
    "df['vorp_norm'] = (df['vorp'] / df['min']) * (32 * 82)\n",
    "df['ewa_norm'] = (df['ewa'] / df['min']) * (32 * 82)\n",
    "\n",
    "df['vorp_under'] = np.polyval(poly_under, df['ovr'])\n",
    "df['vorp_over'] = np.polyval(poly_over, df['ovr'])\n",
    "df['vorp_pred'] = np.where(\n",
    "    df['ovr'] <= UNDER_OVER,\n",
    "    df['vorp_under'],\n",
    "    df['vorp_over']\n",
    ")\n",
    "\n",
    "df['ewa_under'] = np.polyval(ewa_under, df['ovr'])\n",
    "df['ewa_over'] = np.polyval(ewa_over, df['ovr'])\n",
    "df['ewa_pred'] = np.where(\n",
    "    df['ovr'] <= UNDER_OVER,\n",
    "    df['ewa_under'],\n",
    "    df['ewa_over']\n",
    ")"
   ],
   "metadata": {
    "collapsed": false,
    "ExecuteTime": {
     "start_time": "2024-03-04T15:46:26.758716Z"
    }
   },
   "id": "d9c8055047753a4a",
   "execution_count": null
  },
  {
   "cell_type": "code",
   "outputs": [],
   "source": [
    "df['cvorp'] = df['vorp'].clip(0, )\n",
    "df['vorp_pct'] = df['vorp_pred'].clip(0, ) / df[df.season.between(2024, 2220)].groupby('season').vorp.sum().mean()\n",
    "df['vorp_pct_cap'] = df['vorp_pct'] * 30"
   ],
   "metadata": {
    "collapsed": false,
    "ExecuteTime": {
     "end_time": "2024-03-04T15:46:36.601272Z",
     "start_time": "2024-03-04T15:46:36.544991Z"
    }
   },
   "id": "e24ec4e1b9e87644",
   "execution_count": 323
  },
  {
   "cell_type": "code",
   "outputs": [],
   "source": [
    "def predict_minutes(ovr):\n",
    "    # =6.6208*LN(A2) - 26.515\n",
    "    pred_ini = 6.6208 * np.log(ovr) - 26.515\n",
    "    pred_inverse = 1 / (1 + np.exp(-pred_ini))\n",
    "    pred_final = 3000 * pred_inverse\n",
    "    return pred_final"
   ],
   "metadata": {
    "collapsed": false,
    "ExecuteTime": {
     "end_time": "2024-03-04T15:46:37.243635Z",
     "start_time": "2024-03-04T15:46:37.239756Z"
    }
   },
   "id": "4fa7d53707a9a33",
   "execution_count": 324
  },
  {
   "cell_type": "code",
   "outputs": [],
   "source": [
    "df['min_pred'] = df['ovr'].apply(predict_minutes)\n",
    "df['vorp_total'] = df['vorp_pred'].clip(0, ) * df['min_pred'] / 82 / 32\n",
    "df['vorp_total_pct'] = df['vorp_total'] / df[df.season.between(2024, 2220)].groupby('season').vorp.sum().mean()\n",
    "df['vorp_total_pct_cap'] = df['vorp_total_pct'] * 30"
   ],
   "metadata": {
    "collapsed": false,
    "ExecuteTime": {
     "end_time": "2024-03-04T15:46:37.972645Z",
     "start_time": "2024-03-04T15:46:37.641229Z"
    }
   },
   "id": "e452eb196b42c5ab",
   "execution_count": 325
  },
  {
   "cell_type": "code",
   "outputs": [],
   "source": [
    "df['player_rank'] = df[df.tid > 0].groupby('season').ovr.transform('rank', ascending=False, method='first').astype(\n",
    "    'int64[pyarrow]')"
   ],
   "metadata": {
    "collapsed": false,
    "ExecuteTime": {
     "end_time": "2024-03-04T15:46:38.071103Z",
     "start_time": "2024-03-04T15:46:38.010688Z"
    }
   },
   "id": "ddbc7625dd90bf67",
   "execution_count": 326
  },
  {
   "cell_type": "code",
   "outputs": [],
   "source": [
    "player_ranks = [x for x in range(15, 15 * 30, 30)]"
   ],
   "metadata": {
    "collapsed": false,
    "ExecuteTime": {
     "end_time": "2024-03-04T15:46:38.452645Z",
     "start_time": "2024-03-04T15:46:38.448971Z"
    }
   },
   "id": "c569dcd45e1f5920",
   "execution_count": 327
  },
  {
   "cell_type": "code",
   "outputs": [],
   "source": [
    "team_df = pd.DataFrame(columns=['ovr', 'vorp_pred', 'min_pred'])"
   ],
   "metadata": {
    "collapsed": false,
    "ExecuteTime": {
     "end_time": "2024-03-04T15:46:38.763692Z",
     "start_time": "2024-03-04T15:46:38.759522Z"
    }
   },
   "id": "4b439c1991067eea",
   "execution_count": 328
  },
  {
   "cell_type": "code",
   "outputs": [],
   "source": [
    "df = df.drop_duplicates(['pid','season'], keep='last').reset_index(drop=True)"
   ],
   "metadata": {
    "collapsed": false,
    "ExecuteTime": {
     "end_time": "2024-03-04T15:46:39.261392Z",
     "start_time": "2024-03-04T15:46:39.163685Z"
    }
   },
   "id": "e6796c40c1c63134",
   "execution_count": 329
  },
  {
   "cell_type": "code",
   "outputs": [],
   "source": [
    "for i in player_ranks:\n",
    "    step_df = df[(df.season.between(2024, 2200)) & (df.player_rank == i)][\n",
    "        ['ovr', 'vorp_pred', 'min_pred']].mean().reset_index().T.tail(1).rename(\n",
    "        columns={0: 'ovr', 1: 'vorp_pred', 2: 'min_pred'})\n",
    "    team_df = pd.concat([team_df, step_df], ignore_index=True)"
   ],
   "metadata": {
    "collapsed": false,
    "ExecuteTime": {
     "end_time": "2024-03-04T15:46:39.514113Z",
     "start_time": "2024-03-04T15:46:39.448142Z"
    }
   },
   "id": "55e7384b64346e64",
   "execution_count": 330
  },
  {
   "cell_type": "code",
   "outputs": [],
   "source": [
    "df['v1'] = np.where(df.ovr >= 55, 0.0059 * df['ovr'] ** 2 - 0.2886 * df['ovr'] - 2.4429, 0).clip(0, )\n",
    "df['v1_cap'] = 30 * df['v1'] / df.groupby('season')['v1'].transform('sum')\n",
    "\n",
    "df['v2'] = df['vorp_pred'].clip(0, )\n",
    "df['v2_cap'] = 30 * df['v2'] / df.groupby('season')['v2'].transform('sum')\n",
    "\n",
    "df['v3'] = df['vorp_total'].clip(0, )\n",
    "df['v3_cap'] = 30 * df['v3'] / df.groupby('season')['v3'].transform('sum')\n",
    "\n",
    "df['v3'] = df['vorp_total'].clip(0, )\n",
    "df['v3_cap'] = 30 * df['v3'] / df.groupby('season')['v3'].transform('sum')\n",
    "df['v3_cap_new'] = 30 * df['v3'] / df[df.season.between(2024, 2220)].groupby('season').vorp.sum().mean()"
   ],
   "metadata": {
    "collapsed": false,
    "ExecuteTime": {
     "end_time": "2024-03-04T15:46:40.022654Z",
     "start_time": "2024-03-04T15:46:39.935626Z"
    }
   },
   "id": "66611d157b30e254",
   "execution_count": 331
  },
  {
   "cell_type": "code",
   "outputs": [
    {
     "data": {
      "text/plain": "308.74735028974266"
     },
     "execution_count": 347,
     "metadata": {},
     "output_type": "execute_result"
    }
   ],
   "source": [
    "df[df.season.between(2050, 2220)].groupby('season').vorp.sum().mean()"
   ],
   "metadata": {
    "collapsed": false,
    "ExecuteTime": {
     "end_time": "2024-03-04T15:55:51.679898Z",
     "start_time": "2024-03-04T15:55:51.632684Z"
    }
   },
   "id": "56834ea5ffb0d586",
   "execution_count": 347
  },
  {
   "cell_type": "code",
   "outputs": [
    {
     "data": {
      "text/plain": "309.00924055899424"
     },
     "execution_count": 349,
     "metadata": {},
     "output_type": "execute_result"
    }
   ],
   "source": [
    "df[df.season.between(2024, 2220)].groupby('season').v3.sum().mean()"
   ],
   "metadata": {
    "collapsed": false,
    "ExecuteTime": {
     "end_time": "2024-03-04T15:56:02.195216Z",
     "start_time": "2024-03-04T15:56:02.143481Z"
    }
   },
   "id": "2e2a4dc9514c6d42",
   "execution_count": 349
  },
  {
   "cell_type": "code",
   "outputs": [
    {
     "data": {
      "text/plain": "1.9818266440900922"
     },
     "execution_count": 332,
     "metadata": {},
     "output_type": "execute_result"
    }
   ],
   "source": [
    "df[(df.season.between(2024, 2220)) & (df.lastName == 'Lively II')].groupby('season').vorp.sum().mean()"
   ],
   "metadata": {
    "collapsed": false,
    "ExecuteTime": {
     "end_time": "2024-03-04T15:46:40.814477Z",
     "start_time": "2024-03-04T15:46:40.806931Z"
    }
   },
   "id": "74f96aa03f28c25",
   "execution_count": 332
  },
  {
   "cell_type": "code",
   "outputs": [
    {
     "data": {
      "text/plain": "    firstName   lastName  tid  ovr      v1        v2        v3    v1_cap  \\\n603    Dereck  Lively II    6   58  0.6659  1.395021  0.942704  0.045517   \n604    Dereck  Lively II    6   63  2.7924  3.584332  2.926745  0.197833   \n605    Dereck  Lively II    6   67  4.7060  5.335780  4.817768  0.334361   \n606    Dereck  Lively II    6   68  5.2139  5.773642  5.317578  0.385646   \n607    Dereck  Lively II    6   69  5.7336  6.211505  5.825197  0.442754   \n608    Dereck  Lively II    6   70  6.2651  6.649367  6.339361  0.467667   \n609    Dereck  Lively II    6   70  6.2651  6.649367  6.339361  0.472917   \n610    Dereck  Lively II    6   73  7.9304  7.962953  7.910460  0.612994   \n611    Dereck  Lively II    6   69  5.7336  6.211505  5.825197  0.465660   \n612    Dereck  Lively II    6   71  6.8084  7.087229  6.858939  0.546648   \n\n       v2_cap    v3_cap  v3_cap_new  \n603  0.065394  0.055196    0.091555  \n604  0.176231  0.178995    0.284244  \n605  0.266970  0.298494    0.467899  \n606  0.300565  0.342147    0.516441  \n607  0.337388  0.389918    0.565740  \n608  0.359501  0.417001    0.615676  \n609  0.365797  0.420556    0.615676  \n610  0.446887  0.535179    0.768260  \n611  0.363299  0.412795    0.565740  \n612  0.410204  0.479308    0.666137  ",
      "text/html": "<div>\n<style scoped>\n    .dataframe tbody tr th:only-of-type {\n        vertical-align: middle;\n    }\n\n    .dataframe tbody tr th {\n        vertical-align: top;\n    }\n\n    .dataframe thead th {\n        text-align: right;\n    }\n</style>\n<table border=\"1\" class=\"dataframe\">\n  <thead>\n    <tr style=\"text-align: right;\">\n      <th></th>\n      <th>firstName</th>\n      <th>lastName</th>\n      <th>tid</th>\n      <th>ovr</th>\n      <th>v1</th>\n      <th>v2</th>\n      <th>v3</th>\n      <th>v1_cap</th>\n      <th>v2_cap</th>\n      <th>v3_cap</th>\n      <th>v3_cap_new</th>\n    </tr>\n  </thead>\n  <tbody>\n    <tr>\n      <th>603</th>\n      <td>Dereck</td>\n      <td>Lively II</td>\n      <td>6</td>\n      <td>58</td>\n      <td>0.6659</td>\n      <td>1.395021</td>\n      <td>0.942704</td>\n      <td>0.045517</td>\n      <td>0.065394</td>\n      <td>0.055196</td>\n      <td>0.091555</td>\n    </tr>\n    <tr>\n      <th>604</th>\n      <td>Dereck</td>\n      <td>Lively II</td>\n      <td>6</td>\n      <td>63</td>\n      <td>2.7924</td>\n      <td>3.584332</td>\n      <td>2.926745</td>\n      <td>0.197833</td>\n      <td>0.176231</td>\n      <td>0.178995</td>\n      <td>0.284244</td>\n    </tr>\n    <tr>\n      <th>605</th>\n      <td>Dereck</td>\n      <td>Lively II</td>\n      <td>6</td>\n      <td>67</td>\n      <td>4.7060</td>\n      <td>5.335780</td>\n      <td>4.817768</td>\n      <td>0.334361</td>\n      <td>0.266970</td>\n      <td>0.298494</td>\n      <td>0.467899</td>\n    </tr>\n    <tr>\n      <th>606</th>\n      <td>Dereck</td>\n      <td>Lively II</td>\n      <td>6</td>\n      <td>68</td>\n      <td>5.2139</td>\n      <td>5.773642</td>\n      <td>5.317578</td>\n      <td>0.385646</td>\n      <td>0.300565</td>\n      <td>0.342147</td>\n      <td>0.516441</td>\n    </tr>\n    <tr>\n      <th>607</th>\n      <td>Dereck</td>\n      <td>Lively II</td>\n      <td>6</td>\n      <td>69</td>\n      <td>5.7336</td>\n      <td>6.211505</td>\n      <td>5.825197</td>\n      <td>0.442754</td>\n      <td>0.337388</td>\n      <td>0.389918</td>\n      <td>0.565740</td>\n    </tr>\n    <tr>\n      <th>608</th>\n      <td>Dereck</td>\n      <td>Lively II</td>\n      <td>6</td>\n      <td>70</td>\n      <td>6.2651</td>\n      <td>6.649367</td>\n      <td>6.339361</td>\n      <td>0.467667</td>\n      <td>0.359501</td>\n      <td>0.417001</td>\n      <td>0.615676</td>\n    </tr>\n    <tr>\n      <th>609</th>\n      <td>Dereck</td>\n      <td>Lively II</td>\n      <td>6</td>\n      <td>70</td>\n      <td>6.2651</td>\n      <td>6.649367</td>\n      <td>6.339361</td>\n      <td>0.472917</td>\n      <td>0.365797</td>\n      <td>0.420556</td>\n      <td>0.615676</td>\n    </tr>\n    <tr>\n      <th>610</th>\n      <td>Dereck</td>\n      <td>Lively II</td>\n      <td>6</td>\n      <td>73</td>\n      <td>7.9304</td>\n      <td>7.962953</td>\n      <td>7.910460</td>\n      <td>0.612994</td>\n      <td>0.446887</td>\n      <td>0.535179</td>\n      <td>0.768260</td>\n    </tr>\n    <tr>\n      <th>611</th>\n      <td>Dereck</td>\n      <td>Lively II</td>\n      <td>6</td>\n      <td>69</td>\n      <td>5.7336</td>\n      <td>6.211505</td>\n      <td>5.825197</td>\n      <td>0.465660</td>\n      <td>0.363299</td>\n      <td>0.412795</td>\n      <td>0.565740</td>\n    </tr>\n    <tr>\n      <th>612</th>\n      <td>Dereck</td>\n      <td>Lively II</td>\n      <td>6</td>\n      <td>71</td>\n      <td>6.8084</td>\n      <td>7.087229</td>\n      <td>6.858939</td>\n      <td>0.546648</td>\n      <td>0.410204</td>\n      <td>0.479308</td>\n      <td>0.666137</td>\n    </tr>\n  </tbody>\n</table>\n</div>"
     },
     "execution_count": 333,
     "metadata": {},
     "output_type": "execute_result"
    }
   ],
   "source": [
    "df[(df.season.between(2024, 2220)) & (df.lastName == 'Lively II')][\n",
    "    ['firstName', 'lastName', 'tid', 'ovr', 'v1', 'v2', 'v3', 'v1_cap', 'v2_cap', 'v3_cap','v3_cap_new']].head(10)"
   ],
   "metadata": {
    "collapsed": false,
    "ExecuteTime": {
     "end_time": "2024-03-04T15:46:41.533599Z",
     "start_time": "2024-03-04T15:46:41.521395Z"
    }
   },
   "id": "a4100883ee1900d0",
   "execution_count": 333
  },
  {
   "cell_type": "code",
   "outputs": [],
   "source": [
    "df['cap_hit'] = df['salary'] / df['season'].map(salary_cap) / 1000"
   ],
   "metadata": {
    "collapsed": false,
    "ExecuteTime": {
     "end_time": "2024-03-04T15:47:04.681762Z",
     "start_time": "2024-03-04T15:47:04.673845Z"
    }
   },
   "id": "e013cab45a7ca9b2",
   "execution_count": 336
  },
  {
   "cell_type": "code",
   "outputs": [],
   "source": [
    "model_df = df[(df['min'] > 100)][['v3_cap_new','vorp_total']].dropna()\n",
    "model = np.polyfit(model_df['v3_cap_new'], model_df['vorp_total'], 1)\n",
    "df['vorp_exp'] = np.polyval(model, df['cap_hit'])"
   ],
   "metadata": {
    "collapsed": false,
    "ExecuteTime": {
     "end_time": "2024-03-04T15:47:17.578690Z",
     "start_time": "2024-03-04T15:47:17.537092Z"
    }
   },
   "id": "5432f4a4bd06b15a",
   "execution_count": 339
  },
  {
   "cell_type": "code",
   "outputs": [],
   "source": [
    "import plotly.express as px\n",
    "px.scatter(\n",
    "    df[(df.season.between(2024, 2220)) & (df.tid > 0)],\n",
    "    x='v3_cap_new',\n",
    "    y='vorp_total'\n",
    ")"
   ],
   "metadata": {
    "collapsed": false,
    "ExecuteTime": {
     "end_time": "2024-03-04T15:42:41.401012Z",
     "start_time": "2024-03-04T15:42:40.808910Z"
    }
   },
   "id": "b991204455dad8bf",
   "execution_count": 317
  },
  {
   "cell_type": "code",
   "outputs": [],
   "source": [],
   "metadata": {
    "collapsed": false
   },
   "id": "dfd95884111d2d9f"
  }
 ],
 "metadata": {
  "kernelspec": {
   "display_name": "Python 3",
   "language": "python",
   "name": "python3"
  },
  "language_info": {
   "codemirror_mode": {
    "name": "ipython",
    "version": 2
   },
   "file_extension": ".py",
   "mimetype": "text/x-python",
   "name": "python",
   "nbconvert_exporter": "python",
   "pygments_lexer": "ipython2",
   "version": "2.7.6"
  }
 },
 "nbformat": 4,
 "nbformat_minor": 5
}
