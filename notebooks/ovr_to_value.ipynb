{
 "cells": [
  {
   "cell_type": "code",
   "execution_count": 1,
   "id": "initial_id",
   "metadata": {
    "collapsed": true,
    "ExecuteTime": {
     "end_time": "2024-02-27T15:36:39.461272900Z",
     "start_time": "2024-02-27T15:36:39.304218400Z"
    }
   },
   "outputs": [],
   "source": [
    "import numpy as np\n",
    "import pandas as pd\n",
    "from tqdm import tqdm\n",
    "import json\n",
    "\n",
    "import plotly.io as pio\n",
    "import yaml\n",
    "import sys\n",
    "\n",
    "sys.path.append(\"..\")\n",
    "\n",
    "from utils.calcs import ovr_to_vorp\n",
    "#from utils.data import json_to_df\n",
    "\n",
    "pio.templates.default = \"plotly_dark\"\n",
    "pio.renderers.default = \"browser\""
   ]
  },
  {
   "cell_type": "code",
   "outputs": [],
   "source": [
    "## Load ../params.yaml\n",
    "with open('../params.yaml') as f:\n",
    "    params = yaml.safe_load(f)"
   ],
   "metadata": {
    "collapsed": false,
    "ExecuteTime": {
     "end_time": "2024-02-27T15:36:39.466065700Z",
     "start_time": "2024-02-27T15:36:39.461272900Z"
    }
   },
   "id": "649d6558551b2180",
   "execution_count": 2
  },
  {
   "cell_type": "code",
   "outputs": [],
   "source": [
    "UNDER_OVER = params['UNDER_OVER']"
   ],
   "metadata": {
    "collapsed": false,
    "ExecuteTime": {
     "end_time": "2024-02-27T15:36:39.474777900Z",
     "start_time": "2024-02-27T15:36:39.465065200Z"
    }
   },
   "id": "eb481e69d310c427",
   "execution_count": 3
  },
  {
   "cell_type": "code",
   "outputs": [],
   "source": [
    "with open('C:/Users/jrnas/Downloads/BBGM_League_1_2220_free_agency.json', encoding='latin') as f:\n",
    "    r_json = json.load(f)"
   ],
   "metadata": {
    "collapsed": false,
    "ExecuteTime": {
     "end_time": "2024-02-27T15:36:47.069543100Z",
     "start_time": "2024-02-27T15:36:39.475811600Z"
    }
   },
   "id": "1ba2a26e3c4942fd",
   "execution_count": 4
  },
  {
   "cell_type": "code",
   "outputs": [
    {
     "name": "stderr",
     "output_type": "stream",
     "text": [
      "100%|██████████| 14724/14724 [00:00<00:00, 25403.57it/s]\n"
     ]
    }
   ],
   "source": [
    "# Initialize an empty list to store the data\n",
    "data = []\n",
    "\n",
    "# Iterate over the list of players\n",
    "for player in tqdm(r_json['players']):\n",
    "    # Iterate over the ratings of the current player\n",
    "    for rating in player['stats']:\n",
    "        # Create a new dictionary that includes 'pid', 'firstName', 'lastName' and the rating\n",
    "        row = {\n",
    "            'pid': player['pid']\n",
    "        }\n",
    "        row.update(rating)\n",
    "        # Append the dictionary to the list\n",
    "        data.append(row)\n",
    "\n",
    "# Convert the list of dictionaries to a DataFrame\n",
    "stats_df = (\n",
    "    pd.DataFrame(data)\n",
    "    .convert_dtypes(dtype_backend='pyarrow')\n",
    ")\n",
    "\n",
    "stats_df = stats_df[(stats_df.season.between(2024, 2220)) & (stats_df.playoffs == False)].reset_index(drop=True)"
   ],
   "metadata": {
    "collapsed": false,
    "ExecuteTime": {
     "end_time": "2024-02-27T15:36:50.261518100Z",
     "start_time": "2024-02-27T15:36:47.070608700Z"
    }
   },
   "id": "f294ca8b2e190cbf",
   "execution_count": 5
  },
  {
   "cell_type": "code",
   "outputs": [
    {
     "name": "stderr",
     "output_type": "stream",
     "text": [
      "100%|██████████| 14724/14724 [00:00<00:00, 74350.58it/s]\n"
     ]
    }
   ],
   "source": [
    "# Initialize an empty list to store the data\n",
    "data = []\n",
    "\n",
    "# Iterate over the list of players\n",
    "for player in tqdm(r_json['players']):\n",
    "    # Iterate over the ratings of the current player\n",
    "    for rating in player['ratings']:\n",
    "        # Create a new dictionary that includes 'pid', 'firstName', 'lastName' and the rating\n",
    "        row = {\n",
    "            'pid': player['pid'],\n",
    "            'firstName': player['firstName'],\n",
    "            'lastName': player['lastName'],\n",
    "            'born': player['born']['year'],\n",
    "        }\n",
    "        row.update(rating)\n",
    "        # Append the dictionary to the list\n",
    "        data.append(row)\n",
    "\n",
    "# Convert the list of dictionaries to a DataFrame\n",
    "ratings_df = (\n",
    "    pd.DataFrame(data)\n",
    "    .convert_dtypes(dtype_backend='pyarrow')\n",
    "    .astype({'skills': 'string[pyarrow]'})\n",
    "    .assign(\n",
    "        age=lambda x: x.season - x.born,\n",
    "    )\n",
    ")\n",
    "\n",
    "ratings_df = ratings_df[ratings_df.season.between(2024, 2220)].reset_index(drop=True)"
   ],
   "metadata": {
    "collapsed": false,
    "ExecuteTime": {
     "end_time": "2024-02-27T15:36:51.249090100Z",
     "start_time": "2024-02-27T15:36:50.263893100Z"
    }
   },
   "id": "93d4e231782f3426",
   "execution_count": 6
  },
  {
   "cell_type": "code",
   "outputs": [],
   "source": [
    "df = ratings_df.merge(\n",
    "    stats_df[['pid', 'season', 'tid', 'gp', 'gs', 'min', 'usgp', 'ortg', 'drtg', 'obpm', 'dbpm', 'ows', 'dws', 'vorp',\n",
    "              'ewa']],\n",
    "    on=['pid', 'season'], how='left')"
   ],
   "metadata": {
    "collapsed": false,
    "ExecuteTime": {
     "end_time": "2024-02-27T15:36:51.332652800Z",
     "start_time": "2024-02-27T15:36:51.250126700Z"
    }
   },
   "id": "f5395c396b335e5",
   "execution_count": 7
  },
  {
   "cell_type": "code",
   "outputs": [],
   "source": [
    "df['vorp_norm'] = (df['vorp'] / df['min']) * (32 * 82)"
   ],
   "metadata": {
    "collapsed": false,
    "ExecuteTime": {
     "end_time": "2024-02-27T00:28:49.376937500Z",
     "start_time": "2024-02-27T00:28:49.369292300Z"
    }
   },
   "id": "51763d4ac524764f",
   "execution_count": 23
  },
  {
   "cell_type": "code",
   "outputs": [],
   "source": [
    "test_df = df[(df['min'] > 10) & (~df['vorp_norm'].isna())].reset_index(drop=True)\n",
    "test_df['vorp_norm_wt'] = test_df['vorp_norm'] * test_df['min']\n",
    "agg_df = test_df.groupby('ovr')[['vorp_norm_wt', 'min']].sum().reset_index()\n",
    "agg_df['vorp_norm'] = agg_df['vorp_norm_wt'] / agg_df['min']"
   ],
   "metadata": {
    "collapsed": false,
    "ExecuteTime": {
     "end_time": "2024-02-27T00:28:49.480170100Z",
     "start_time": "2024-02-27T00:28:49.375863400Z"
    }
   },
   "id": "3438719698f7da4f",
   "execution_count": 24
  },
  {
   "cell_type": "code",
   "outputs": [],
   "source": [
    "model_df_under = agg_df[agg_df['ovr'] <= UNDER_OVER].reset_index(drop=True)\n",
    "poly_under = np.polyfit(model_df_under['ovr'], model_df_under['vorp_norm'], 1)\n",
    "\n",
    "model_df_over = agg_df[agg_df['ovr'] > UNDER_OVER].reset_index(drop=True)\n",
    "poly_over = np.polyfit(model_df_over['ovr'], model_df_over['vorp_norm'], 1)\n",
    "\n",
    "df['vorp_under'] = np.polyval(poly_under, df['ovr'])\n",
    "df['vorp_over'] = np.polyval(poly_over, df['ovr'])\n",
    "df['vorp_pred'] = np.where(\n",
    "    df['ovr'] <= UNDER_OVER,\n",
    "    df['vorp_under'],\n",
    "    df['vorp_over']\n",
    ")\n",
    "\n",
    "np.save('../models/poly_under.npy', poly_under)\n",
    "np.save('../models/poly_over.npy', poly_over)"
   ],
   "metadata": {
    "collapsed": false,
    "ExecuteTime": {
     "end_time": "2024-02-27T00:28:49.498252100Z",
     "start_time": "2024-02-27T00:28:49.483601200Z"
    }
   },
   "id": "892fa998a81a39fe",
   "execution_count": 25
  },
  {
   "cell_type": "code",
   "outputs": [],
   "source": [
    "df['cvorp'] = df['vorp'].clip(0, )\n",
    "df['vorp_pct'] = df['vorp_pred'].clip(0, ) / df.groupby('season').cvorp.sum().mean()\n",
    "df['vorp_pct_cap'] = df['vorp_pct'] * 30"
   ],
   "metadata": {
    "collapsed": false,
    "ExecuteTime": {
     "end_time": "2024-02-27T00:28:49.521082200Z",
     "start_time": "2024-02-27T00:28:49.499397Z"
    }
   },
   "id": "e24ec4e1b9e87644",
   "execution_count": 26
  },
  {
   "cell_type": "code",
   "outputs": [
    {
     "data": {
      "text/plain": "     season  ovr      vorp  vorp_pred  vorp_pct  vorp_pct_cap\n218    2024   62  2.181748   3.387400  0.007813      0.234381\n219    2025   64  2.961489   4.275119  0.009860      0.295804\n220    2026   68   5.27007   6.050555  0.013955      0.418650\n221    2027   66  4.283094   5.162837  0.011908      0.357227\n222    2028   66  3.744058   5.162837  0.011908      0.357227\n223    2029   64  3.915604   4.275119  0.009860      0.295804\n224    2030   66  3.503258   5.162837  0.011908      0.357227\n225    2031   64  3.632496   4.275119  0.009860      0.295804\n226    2032   61   2.85734   2.943541  0.006789      0.203669\n227    2033   60  2.083465   2.499682  0.005765      0.172958\n228    2034   58  1.564758   1.611964  0.003718      0.111535\n229    2035   54  1.035762   0.382287  0.000882      0.026451\n230    2036   46  0.257225  -1.060873  0.000000      0.000000\n231    2037   41  0.068664  -1.962848  0.000000      0.000000\n232    2038   43  0.245227  -1.602058  0.000000      0.000000\n233    2039   37      <NA>  -2.684428  0.000000      0.000000\n234    2040   33      <NA>  -3.406008  0.000000      0.000000",
      "text/html": "<div>\n<style scoped>\n    .dataframe tbody tr th:only-of-type {\n        vertical-align: middle;\n    }\n\n    .dataframe tbody tr th {\n        vertical-align: top;\n    }\n\n    .dataframe thead th {\n        text-align: right;\n    }\n</style>\n<table border=\"1\" class=\"dataframe\">\n  <thead>\n    <tr style=\"text-align: right;\">\n      <th></th>\n      <th>season</th>\n      <th>ovr</th>\n      <th>vorp</th>\n      <th>vorp_pred</th>\n      <th>vorp_pct</th>\n      <th>vorp_pct_cap</th>\n    </tr>\n  </thead>\n  <tbody>\n    <tr>\n      <th>218</th>\n      <td>2024</td>\n      <td>62</td>\n      <td>2.181748</td>\n      <td>3.387400</td>\n      <td>0.007813</td>\n      <td>0.234381</td>\n    </tr>\n    <tr>\n      <th>219</th>\n      <td>2025</td>\n      <td>64</td>\n      <td>2.961489</td>\n      <td>4.275119</td>\n      <td>0.009860</td>\n      <td>0.295804</td>\n    </tr>\n    <tr>\n      <th>220</th>\n      <td>2026</td>\n      <td>68</td>\n      <td>5.27007</td>\n      <td>6.050555</td>\n      <td>0.013955</td>\n      <td>0.418650</td>\n    </tr>\n    <tr>\n      <th>221</th>\n      <td>2027</td>\n      <td>66</td>\n      <td>4.283094</td>\n      <td>5.162837</td>\n      <td>0.011908</td>\n      <td>0.357227</td>\n    </tr>\n    <tr>\n      <th>222</th>\n      <td>2028</td>\n      <td>66</td>\n      <td>3.744058</td>\n      <td>5.162837</td>\n      <td>0.011908</td>\n      <td>0.357227</td>\n    </tr>\n    <tr>\n      <th>223</th>\n      <td>2029</td>\n      <td>64</td>\n      <td>3.915604</td>\n      <td>4.275119</td>\n      <td>0.009860</td>\n      <td>0.295804</td>\n    </tr>\n    <tr>\n      <th>224</th>\n      <td>2030</td>\n      <td>66</td>\n      <td>3.503258</td>\n      <td>5.162837</td>\n      <td>0.011908</td>\n      <td>0.357227</td>\n    </tr>\n    <tr>\n      <th>225</th>\n      <td>2031</td>\n      <td>64</td>\n      <td>3.632496</td>\n      <td>4.275119</td>\n      <td>0.009860</td>\n      <td>0.295804</td>\n    </tr>\n    <tr>\n      <th>226</th>\n      <td>2032</td>\n      <td>61</td>\n      <td>2.85734</td>\n      <td>2.943541</td>\n      <td>0.006789</td>\n      <td>0.203669</td>\n    </tr>\n    <tr>\n      <th>227</th>\n      <td>2033</td>\n      <td>60</td>\n      <td>2.083465</td>\n      <td>2.499682</td>\n      <td>0.005765</td>\n      <td>0.172958</td>\n    </tr>\n    <tr>\n      <th>228</th>\n      <td>2034</td>\n      <td>58</td>\n      <td>1.564758</td>\n      <td>1.611964</td>\n      <td>0.003718</td>\n      <td>0.111535</td>\n    </tr>\n    <tr>\n      <th>229</th>\n      <td>2035</td>\n      <td>54</td>\n      <td>1.035762</td>\n      <td>0.382287</td>\n      <td>0.000882</td>\n      <td>0.026451</td>\n    </tr>\n    <tr>\n      <th>230</th>\n      <td>2036</td>\n      <td>46</td>\n      <td>0.257225</td>\n      <td>-1.060873</td>\n      <td>0.000000</td>\n      <td>0.000000</td>\n    </tr>\n    <tr>\n      <th>231</th>\n      <td>2037</td>\n      <td>41</td>\n      <td>0.068664</td>\n      <td>-1.962848</td>\n      <td>0.000000</td>\n      <td>0.000000</td>\n    </tr>\n    <tr>\n      <th>232</th>\n      <td>2038</td>\n      <td>43</td>\n      <td>0.245227</td>\n      <td>-1.602058</td>\n      <td>0.000000</td>\n      <td>0.000000</td>\n    </tr>\n    <tr>\n      <th>233</th>\n      <td>2039</td>\n      <td>37</td>\n      <td>&lt;NA&gt;</td>\n      <td>-2.684428</td>\n      <td>0.000000</td>\n      <td>0.000000</td>\n    </tr>\n    <tr>\n      <th>234</th>\n      <td>2040</td>\n      <td>33</td>\n      <td>&lt;NA&gt;</td>\n      <td>-3.406008</td>\n      <td>0.000000</td>\n      <td>0.000000</td>\n    </tr>\n  </tbody>\n</table>\n</div>"
     },
     "execution_count": 29,
     "metadata": {},
     "output_type": "execute_result"
    }
   ],
   "source": [
    "df[df.lastName == 'Wembanyama'][['season', 'ovr', 'vorp', 'vorp_pred', 'vorp_pct', 'vorp_pct_cap']]"
   ],
   "metadata": {
    "collapsed": false,
    "ExecuteTime": {
     "end_time": "2024-02-27T00:29:05.293715900Z",
     "start_time": "2024-02-27T00:29:05.267285400Z"
    }
   },
   "id": "82327854fcdba53d",
   "execution_count": 29
  },
  {
   "cell_type": "code",
   "outputs": [],
   "source": [],
   "metadata": {
    "collapsed": false,
    "ExecuteTime": {
     "end_time": "2024-02-27T00:28:49.539379500Z",
     "start_time": "2024-02-27T00:28:49.524222600Z"
    }
   },
   "id": "2567b81568d671b1",
   "execution_count": 27
  }
 ],
 "metadata": {
  "kernelspec": {
   "display_name": "Python 3",
   "language": "python",
   "name": "python3"
  },
  "language_info": {
   "codemirror_mode": {
    "name": "ipython",
    "version": 2
   },
   "file_extension": ".py",
   "mimetype": "text/x-python",
   "name": "python",
   "nbconvert_exporter": "python",
   "pygments_lexer": "ipython2",
   "version": "2.7.6"
  }
 },
 "nbformat": 4,
 "nbformat_minor": 5
}
