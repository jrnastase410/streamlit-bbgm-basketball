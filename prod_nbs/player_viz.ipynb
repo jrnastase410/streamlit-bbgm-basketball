{
 "cells": [
  {
   "cell_type": "code",
   "execution_count": 8,
   "id": "initial_id",
   "metadata": {
    "collapsed": true,
    "ExecuteTime": {
     "end_time": "2024-02-27T18:42:47.673385100Z",
     "start_time": "2024-02-27T18:42:47.656276600Z"
    }
   },
   "outputs": [],
   "source": [
    "import numpy as np\n",
    "import pandas as pd\n",
    "import json\n",
    "\n",
    "import plotly.io as pio\n",
    "import sys\n",
    "\n",
    "sys.path.append(\"..\")\n",
    "\n",
    "from utils.calcs import *\n",
    "from utils.data import player_json_to_df\n",
    "import plotly.graph_objects as go\n",
    "\n",
    "pio.templates.default = \"plotly_dark\"\n",
    "pio.renderers.default = \"browser\""
   ]
  },
  {
   "cell_type": "code",
   "outputs": [],
   "source": [
    "with open('C:/Users/jrnas/Downloads/BBGM_League_2_2024_preseason.json', encoding='latin') as f:\n",
    "    r_json = json.load(f)\n",
    "\n",
    "df = player_json_to_df(r_json)"
   ],
   "metadata": {
    "collapsed": false,
    "ExecuteTime": {
     "end_time": "2024-02-27T18:42:19.864199300Z",
     "start_time": "2024-02-27T18:42:19.366751700Z"
    }
   },
   "id": "fa9177ea5f86aa6",
   "execution_count": 2
  },
  {
   "cell_type": "code",
   "outputs": [],
   "source": [
    "def compute_kde_percentile_fast(x_values, y_values, percentile):\n",
    "    # Calculate the cumulative sum of the y_values\n",
    "    cumulative_sum = np.cumsum(y_values)\n",
    "\n",
    "    # Find the index where the cumulative sum is just greater than or equal to the desired percentile\n",
    "    index = np.searchsorted(cumulative_sum, percentile)\n",
    "\n",
    "    # Return the corresponding x_value at this index\n",
    "    return x_values[index]"
   ],
   "metadata": {
    "collapsed": false,
    "ExecuteTime": {
     "end_time": "2024-02-27T18:42:19.869995100Z",
     "start_time": "2024-02-27T18:42:19.865246Z"
    }
   },
   "id": "30c4602016cd1f80",
   "execution_count": 3
  },
  {
   "cell_type": "code",
   "outputs": [],
   "source": [
    "df = df[df.season == df[~df.salary.isna()].season.max()].drop_duplicates(['pid', 'season']).reset_index(drop=True)"
   ],
   "metadata": {
    "collapsed": false,
    "ExecuteTime": {
     "end_time": "2024-02-27T18:42:21.225734300Z",
     "start_time": "2024-02-27T18:42:21.214678700Z"
    }
   },
   "id": "3157e9de90f144df",
   "execution_count": 4
  },
  {
   "cell_type": "code",
   "outputs": [],
   "source": [
    "df['results'] = df.apply(lambda x: calc_progs(x['ovr'], x['age'], 0.75), axis=1)\n",
    "df['rating_prog'] = df['results'].apply(lambda x: x['rating'])\n",
    "df['rating_upper_prog'] = df['results'].apply(lambda x: x['rating_upper'])\n",
    "df['rating_lower_prog'] = df['results'].apply(lambda x: x['rating_lower'])\n",
    "df['vorp_added_prog'] = df['results'].apply(lambda x: x['vorp_added'])\n",
    "df['cap_value_prog'] = df['results'].apply(lambda x: x['cap_value'])"
   ],
   "metadata": {
    "collapsed": false,
    "ExecuteTime": {
     "end_time": "2024-02-27T18:42:33.462559300Z",
     "start_time": "2024-02-27T18:42:28.869806100Z"
    }
   },
   "id": "3d06afea384c1583",
   "execution_count": 5
  },
  {
   "cell_type": "code",
   "outputs": [],
   "source": [
    "df['team'] = df['tid'].map(dict([(teams['tid'], teams['region']) for teams in r_json['teams']]))"
   ],
   "metadata": {
    "collapsed": false,
    "ExecuteTime": {
     "end_time": "2024-02-27T18:42:33.467634400Z",
     "start_time": "2024-02-27T18:42:33.463650100Z"
    }
   },
   "id": "f1f66f999a2799dd",
   "execution_count": 6
  },
  {
   "cell_type": "code",
   "outputs": [],
   "source": [
    "def player_plot(pid, df):\n",
    "    \n",
    "    # Filter the dataframe for the specific pid\n",
    "    df_filtered = df[df.pid == pid]\n",
    "    \n",
    "    # Retrieve the player's first name and last name\n",
    "    first_name = df_filtered['firstName'].values[0]\n",
    "    last_name = df_filtered['lastName'].values[0]\n",
    "    \n",
    "    # Create the title\n",
    "    title = f'{first_name} {last_name}'\n",
    "    \n",
    "    # Extract the rating, value, and bounds data\n",
    "    rating_data = df_filtered['rating_prog'].values[0]\n",
    "    rating_upper_data = df_filtered['rating_upper_prog'].values[0]\n",
    "    rating_lower_data = df_filtered['rating_lower_prog'].values[0]\n",
    "    value_data = df_filtered['vorp_added_prog'].values[0]\n",
    "    cap_value_data = df_filtered['cap_value_prog'].values[0]\n",
    "    \n",
    "    # Create the plot for ratings\n",
    "    fig = go.Figure()\n",
    "    \n",
    "    # Add the plot for upper and lower bounds as lines with the area between them filled\n",
    "    fig.add_trace(\n",
    "        go.Scatter(\n",
    "            x=list(rating_upper_data.keys()),\n",
    "            y=list(rating_upper_data.values()),\n",
    "            name='Upper Bound',\n",
    "            mode='lines',\n",
    "            line=dict(width=0),\n",
    "            hoverinfo='skip',\n",
    "            showlegend=False,\n",
    "        )\n",
    "    )\n",
    "    \n",
    "    fig.add_trace(\n",
    "        go.Scatter(\n",
    "            x=list(rating_lower_data.keys()),\n",
    "            y=list(rating_lower_data.values()),\n",
    "            name='Lower Bound',\n",
    "            mode='none',\n",
    "            fill='tonexty',\n",
    "            hoverinfo='skip',\n",
    "            fillcolor='rgba(255, 90, 95, 0.2)',\n",
    "            showlegend=False,\n",
    "        )\n",
    "    )\n",
    "    \n",
    "    # Add the plot for ratings as a line\n",
    "    fig.add_trace(\n",
    "        go.Scatter(\n",
    "            x=list(rating_data.keys()),\n",
    "            y=list(rating_data.values()),\n",
    "            name='Rating',\n",
    "            line=dict(\n",
    "                color='rgb(255, 90, 95)'\n",
    "            ),\n",
    "            customdata=np.stack((list(rating_lower_data.values()), list(rating_upper_data.values())), axis=-1),\n",
    "            hovertemplate=\n",
    "            '<b>Year</b>: %{x}<br>' +\n",
    "            '<b>Rating</b>: %{y:.1f}<br>' +  # Round to 1 decimal place\n",
    "            '<b>Lower Bound</b>: %{customdata[0]:.1f}<br>' +  # Round to 1 decimal place\n",
    "            '<b>Upper Bound</b>: %{customdata[1]:.1f}<br>',  # Round to 1 decimal place\n",
    "        )\n",
    "    )\n",
    "    \n",
    "    # Add the plot for values as bars\n",
    "    fig.add_trace(\n",
    "        go.Bar(\n",
    "            x=[x - 0.2 for x in list(value_data.keys())],\n",
    "            y=list(value_data.values()),\n",
    "            name='Value',\n",
    "            yaxis='y2',\n",
    "            width=0.35,\n",
    "            marker=dict(\n",
    "                color='rgb(252,100,45)'\n",
    "            ),\n",
    "            text=[f'{val:.1f}' for val in list(value_data.values())],\n",
    "            textposition='outside',\n",
    "            textfont=dict(\n",
    "                color='rgb(252,100,45)',\n",
    "                size=14,\n",
    "            ),\n",
    "        )\n",
    "    )\n",
    "    \n",
    "    # Add the plot for cap values as bars\n",
    "    fig.add_trace(\n",
    "        go.Bar(\n",
    "            x=[x + 0.2 for x in list(cap_value_data.keys())],\n",
    "            y=list(cap_value_data.values()),\n",
    "            name='Cap Value',\n",
    "            yaxis='y3',\n",
    "            width=0.35,\n",
    "            marker=dict(\n",
    "                color='rgb(0, 166, 153)'\n",
    "            ),\n",
    "            text=[f'{val*100:.1f}%' for val in list(cap_value_data.values())],\n",
    "            textposition='outside',\n",
    "            textfont=dict(\n",
    "                color='rgb(0, 166, 153)',\n",
    "                size=14,\n",
    "            ),\n",
    "        )\n",
    "    )\n",
    "    \n",
    "    # Update the plot title\n",
    "    fig.update_layout(\n",
    "        template='simple_white',\n",
    "        title=title,\n",
    "        barmode='group',\n",
    "        yaxis=dict(\n",
    "            range=[10, 90],\n",
    "            showgrid=False,\n",
    "            showticklabels=True,\n",
    "        ),\n",
    "        yaxis2=dict(\n",
    "            range=[0, 20],\n",
    "            overlaying='y',\n",
    "            side='right',\n",
    "            showgrid=False,\n",
    "            showticklabels=False,\n",
    "        ),\n",
    "        yaxis3=dict(\n",
    "            range=[0, 1],\n",
    "            overlaying='y',\n",
    "            side='left',\n",
    "            showgrid=False,\n",
    "            showticklabels=False,\n",
    "        )\n",
    "    )\n",
    "    fig.show()"
   ],
   "metadata": {
    "collapsed": false,
    "ExecuteTime": {
     "end_time": "2024-02-27T18:42:35.374481900Z",
     "start_time": "2024-02-27T18:42:35.366111100Z"
    }
   },
   "id": "4a7fddd0ac885599",
   "execution_count": 7
  },
  {
   "cell_type": "code",
   "outputs": [],
   "source": [
    "player_plot(10, df)"
   ],
   "metadata": {
    "collapsed": false,
    "ExecuteTime": {
     "end_time": "2024-02-27T18:42:55.016469Z",
     "start_time": "2024-02-27T18:42:54.742883400Z"
    }
   },
   "id": "a19bbb6a44ae34cf",
   "execution_count": 9
  },
  {
   "cell_type": "code",
   "outputs": [],
   "source": [],
   "metadata": {
    "collapsed": false
   },
   "id": "77cdc363d03e4b49"
  }
 ],
 "metadata": {
  "kernelspec": {
   "display_name": "Python 3",
   "language": "python",
   "name": "python3"
  },
  "language_info": {
   "codemirror_mode": {
    "name": "ipython",
    "version": 2
   },
   "file_extension": ".py",
   "mimetype": "text/x-python",
   "name": "python",
   "nbconvert_exporter": "python",
   "pygments_lexer": "ipython2",
   "version": "2.7.6"
  }
 },
 "nbformat": 4,
 "nbformat_minor": 5
}
