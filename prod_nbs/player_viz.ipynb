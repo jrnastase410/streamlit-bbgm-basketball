{
 "cells": [
  {
   "cell_type": "code",
   "execution_count": 11,
   "id": "initial_id",
   "metadata": {
    "collapsed": true,
    "ExecuteTime": {
     "end_time": "2024-02-27T18:29:47.091063800Z",
     "start_time": "2024-02-27T18:29:47.075237Z"
    }
   },
   "outputs": [],
   "source": [
    "import numpy as np\n",
    "import pandas as pd\n",
    "import json\n",
    "\n",
    "import plotly.io as pio\n",
    "import sys\n",
    "\n",
    "sys.path.append(\"..\")\n",
    "\n",
    "from utils.calcs import ovr_to_vorp\n",
    "from utils.data import player_json_to_df\n",
    "\n",
    "pio.templates.default = \"plotly_dark\"\n",
    "pio.renderers.default = \"browser\""
   ]
  },
  {
   "cell_type": "code",
   "outputs": [],
   "source": [
    "with open('C:/Users/jrnas/Downloads/BBGM_League_2_2024_preseason.json', encoding='latin') as f:\n",
    "    r_json = json.load(f)\n",
    "\n",
    "df = player_json_to_df(r_json)"
   ],
   "metadata": {
    "collapsed": false,
    "ExecuteTime": {
     "end_time": "2024-02-27T18:29:54.892263700Z",
     "start_time": "2024-02-27T18:29:54.399668800Z"
    }
   },
   "id": "fa9177ea5f86aa6",
   "execution_count": 12
  },
  {
   "cell_type": "code",
   "outputs": [
    {
     "name": "stdout",
     "output_type": "stream",
     "text": [
      "Successfully uploaded ../data/df.csv to nastase-analytics-bbgm/df.csv\n"
     ]
    }
   ],
   "source": [
    "# Define the file paths\n",
    "local_file_path = '../data/df.csv'  # replace with the path to save your parquet file\n",
    "s3_file_path = 'df.csv'  # replace with the desired path in the S3 bucket\n",
    "\n",
    "# Save the DataFrame as a parquet file\n",
    "df.to_csv(local_file_path)\n",
    "\n",
    "# Get the bucket object\n",
    "bucket_name = 'nastase-analytics-bbgm'  # replace with your bucket name\n",
    "bucket = s3.Bucket(bucket_name)\n",
    "\n",
    "# Upload the file\n",
    "bucket.upload_file(local_file_path, s3_file_path)\n",
    "\n",
    "print(f'Successfully uploaded {local_file_path} to {bucket_name}/{s3_file_path}')"
   ],
   "metadata": {
    "collapsed": false,
    "ExecuteTime": {
     "end_time": "2024-02-27T17:31:04.706039Z",
     "start_time": "2024-02-27T17:31:02.790978400Z"
    }
   },
   "id": "6b501110e4a5343f",
   "execution_count": 6
  },
  {
   "cell_type": "code",
   "outputs": [],
   "source": [
    "## Get object from S3\n",
    "obj = s3.Object(bucket_name, s3_file_path)\n",
    "df = pd.read_csv(obj.get()['Body'])"
   ],
   "metadata": {
    "collapsed": false,
    "ExecuteTime": {
     "end_time": "2024-02-27T17:40:54.916607900Z",
     "start_time": "2024-02-27T17:40:54.267461100Z"
    }
   },
   "id": "d2cc7261ad2f5570",
   "execution_count": 9
  },
  {
   "cell_type": "code",
   "outputs": [],
   "source": [
    "def compute_kde_percentile_fast(x_values, y_values, percentile):\n",
    "    # Calculate the cumulative sum of the y_values\n",
    "    cumulative_sum = np.cumsum(y_values)\n",
    "\n",
    "    # Find the index where the cumulative sum is just greater than or equal to the desired percentile\n",
    "    index = np.searchsorted(cumulative_sum, percentile)\n",
    "\n",
    "    # Return the corresponding x_value at this index\n",
    "    return x_values[index]"
   ],
   "metadata": {
    "collapsed": false,
    "ExecuteTime": {
     "end_time": "2024-02-27T16:03:25.901511600Z",
     "start_time": "2024-02-27T16:03:25.898928100Z"
    }
   },
   "id": "30c4602016cd1f80",
   "execution_count": 3
  },
  {
   "cell_type": "code",
   "outputs": [],
   "source": [
    "df = df[df.season == df[~df.salary.isna()].season.max()].drop_duplicates(['pid', 'season']).reset_index(drop=True)"
   ],
   "metadata": {
    "collapsed": false,
    "ExecuteTime": {
     "end_time": "2024-02-27T16:03:25.984493Z",
     "start_time": "2024-02-27T16:03:25.974603800Z"
    }
   },
   "id": "3157e9de90f144df",
   "execution_count": 4
  },
  {
   "cell_type": "code",
   "outputs": [],
   "source": [
    "df['vorp_pred'] = df['ovr'].apply(ovr_to_vorp)"
   ],
   "metadata": {
    "collapsed": false,
    "ExecuteTime": {
     "end_time": "2024-02-27T16:03:26.250690200Z",
     "start_time": "2024-02-27T16:03:26.234621300Z"
    }
   },
   "id": "d0452ef738fcfbf6",
   "execution_count": 5
  },
  {
   "cell_type": "code",
   "outputs": [],
   "source": [
    "progs = pd.read_parquet('../constants/progression.parquet')\n",
    "for i in range(1, 10):\n",
    "    progs[f'y_{i}'] = progs[f'y_{i}'] / (np.sum(progs[f'y_{i}']) / progs.age.nunique())"
   ],
   "metadata": {
    "collapsed": false,
    "ExecuteTime": {
     "end_time": "2024-02-27T16:03:26.538243400Z",
     "start_time": "2024-02-27T16:03:26.495774600Z"
    }
   },
   "id": "2e598088832fae19",
   "execution_count": 6
  },
  {
   "cell_type": "code",
   "outputs": [],
   "source": [
    "x_prog = progs[progs.age == 20]['x'].values\n",
    "y_1 = progs[progs.age == 20]['y_1'].values"
   ],
   "metadata": {
    "collapsed": false,
    "ExecuteTime": {
     "end_time": "2024-02-27T16:03:26.751987700Z",
     "start_time": "2024-02-27T16:03:26.738010100Z"
    }
   },
   "id": "1df9d34d56e0e956",
   "execution_count": 7
  },
  {
   "cell_type": "code",
   "outputs": [],
   "source": [
    "test = pd.DataFrame(zip(x_prog, y_1), columns=['x', 'y'])"
   ],
   "metadata": {
    "collapsed": false,
    "ExecuteTime": {
     "end_time": "2024-02-27T16:03:26.998905500Z",
     "start_time": "2024-02-27T16:03:26.992863700Z"
    }
   },
   "id": "64db9baaca6aa77f",
   "execution_count": 8
  },
  {
   "cell_type": "code",
   "outputs": [],
   "source": [
    "test['y_cum'] = test.y.cumsum()"
   ],
   "metadata": {
    "collapsed": false,
    "ExecuteTime": {
     "end_time": "2024-02-27T16:03:27.239300500Z",
     "start_time": "2024-02-27T16:03:27.219841Z"
    }
   },
   "id": "4bf1860721297c4c",
   "execution_count": 9
  },
  {
   "cell_type": "code",
   "outputs": [
    {
     "data": {
      "text/plain": "              x         y     y_cum\n493   -1.301301  0.020882  0.105615\n494   -1.101101  0.022511  0.128126\n495   -0.900901  0.023342  0.151467\n496   -0.700701  0.023343  0.174810\n497   -0.500501  0.022609  0.197419\n..          ...       ...       ...\n995   99.199199  0.000000  1.000000\n996   99.399399  0.000000  1.000000\n997   99.599600  0.000000  1.000000\n998   99.799800  0.000000  1.000000\n999  100.000000  0.000000  1.000000\n\n[507 rows x 3 columns]",
      "text/html": "<div>\n<style scoped>\n    .dataframe tbody tr th:only-of-type {\n        vertical-align: middle;\n    }\n\n    .dataframe tbody tr th {\n        vertical-align: top;\n    }\n\n    .dataframe thead th {\n        text-align: right;\n    }\n</style>\n<table border=\"1\" class=\"dataframe\">\n  <thead>\n    <tr style=\"text-align: right;\">\n      <th></th>\n      <th>x</th>\n      <th>y</th>\n      <th>y_cum</th>\n    </tr>\n  </thead>\n  <tbody>\n    <tr>\n      <th>493</th>\n      <td>-1.301301</td>\n      <td>0.020882</td>\n      <td>0.105615</td>\n    </tr>\n    <tr>\n      <th>494</th>\n      <td>-1.101101</td>\n      <td>0.022511</td>\n      <td>0.128126</td>\n    </tr>\n    <tr>\n      <th>495</th>\n      <td>-0.900901</td>\n      <td>0.023342</td>\n      <td>0.151467</td>\n    </tr>\n    <tr>\n      <th>496</th>\n      <td>-0.700701</td>\n      <td>0.023343</td>\n      <td>0.174810</td>\n    </tr>\n    <tr>\n      <th>497</th>\n      <td>-0.500501</td>\n      <td>0.022609</td>\n      <td>0.197419</td>\n    </tr>\n    <tr>\n      <th>...</th>\n      <td>...</td>\n      <td>...</td>\n      <td>...</td>\n    </tr>\n    <tr>\n      <th>995</th>\n      <td>99.199199</td>\n      <td>0.000000</td>\n      <td>1.000000</td>\n    </tr>\n    <tr>\n      <th>996</th>\n      <td>99.399399</td>\n      <td>0.000000</td>\n      <td>1.000000</td>\n    </tr>\n    <tr>\n      <th>997</th>\n      <td>99.599600</td>\n      <td>0.000000</td>\n      <td>1.000000</td>\n    </tr>\n    <tr>\n      <th>998</th>\n      <td>99.799800</td>\n      <td>0.000000</td>\n      <td>1.000000</td>\n    </tr>\n    <tr>\n      <th>999</th>\n      <td>100.000000</td>\n      <td>0.000000</td>\n      <td>1.000000</td>\n    </tr>\n  </tbody>\n</table>\n<p>507 rows × 3 columns</p>\n</div>"
     },
     "execution_count": 10,
     "metadata": {},
     "output_type": "execute_result"
    }
   ],
   "source": [
    "test[test.y_cum > 0.1]"
   ],
   "metadata": {
    "collapsed": false,
    "ExecuteTime": {
     "end_time": "2024-02-27T16:03:27.469561900Z",
     "start_time": "2024-02-27T16:03:27.459218800Z"
    }
   },
   "id": "3c4341039171e242",
   "execution_count": 10
  },
  {
   "cell_type": "code",
   "outputs": [],
   "source": [
    "def calc_progs(ovr, age, q=0.9):\n",
    "    x_prog = progs[progs.age == age]['x'].values\n",
    "    x_rating = x_prog + ovr\n",
    "    x_pred = [ovr_to_vorp(x) for x in x_rating]\n",
    "    x_value = np.array(x_pred).clip(0, )\n",
    "    x_cap_hit = 30 * x_value / 433.58\n",
    "\n",
    "    rating_dict = dict()\n",
    "    rating_uppper_dict = dict()\n",
    "    rating_lower_dict = dict()\n",
    "    vorp_added_dict = dict()\n",
    "    cap_value_dict = dict()\n",
    "    \n",
    "    rating_dict[0] = ovr\n",
    "    rating_uppper_dict[0] = ovr\n",
    "    rating_lower_dict[0] = ovr\n",
    "    vorp_added_dict[0] = ovr_to_vorp(ovr)\n",
    "    cap_value_dict[0] = 30 * vorp_added_dict[0] / 433.58\n",
    "\n",
    "    for i in range(1, 10):\n",
    "        y = progs[progs.age == age][f'y_{i}'].values\n",
    "        rating_dict[i] = np.dot(x_rating, y) / np.sum(y)\n",
    "        rating_uppper_dict[i] = compute_kde_percentile_fast(x_rating, y, q)\n",
    "        rating_lower_dict[i] = compute_kde_percentile_fast(x_rating, y, 1 - q)\n",
    "        vorp_added_dict[i] = np.dot(x_value, y) / np.sum(y)\n",
    "        cap_value_dict[i] = np.dot(x_cap_hit, y) / np.sum(y)\n",
    "\n",
    "    return {'rating': rating_dict,\n",
    "            'rating_upper': rating_uppper_dict,\n",
    "            'rating_lower': rating_lower_dict,\n",
    "            'vorp_added': vorp_added_dict,\n",
    "            'cap_value': cap_value_dict}"
   ],
   "metadata": {
    "collapsed": false,
    "ExecuteTime": {
     "end_time": "2024-02-27T17:00:11.284443Z",
     "start_time": "2024-02-27T17:00:11.267867800Z"
    }
   },
   "id": "3bf44a68ba98d183",
   "execution_count": 102
  },
  {
   "cell_type": "code",
   "outputs": [],
   "source": [
    "df['results'] = df.apply(lambda x: calc_progs(x['ovr'], x['age'], 0.75), axis=1)\n",
    "df['rating_prog'] = df['results'].apply(lambda x: x['rating'])\n",
    "df['rating_upper_prog'] = df['results'].apply(lambda x: x['rating_upper'])\n",
    "df['rating_lower_prog'] = df['results'].apply(lambda x: x['rating_lower'])\n",
    "df['vorp_added_prog'] = df['results'].apply(lambda x: x['vorp_added'])\n",
    "df['cap_value_prog'] = df['results'].apply(lambda x: x['cap_value'])"
   ],
   "metadata": {
    "collapsed": false,
    "ExecuteTime": {
     "end_time": "2024-02-27T17:00:16.194610500Z",
     "start_time": "2024-02-27T17:00:11.766034100Z"
    }
   },
   "id": "3d06afea384c1583",
   "execution_count": 103
  },
  {
   "cell_type": "code",
   "outputs": [],
   "source": [
    "df['team'] = df['tid'].map(dict([(teams['tid'], teams['region']) for teams in r_json['teams']]))"
   ],
   "metadata": {
    "collapsed": false,
    "ExecuteTime": {
     "end_time": "2024-02-27T17:00:17.038247500Z",
     "start_time": "2024-02-27T17:00:17.031081900Z"
    }
   },
   "id": "f1f66f999a2799dd",
   "execution_count": 104
  },
  {
   "cell_type": "code",
   "outputs": [
    {
     "data": {
      "text/plain": "     pid firstName            lastName  season           team  age  ovr  pot\n54    57    Nikola               Jokic    2024         Denver   29   74   74\n113  124   Giannis       Antetokounmpo    2024      Milwaukee   29   73   73\n27    29      Shai  Gilgeous-Alexander    2024  Oklahoma City   25   72   75\n85    90      Joel              Embiid    2024   Philadelphia   30   72   72\n9     10      Luka              Doncic    2024         Dallas   25   71   74\n..   ...       ...                 ...     ...            ...  ...  ...  ...\n131  142    Bronny               James    2024            NaN   19   29   53\n477  555    Pacome              Dadiet    2024            NaN   19   29   57\n590  701    Trevor               Keels    2024            NaN   20   29   57\n606  720     Kwame           Evans Jr.    2024            NaN   19   29   59\n736  918    Jaylen              Martin    2024       Brooklyn   20   28   48\n\n[747 rows x 8 columns]",
      "text/html": "<div>\n<style scoped>\n    .dataframe tbody tr th:only-of-type {\n        vertical-align: middle;\n    }\n\n    .dataframe tbody tr th {\n        vertical-align: top;\n    }\n\n    .dataframe thead th {\n        text-align: right;\n    }\n</style>\n<table border=\"1\" class=\"dataframe\">\n  <thead>\n    <tr style=\"text-align: right;\">\n      <th></th>\n      <th>pid</th>\n      <th>firstName</th>\n      <th>lastName</th>\n      <th>season</th>\n      <th>team</th>\n      <th>age</th>\n      <th>ovr</th>\n      <th>pot</th>\n    </tr>\n  </thead>\n  <tbody>\n    <tr>\n      <th>54</th>\n      <td>57</td>\n      <td>Nikola</td>\n      <td>Jokic</td>\n      <td>2024</td>\n      <td>Denver</td>\n      <td>29</td>\n      <td>74</td>\n      <td>74</td>\n    </tr>\n    <tr>\n      <th>113</th>\n      <td>124</td>\n      <td>Giannis</td>\n      <td>Antetokounmpo</td>\n      <td>2024</td>\n      <td>Milwaukee</td>\n      <td>29</td>\n      <td>73</td>\n      <td>73</td>\n    </tr>\n    <tr>\n      <th>27</th>\n      <td>29</td>\n      <td>Shai</td>\n      <td>Gilgeous-Alexander</td>\n      <td>2024</td>\n      <td>Oklahoma City</td>\n      <td>25</td>\n      <td>72</td>\n      <td>75</td>\n    </tr>\n    <tr>\n      <th>85</th>\n      <td>90</td>\n      <td>Joel</td>\n      <td>Embiid</td>\n      <td>2024</td>\n      <td>Philadelphia</td>\n      <td>30</td>\n      <td>72</td>\n      <td>72</td>\n    </tr>\n    <tr>\n      <th>9</th>\n      <td>10</td>\n      <td>Luka</td>\n      <td>Doncic</td>\n      <td>2024</td>\n      <td>Dallas</td>\n      <td>25</td>\n      <td>71</td>\n      <td>74</td>\n    </tr>\n    <tr>\n      <th>...</th>\n      <td>...</td>\n      <td>...</td>\n      <td>...</td>\n      <td>...</td>\n      <td>...</td>\n      <td>...</td>\n      <td>...</td>\n      <td>...</td>\n    </tr>\n    <tr>\n      <th>131</th>\n      <td>142</td>\n      <td>Bronny</td>\n      <td>James</td>\n      <td>2024</td>\n      <td>NaN</td>\n      <td>19</td>\n      <td>29</td>\n      <td>53</td>\n    </tr>\n    <tr>\n      <th>477</th>\n      <td>555</td>\n      <td>Pacome</td>\n      <td>Dadiet</td>\n      <td>2024</td>\n      <td>NaN</td>\n      <td>19</td>\n      <td>29</td>\n      <td>57</td>\n    </tr>\n    <tr>\n      <th>590</th>\n      <td>701</td>\n      <td>Trevor</td>\n      <td>Keels</td>\n      <td>2024</td>\n      <td>NaN</td>\n      <td>20</td>\n      <td>29</td>\n      <td>57</td>\n    </tr>\n    <tr>\n      <th>606</th>\n      <td>720</td>\n      <td>Kwame</td>\n      <td>Evans Jr.</td>\n      <td>2024</td>\n      <td>NaN</td>\n      <td>19</td>\n      <td>29</td>\n      <td>59</td>\n    </tr>\n    <tr>\n      <th>736</th>\n      <td>918</td>\n      <td>Jaylen</td>\n      <td>Martin</td>\n      <td>2024</td>\n      <td>Brooklyn</td>\n      <td>20</td>\n      <td>28</td>\n      <td>48</td>\n    </tr>\n  </tbody>\n</table>\n<p>747 rows × 8 columns</p>\n</div>"
     },
     "execution_count": 105,
     "metadata": {},
     "output_type": "execute_result"
    }
   ],
   "source": [
    "df.sort_values('ovr', ascending=False)[['pid', 'firstName', 'lastName', 'season', 'team', 'age', 'ovr', 'pot']]"
   ],
   "metadata": {
    "collapsed": false,
    "ExecuteTime": {
     "end_time": "2024-02-27T17:00:17.494458600Z",
     "start_time": "2024-02-27T17:00:17.478787300Z"
    }
   },
   "id": "381f6f8f5ff0c4d1",
   "execution_count": 105
  },
  {
   "cell_type": "code",
   "outputs": [],
   "source": [
    "import plotly.graph_objects as go\n",
    "\n",
    "pid = 10  # replace with the pid you want to filter on\n",
    "\n",
    "# Filter the dataframe for the specific pid\n",
    "df_filtered = df[df.pid == pid]\n",
    "\n",
    "# Retrieve the player's first name and last name\n",
    "first_name = df_filtered['firstName'].values[0]\n",
    "last_name = df_filtered['lastName'].values[0]\n",
    "\n",
    "# Create the title\n",
    "title = f'{first_name} {last_name}'\n",
    "\n",
    "# Extract the rating, value, and bounds data\n",
    "rating_data = df_filtered['rating_prog'].values[0]\n",
    "rating_upper_data = df_filtered['rating_upper_prog'].values[0]\n",
    "rating_lower_data = df_filtered['rating_lower_prog'].values[0]\n",
    "value_data = df_filtered['vorp_added_prog'].values[0]\n",
    "cap_value_data = df_filtered['cap_value_prog'].values[0]\n",
    "\n",
    "# Create the plot for ratings\n",
    "fig = go.Figure()\n",
    "\n",
    "# Add the plot for upper and lower bounds as lines with the area between them filled\n",
    "fig.add_trace(\n",
    "    go.Scatter(\n",
    "        x=list(rating_upper_data.keys()),\n",
    "        y=list(rating_upper_data.values()),\n",
    "        name='Upper Bound',\n",
    "        mode='lines',\n",
    "        line=dict(width=0),\n",
    "        hoverinfo='skip',\n",
    "        showlegend=False,\n",
    "    )\n",
    ")\n",
    "\n",
    "fig.add_trace(\n",
    "    go.Scatter(\n",
    "        x=list(rating_lower_data.keys()),\n",
    "        y=list(rating_lower_data.values()),\n",
    "        name='Lower Bound',\n",
    "        mode='none',\n",
    "        fill='tonexty',\n",
    "        hoverinfo='skip',\n",
    "        fillcolor='rgba(255, 90, 95, 0.2)',\n",
    "        showlegend=False,\n",
    "    )\n",
    ")\n",
    "\n",
    "# Add the plot for ratings as a line\n",
    "fig.add_trace(\n",
    "    go.Scatter(\n",
    "        x=list(rating_data.keys()),\n",
    "        y=list(rating_data.values()),\n",
    "        name='Rating',\n",
    "        line=dict(\n",
    "            color='rgb(255, 90, 95)'\n",
    "        ),\n",
    "        customdata=np.stack((list(rating_lower_data.values()), list(rating_upper_data.values())), axis=-1),\n",
    "        hovertemplate=\n",
    "        '<b>Year</b>: %{x}<br>' +\n",
    "        '<b>Rating</b>: %{y:.1f}<br>' +  # Round to 1 decimal place\n",
    "        '<b>Lower Bound</b>: %{customdata[0]:.1f}<br>' +  # Round to 1 decimal place\n",
    "        '<b>Upper Bound</b>: %{customdata[1]:.1f}<br>',  # Round to 1 decimal place\n",
    "    )\n",
    ")\n",
    "\n",
    "# Add the plot for values as bars\n",
    "fig.add_trace(\n",
    "    go.Bar(\n",
    "        x=[x - 0.2 for x in list(value_data.keys())],\n",
    "        y=list(value_data.values()),\n",
    "        name='Value',\n",
    "        yaxis='y2',\n",
    "        width=0.35,\n",
    "        marker=dict(\n",
    "            color='rgb(252,100,45)'\n",
    "        ),\n",
    "        text=[f'{val:.1f}' for val in list(value_data.values())],\n",
    "        textposition='outside',\n",
    "        textfont=dict(\n",
    "            color='rgb(252,100,45)',\n",
    "            size=14,\n",
    "        ),\n",
    "    )\n",
    ")\n",
    "\n",
    "# Add the plot for cap values as bars\n",
    "fig.add_trace(\n",
    "    go.Bar(\n",
    "        x=[x + 0.2 for x in list(cap_value_data.keys())],\n",
    "        y=list(cap_value_data.values()),\n",
    "        name='Cap Value',\n",
    "        yaxis='y3',\n",
    "        width=0.35,\n",
    "        marker=dict(\n",
    "            color='rgb(0, 166, 153)'\n",
    "        ),\n",
    "        text=[f'{val*100:.1f}%' for val in list(cap_value_data.values())],\n",
    "        textposition='outside',\n",
    "        textfont=dict(\n",
    "            color='rgb(0, 166, 153)',\n",
    "            size=14,\n",
    "        ),\n",
    "    )\n",
    ")\n",
    "\n",
    "# Update the plot title\n",
    "fig.update_layout(\n",
    "    template='simple_white',\n",
    "    title=title,\n",
    "    barmode='group',\n",
    "    yaxis=dict(\n",
    "        range=[10, 90],\n",
    "        showgrid=False,\n",
    "        showticklabels=True,\n",
    "    ),\n",
    "    yaxis2=dict(\n",
    "        range=[0, 20],\n",
    "        overlaying='y',\n",
    "        side='right',\n",
    "        showgrid=False,\n",
    "        showticklabels=False,\n",
    "    ),\n",
    "    yaxis3=dict(\n",
    "        range=[0, 1],\n",
    "        overlaying='y',\n",
    "        side='left',\n",
    "        showgrid=False,\n",
    "        showticklabels=False,\n",
    "    )\n",
    ")\n",
    "fig.show()"
   ],
   "metadata": {
    "collapsed": false,
    "ExecuteTime": {
     "end_time": "2024-02-27T17:06:50.487517800Z",
     "start_time": "2024-02-27T17:06:50.356088300Z"
    }
   },
   "id": "873c2873579c16da",
   "execution_count": 116
  },
  {
   "cell_type": "code",
   "outputs": [],
   "source": [],
   "metadata": {
    "collapsed": false
   },
   "id": "a19bbb6a44ae34cf"
  }
 ],
 "metadata": {
  "kernelspec": {
   "display_name": "Python 3",
   "language": "python",
   "name": "python3"
  },
  "language_info": {
   "codemirror_mode": {
    "name": "ipython",
    "version": 2
   },
   "file_extension": ".py",
   "mimetype": "text/x-python",
   "name": "python",
   "nbconvert_exporter": "python",
   "pygments_lexer": "ipython2",
   "version": "2.7.6"
  }
 },
 "nbformat": 4,
 "nbformat_minor": 5
}
