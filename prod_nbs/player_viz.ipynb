{
 "cells": [
  {
   "cell_type": "code",
   "execution_count": 1,
   "id": "initial_id",
   "metadata": {
    "collapsed": true,
    "ExecuteTime": {
     "end_time": "2024-02-27T21:06:33.258570900Z",
     "start_time": "2024-02-27T21:06:32.778081Z"
    }
   },
   "outputs": [],
   "source": [
    "import os\n",
    "os.chdir('..')\n",
    "\n",
    "import json\n",
    "from apps.calcs import *\n",
    "from apps.data import player_json_to_df\n",
    "import plotly.graph_objects as go"
   ]
  },
  {
   "cell_type": "code",
   "outputs": [],
   "source": [
    "with open('C:/Users/jrnas/Downloads/BBGM_League_2_2024_preseason.json', encoding='latin') as f:\n",
    "    r_json = json.load(f)\n",
    "\n",
    "df = player_json_to_df(r_json)\n",
    "df = df[df.season == df[~df.salary.isna()].season.max()].drop_duplicates(['pid', 'season']).reset_index(drop=True)"
   ],
   "metadata": {
    "collapsed": false,
    "ExecuteTime": {
     "end_time": "2024-02-27T21:06:33.684058100Z",
     "start_time": "2024-02-27T21:06:33.260680400Z"
    }
   },
   "id": "fa9177ea5f86aa6",
   "execution_count": 2
  },
  {
   "cell_type": "code",
   "outputs": [],
   "source": [
    "def load_json_data(filename):\n",
    "    with open(filename, encoding='latin') as f:\n",
    "        r_json = json.load(f)\n",
    "    df = player_json_to_df(r_json)\n",
    "    return df, r_json"
   ],
   "metadata": {
    "collapsed": false,
    "ExecuteTime": {
     "end_time": "2024-02-27T21:15:56.790889400Z",
     "start_time": "2024-02-27T21:15:56.770739500Z"
    }
   },
   "id": "e09255841df22f06",
   "execution_count": 36
  },
  {
   "cell_type": "code",
   "outputs": [],
   "source": [
    "df, r_json = load_json_data('C:/Users/jrnas/Downloads/BBGM_League_1_2220_free_agency.json')"
   ],
   "metadata": {
    "collapsed": false,
    "ExecuteTime": {
     "end_time": "2024-02-27T21:16:08.932280600Z",
     "start_time": "2024-02-27T21:15:57.681918300Z"
    }
   },
   "id": "a236ba05e7781d72",
   "execution_count": 37
  },
  {
   "cell_type": "code",
   "outputs": [],
   "source": [
    "player_types = ['active', 'free_agent', 'draft', 'retired']"
   ],
   "metadata": {
    "collapsed": false,
    "ExecuteTime": {
     "end_time": "2024-02-27T21:16:10.027595300Z",
     "start_time": "2024-02-27T21:16:10.016858200Z"
    }
   },
   "id": "90a31fc39320d11a",
   "execution_count": 38
  },
  {
   "cell_type": "code",
   "outputs": [
    {
     "data": {
      "text/plain": "     pid firstName    lastName  season  hgt  stre  spd  jmp  endu  ins  ...  \\\n389   23    Victor  Wembanyama    2024   85    21   48   60    42   67  ...   \n390   23    Victor  Wembanyama    2025   85    21   48   60    44   68  ...   \n391   23    Victor  Wembanyama    2026   85    24   50   62    49   72  ...   \n392   23    Victor  Wembanyama    2027   85    21   46   58    50   69  ...   \n393   23    Victor  Wembanyama    2028   85    21   46   58    50   69  ...   \n394   23    Victor  Wembanyama    2029   85    19   43   56    46   66  ...   \n395   23    Victor  Wembanyama    2030   85    21   45   58    48   68  ...   \n396   23    Victor  Wembanyama    2031   85    20   44   55    47   67  ...   \n397   23    Victor  Wembanyama    2032   85    17   38   46    45   64  ...   \n398   23    Victor  Wembanyama    2033   85    16   35   44    44   64  ...   \n399   23    Victor  Wembanyama    2034   85    14   31   40    41   63  ...   \n400   23    Victor  Wembanyama    2035   85     8   25   32    34   61  ...   \n401   23    Victor  Wembanyama    2036   85     4   18   21    29   59  ...   \n402   23    Victor  Wembanyama    2037   85     0   13   15    23   58  ...   \n403   23    Victor  Wembanyama    2038   85     1   11   12    22   62  ...   \n404   23    Victor  Wembanyama    2039   85     0    2    8    18   59  ...   \n405   23    Victor  Wembanyama    2040   85     0    0    0    13   56  ...   \n\n          usgp        ortg        drtg      obpm      dbpm       ows  \\\n389  28.204059  106.802733  110.128778  0.988114  0.549931  0.914709   \n390  28.256241  106.755693  107.184642  0.792702  1.728484  0.948742   \n391  28.264533  116.055742  104.824323  4.370748   3.43718   4.05148   \n392  25.289108  116.520689  104.665662  2.871787   2.31428  4.294498   \n393  22.732468  128.534684  102.436743  4.818102   2.76361  5.044099   \n394  21.239349  125.489609  104.355581  2.604844  1.974351  6.303921   \n395  21.475518  120.801603   101.81811  1.922861  2.544704  4.686793   \n396  22.033259  120.652896  102.397058  1.864196  2.324092  5.019191   \n397  23.760304  117.893552    105.2625  1.207044  1.628437  4.517682   \n398  21.522808  121.038342  106.521771  0.735372  1.386178  4.182715   \n399  20.982631  120.806408  108.234752  0.807531  0.409154   4.16212   \n400  19.842957  119.992577  105.929211 -0.180757  1.189267  2.638785   \n401  18.090708  115.092815   105.98855 -1.361705  0.471594  1.255602   \n402  17.464234  121.010892  105.097694 -1.049221  0.513115  0.345248   \n403  22.637454  115.537689  108.950838 -0.553106    0.3432  0.877367   \n404        NaN         NaN         NaN      <NA>      <NA>      <NA>   \n405        NaN         NaN         NaN      <NA>      <NA>      <NA>   \n\n          dws      vorp        ewa salary  \n389  3.476647  2.181748   10.44031  13800  \n390  4.586305  2.961489  10.330122  13800  \n391  4.294711   5.27007  12.279173  13800  \n392  4.719407  4.283094    12.2471  13800  \n393  3.411111  3.744058  10.333389  45980  \n394  4.670828  3.915604  12.107661  45980  \n395  4.715373  3.503258   9.532561  45980  \n396  5.013542  3.632496  10.533232  45980  \n397  4.303964   2.85734   9.790324  45980  \n398  3.423873  2.083465    7.92108  17330  \n399  2.759883  1.564758   7.033868  17330  \n400  2.316417  1.035762   4.623955  17330  \n401  1.491726  0.257225   2.115411  17330  \n402  0.326657  0.068664   0.530115   1850  \n403  0.728637  0.245227   1.791956   1850  \n404      <NA>      <NA>       <NA>   <NA>  \n405      <NA>      <NA>       <NA>   <NA>  \n\n[17 rows x 40 columns]",
      "text/html": "<div>\n<style scoped>\n    .dataframe tbody tr th:only-of-type {\n        vertical-align: middle;\n    }\n\n    .dataframe tbody tr th {\n        vertical-align: top;\n    }\n\n    .dataframe thead th {\n        text-align: right;\n    }\n</style>\n<table border=\"1\" class=\"dataframe\">\n  <thead>\n    <tr style=\"text-align: right;\">\n      <th></th>\n      <th>pid</th>\n      <th>firstName</th>\n      <th>lastName</th>\n      <th>season</th>\n      <th>hgt</th>\n      <th>stre</th>\n      <th>spd</th>\n      <th>jmp</th>\n      <th>endu</th>\n      <th>ins</th>\n      <th>...</th>\n      <th>usgp</th>\n      <th>ortg</th>\n      <th>drtg</th>\n      <th>obpm</th>\n      <th>dbpm</th>\n      <th>ows</th>\n      <th>dws</th>\n      <th>vorp</th>\n      <th>ewa</th>\n      <th>salary</th>\n    </tr>\n  </thead>\n  <tbody>\n    <tr>\n      <th>389</th>\n      <td>23</td>\n      <td>Victor</td>\n      <td>Wembanyama</td>\n      <td>2024</td>\n      <td>85</td>\n      <td>21</td>\n      <td>48</td>\n      <td>60</td>\n      <td>42</td>\n      <td>67</td>\n      <td>...</td>\n      <td>28.204059</td>\n      <td>106.802733</td>\n      <td>110.128778</td>\n      <td>0.988114</td>\n      <td>0.549931</td>\n      <td>0.914709</td>\n      <td>3.476647</td>\n      <td>2.181748</td>\n      <td>10.44031</td>\n      <td>13800</td>\n    </tr>\n    <tr>\n      <th>390</th>\n      <td>23</td>\n      <td>Victor</td>\n      <td>Wembanyama</td>\n      <td>2025</td>\n      <td>85</td>\n      <td>21</td>\n      <td>48</td>\n      <td>60</td>\n      <td>44</td>\n      <td>68</td>\n      <td>...</td>\n      <td>28.256241</td>\n      <td>106.755693</td>\n      <td>107.184642</td>\n      <td>0.792702</td>\n      <td>1.728484</td>\n      <td>0.948742</td>\n      <td>4.586305</td>\n      <td>2.961489</td>\n      <td>10.330122</td>\n      <td>13800</td>\n    </tr>\n    <tr>\n      <th>391</th>\n      <td>23</td>\n      <td>Victor</td>\n      <td>Wembanyama</td>\n      <td>2026</td>\n      <td>85</td>\n      <td>24</td>\n      <td>50</td>\n      <td>62</td>\n      <td>49</td>\n      <td>72</td>\n      <td>...</td>\n      <td>28.264533</td>\n      <td>116.055742</td>\n      <td>104.824323</td>\n      <td>4.370748</td>\n      <td>3.43718</td>\n      <td>4.05148</td>\n      <td>4.294711</td>\n      <td>5.27007</td>\n      <td>12.279173</td>\n      <td>13800</td>\n    </tr>\n    <tr>\n      <th>392</th>\n      <td>23</td>\n      <td>Victor</td>\n      <td>Wembanyama</td>\n      <td>2027</td>\n      <td>85</td>\n      <td>21</td>\n      <td>46</td>\n      <td>58</td>\n      <td>50</td>\n      <td>69</td>\n      <td>...</td>\n      <td>25.289108</td>\n      <td>116.520689</td>\n      <td>104.665662</td>\n      <td>2.871787</td>\n      <td>2.31428</td>\n      <td>4.294498</td>\n      <td>4.719407</td>\n      <td>4.283094</td>\n      <td>12.2471</td>\n      <td>13800</td>\n    </tr>\n    <tr>\n      <th>393</th>\n      <td>23</td>\n      <td>Victor</td>\n      <td>Wembanyama</td>\n      <td>2028</td>\n      <td>85</td>\n      <td>21</td>\n      <td>46</td>\n      <td>58</td>\n      <td>50</td>\n      <td>69</td>\n      <td>...</td>\n      <td>22.732468</td>\n      <td>128.534684</td>\n      <td>102.436743</td>\n      <td>4.818102</td>\n      <td>2.76361</td>\n      <td>5.044099</td>\n      <td>3.411111</td>\n      <td>3.744058</td>\n      <td>10.333389</td>\n      <td>45980</td>\n    </tr>\n    <tr>\n      <th>394</th>\n      <td>23</td>\n      <td>Victor</td>\n      <td>Wembanyama</td>\n      <td>2029</td>\n      <td>85</td>\n      <td>19</td>\n      <td>43</td>\n      <td>56</td>\n      <td>46</td>\n      <td>66</td>\n      <td>...</td>\n      <td>21.239349</td>\n      <td>125.489609</td>\n      <td>104.355581</td>\n      <td>2.604844</td>\n      <td>1.974351</td>\n      <td>6.303921</td>\n      <td>4.670828</td>\n      <td>3.915604</td>\n      <td>12.107661</td>\n      <td>45980</td>\n    </tr>\n    <tr>\n      <th>395</th>\n      <td>23</td>\n      <td>Victor</td>\n      <td>Wembanyama</td>\n      <td>2030</td>\n      <td>85</td>\n      <td>21</td>\n      <td>45</td>\n      <td>58</td>\n      <td>48</td>\n      <td>68</td>\n      <td>...</td>\n      <td>21.475518</td>\n      <td>120.801603</td>\n      <td>101.81811</td>\n      <td>1.922861</td>\n      <td>2.544704</td>\n      <td>4.686793</td>\n      <td>4.715373</td>\n      <td>3.503258</td>\n      <td>9.532561</td>\n      <td>45980</td>\n    </tr>\n    <tr>\n      <th>396</th>\n      <td>23</td>\n      <td>Victor</td>\n      <td>Wembanyama</td>\n      <td>2031</td>\n      <td>85</td>\n      <td>20</td>\n      <td>44</td>\n      <td>55</td>\n      <td>47</td>\n      <td>67</td>\n      <td>...</td>\n      <td>22.033259</td>\n      <td>120.652896</td>\n      <td>102.397058</td>\n      <td>1.864196</td>\n      <td>2.324092</td>\n      <td>5.019191</td>\n      <td>5.013542</td>\n      <td>3.632496</td>\n      <td>10.533232</td>\n      <td>45980</td>\n    </tr>\n    <tr>\n      <th>397</th>\n      <td>23</td>\n      <td>Victor</td>\n      <td>Wembanyama</td>\n      <td>2032</td>\n      <td>85</td>\n      <td>17</td>\n      <td>38</td>\n      <td>46</td>\n      <td>45</td>\n      <td>64</td>\n      <td>...</td>\n      <td>23.760304</td>\n      <td>117.893552</td>\n      <td>105.2625</td>\n      <td>1.207044</td>\n      <td>1.628437</td>\n      <td>4.517682</td>\n      <td>4.303964</td>\n      <td>2.85734</td>\n      <td>9.790324</td>\n      <td>45980</td>\n    </tr>\n    <tr>\n      <th>398</th>\n      <td>23</td>\n      <td>Victor</td>\n      <td>Wembanyama</td>\n      <td>2033</td>\n      <td>85</td>\n      <td>16</td>\n      <td>35</td>\n      <td>44</td>\n      <td>44</td>\n      <td>64</td>\n      <td>...</td>\n      <td>21.522808</td>\n      <td>121.038342</td>\n      <td>106.521771</td>\n      <td>0.735372</td>\n      <td>1.386178</td>\n      <td>4.182715</td>\n      <td>3.423873</td>\n      <td>2.083465</td>\n      <td>7.92108</td>\n      <td>17330</td>\n    </tr>\n    <tr>\n      <th>399</th>\n      <td>23</td>\n      <td>Victor</td>\n      <td>Wembanyama</td>\n      <td>2034</td>\n      <td>85</td>\n      <td>14</td>\n      <td>31</td>\n      <td>40</td>\n      <td>41</td>\n      <td>63</td>\n      <td>...</td>\n      <td>20.982631</td>\n      <td>120.806408</td>\n      <td>108.234752</td>\n      <td>0.807531</td>\n      <td>0.409154</td>\n      <td>4.16212</td>\n      <td>2.759883</td>\n      <td>1.564758</td>\n      <td>7.033868</td>\n      <td>17330</td>\n    </tr>\n    <tr>\n      <th>400</th>\n      <td>23</td>\n      <td>Victor</td>\n      <td>Wembanyama</td>\n      <td>2035</td>\n      <td>85</td>\n      <td>8</td>\n      <td>25</td>\n      <td>32</td>\n      <td>34</td>\n      <td>61</td>\n      <td>...</td>\n      <td>19.842957</td>\n      <td>119.992577</td>\n      <td>105.929211</td>\n      <td>-0.180757</td>\n      <td>1.189267</td>\n      <td>2.638785</td>\n      <td>2.316417</td>\n      <td>1.035762</td>\n      <td>4.623955</td>\n      <td>17330</td>\n    </tr>\n    <tr>\n      <th>401</th>\n      <td>23</td>\n      <td>Victor</td>\n      <td>Wembanyama</td>\n      <td>2036</td>\n      <td>85</td>\n      <td>4</td>\n      <td>18</td>\n      <td>21</td>\n      <td>29</td>\n      <td>59</td>\n      <td>...</td>\n      <td>18.090708</td>\n      <td>115.092815</td>\n      <td>105.98855</td>\n      <td>-1.361705</td>\n      <td>0.471594</td>\n      <td>1.255602</td>\n      <td>1.491726</td>\n      <td>0.257225</td>\n      <td>2.115411</td>\n      <td>17330</td>\n    </tr>\n    <tr>\n      <th>402</th>\n      <td>23</td>\n      <td>Victor</td>\n      <td>Wembanyama</td>\n      <td>2037</td>\n      <td>85</td>\n      <td>0</td>\n      <td>13</td>\n      <td>15</td>\n      <td>23</td>\n      <td>58</td>\n      <td>...</td>\n      <td>17.464234</td>\n      <td>121.010892</td>\n      <td>105.097694</td>\n      <td>-1.049221</td>\n      <td>0.513115</td>\n      <td>0.345248</td>\n      <td>0.326657</td>\n      <td>0.068664</td>\n      <td>0.530115</td>\n      <td>1850</td>\n    </tr>\n    <tr>\n      <th>403</th>\n      <td>23</td>\n      <td>Victor</td>\n      <td>Wembanyama</td>\n      <td>2038</td>\n      <td>85</td>\n      <td>1</td>\n      <td>11</td>\n      <td>12</td>\n      <td>22</td>\n      <td>62</td>\n      <td>...</td>\n      <td>22.637454</td>\n      <td>115.537689</td>\n      <td>108.950838</td>\n      <td>-0.553106</td>\n      <td>0.3432</td>\n      <td>0.877367</td>\n      <td>0.728637</td>\n      <td>0.245227</td>\n      <td>1.791956</td>\n      <td>1850</td>\n    </tr>\n    <tr>\n      <th>404</th>\n      <td>23</td>\n      <td>Victor</td>\n      <td>Wembanyama</td>\n      <td>2039</td>\n      <td>85</td>\n      <td>0</td>\n      <td>2</td>\n      <td>8</td>\n      <td>18</td>\n      <td>59</td>\n      <td>...</td>\n      <td>NaN</td>\n      <td>NaN</td>\n      <td>NaN</td>\n      <td>&lt;NA&gt;</td>\n      <td>&lt;NA&gt;</td>\n      <td>&lt;NA&gt;</td>\n      <td>&lt;NA&gt;</td>\n      <td>&lt;NA&gt;</td>\n      <td>&lt;NA&gt;</td>\n      <td>&lt;NA&gt;</td>\n    </tr>\n    <tr>\n      <th>405</th>\n      <td>23</td>\n      <td>Victor</td>\n      <td>Wembanyama</td>\n      <td>2040</td>\n      <td>85</td>\n      <td>0</td>\n      <td>0</td>\n      <td>0</td>\n      <td>13</td>\n      <td>56</td>\n      <td>...</td>\n      <td>NaN</td>\n      <td>NaN</td>\n      <td>NaN</td>\n      <td>&lt;NA&gt;</td>\n      <td>&lt;NA&gt;</td>\n      <td>&lt;NA&gt;</td>\n      <td>&lt;NA&gt;</td>\n      <td>&lt;NA&gt;</td>\n      <td>&lt;NA&gt;</td>\n      <td>&lt;NA&gt;</td>\n    </tr>\n  </tbody>\n</table>\n<p>17 rows × 40 columns</p>\n</div>"
     },
     "execution_count": 39,
     "metadata": {},
     "output_type": "execute_result"
    }
   ],
   "source": [
    "df[df.pid == 23]"
   ],
   "metadata": {
    "collapsed": false,
    "ExecuteTime": {
     "end_time": "2024-02-27T21:16:10.991086100Z",
     "start_time": "2024-02-27T21:16:10.966221500Z"
    }
   },
   "id": "e1c5ce9ef50e9937",
   "execution_count": 39
  },
  {
   "cell_type": "code",
   "outputs": [
    {
     "data": {
      "text/plain": "dict_keys(['tid', 'firstName', 'lastName', 'ratings', 'pos', 'hgt', 'weight', 'born', 'imgURL', 'contract', 'transactions', 'draft', 'college', 'stats', 'injury', 'pid', 'awards', 'gamesUntilTradable', 'injuries', 'moodTraits', 'numDaysFreeAgent', 'ptModifier', 'retiredYear', 'rosterOrder', 'yearsFreeAgent', 'statsTids', 'salaries', 'relatives', 'valueNoPot', 'valueNoPotFuzz', 'value', 'valueFuzz', 'diedYear'])"
     },
     "execution_count": 32,
     "metadata": {},
     "output_type": "execute_result"
    }
   ],
   "source": [
    "r_json['players'][831].keys()"
   ],
   "metadata": {
    "collapsed": false,
    "ExecuteTime": {
     "end_time": "2024-02-27T21:15:12.310210500Z",
     "start_time": "2024-02-27T21:15:12.293073400Z"
    }
   },
   "id": "f10d2ea1acd007b4",
   "execution_count": 32
  },
  {
   "cell_type": "code",
   "outputs": [
    {
     "data": {
      "text/plain": "{'round': 1,\n 'pick': 30,\n 'tid': 16,\n 'originalTid': 16,\n 'year': 2019,\n 'skills': [],\n 'pot': 0,\n 'ovr': 0}"
     },
     "execution_count": 24,
     "metadata": {},
     "output_type": "execute_result"
    }
   ],
   "source": [
    "r_json['players'][831]['draft']"
   ],
   "metadata": {
    "collapsed": false,
    "ExecuteTime": {
     "end_time": "2024-02-27T21:12:19.745614300Z",
     "start_time": "2024-02-27T21:12:19.724961700Z"
    }
   },
   "id": "3fb96534ce6ec7d2",
   "execution_count": 24
  },
  {
   "cell_type": "code",
   "outputs": [
    {
     "data": {
      "text/plain": "      pid firstName    lastName  season  hgt  stre  spd  jmp  endu  ins  ...  \\\n4816  831     Kevin  Porter Jr.    2020   44    43   69   61    70   62  ...   \n4817  831     Kevin  Porter Jr.    2021   44    43   69   61    70   62  ...   \n4818  831     Kevin  Porter Jr.    2022   44    43   69   61    70   62  ...   \n4819  831     Kevin  Porter Jr.    2023   44    43   74   63    70   64  ...   \n4820  831     Kevin  Porter Jr.    2024   44    41   71   60    39   56  ...   \n\n      usgp  ortg  drtg  obpm  dbpm   ows   dws  vorp   ewa salary  \n4816  20.5    99   115  -3.2  -0.6  -0.3   0.6  -0.5   0.2   <NA>  \n4817  25.4   101   118  -1.3  -2.4  -0.3   0.3  -0.4   0.8   <NA>  \n4818  24.1   103   117  -0.1  -1.6   0.0   0.8   0.2   2.4   <NA>  \n4819  24.3   112   120   1.4  -0.8   1.9   1.0   1.3   5.2   <NA>  \n4820   NaN   NaN   NaN  <NA>  <NA>  <NA>  <NA>  <NA>  <NA>   <NA>  \n\n[5 rows x 39 columns]",
      "text/html": "<div>\n<style scoped>\n    .dataframe tbody tr th:only-of-type {\n        vertical-align: middle;\n    }\n\n    .dataframe tbody tr th {\n        vertical-align: top;\n    }\n\n    .dataframe thead th {\n        text-align: right;\n    }\n</style>\n<table border=\"1\" class=\"dataframe\">\n  <thead>\n    <tr style=\"text-align: right;\">\n      <th></th>\n      <th>pid</th>\n      <th>firstName</th>\n      <th>lastName</th>\n      <th>season</th>\n      <th>hgt</th>\n      <th>stre</th>\n      <th>spd</th>\n      <th>jmp</th>\n      <th>endu</th>\n      <th>ins</th>\n      <th>...</th>\n      <th>usgp</th>\n      <th>ortg</th>\n      <th>drtg</th>\n      <th>obpm</th>\n      <th>dbpm</th>\n      <th>ows</th>\n      <th>dws</th>\n      <th>vorp</th>\n      <th>ewa</th>\n      <th>salary</th>\n    </tr>\n  </thead>\n  <tbody>\n    <tr>\n      <th>4816</th>\n      <td>831</td>\n      <td>Kevin</td>\n      <td>Porter Jr.</td>\n      <td>2020</td>\n      <td>44</td>\n      <td>43</td>\n      <td>69</td>\n      <td>61</td>\n      <td>70</td>\n      <td>62</td>\n      <td>...</td>\n      <td>20.5</td>\n      <td>99</td>\n      <td>115</td>\n      <td>-3.2</td>\n      <td>-0.6</td>\n      <td>-0.3</td>\n      <td>0.6</td>\n      <td>-0.5</td>\n      <td>0.2</td>\n      <td>&lt;NA&gt;</td>\n    </tr>\n    <tr>\n      <th>4817</th>\n      <td>831</td>\n      <td>Kevin</td>\n      <td>Porter Jr.</td>\n      <td>2021</td>\n      <td>44</td>\n      <td>43</td>\n      <td>69</td>\n      <td>61</td>\n      <td>70</td>\n      <td>62</td>\n      <td>...</td>\n      <td>25.4</td>\n      <td>101</td>\n      <td>118</td>\n      <td>-1.3</td>\n      <td>-2.4</td>\n      <td>-0.3</td>\n      <td>0.3</td>\n      <td>-0.4</td>\n      <td>0.8</td>\n      <td>&lt;NA&gt;</td>\n    </tr>\n    <tr>\n      <th>4818</th>\n      <td>831</td>\n      <td>Kevin</td>\n      <td>Porter Jr.</td>\n      <td>2022</td>\n      <td>44</td>\n      <td>43</td>\n      <td>69</td>\n      <td>61</td>\n      <td>70</td>\n      <td>62</td>\n      <td>...</td>\n      <td>24.1</td>\n      <td>103</td>\n      <td>117</td>\n      <td>-0.1</td>\n      <td>-1.6</td>\n      <td>0.0</td>\n      <td>0.8</td>\n      <td>0.2</td>\n      <td>2.4</td>\n      <td>&lt;NA&gt;</td>\n    </tr>\n    <tr>\n      <th>4819</th>\n      <td>831</td>\n      <td>Kevin</td>\n      <td>Porter Jr.</td>\n      <td>2023</td>\n      <td>44</td>\n      <td>43</td>\n      <td>74</td>\n      <td>63</td>\n      <td>70</td>\n      <td>64</td>\n      <td>...</td>\n      <td>24.3</td>\n      <td>112</td>\n      <td>120</td>\n      <td>1.4</td>\n      <td>-0.8</td>\n      <td>1.9</td>\n      <td>1.0</td>\n      <td>1.3</td>\n      <td>5.2</td>\n      <td>&lt;NA&gt;</td>\n    </tr>\n    <tr>\n      <th>4820</th>\n      <td>831</td>\n      <td>Kevin</td>\n      <td>Porter Jr.</td>\n      <td>2024</td>\n      <td>44</td>\n      <td>41</td>\n      <td>71</td>\n      <td>60</td>\n      <td>39</td>\n      <td>56</td>\n      <td>...</td>\n      <td>NaN</td>\n      <td>NaN</td>\n      <td>NaN</td>\n      <td>&lt;NA&gt;</td>\n      <td>&lt;NA&gt;</td>\n      <td>&lt;NA&gt;</td>\n      <td>&lt;NA&gt;</td>\n      <td>&lt;NA&gt;</td>\n      <td>&lt;NA&gt;</td>\n      <td>&lt;NA&gt;</td>\n    </tr>\n  </tbody>\n</table>\n<p>5 rows × 39 columns</p>\n</div>"
     },
     "execution_count": 23,
     "metadata": {},
     "output_type": "execute_result"
    }
   ],
   "source": [
    "df[df.pid == 831]"
   ],
   "metadata": {
    "collapsed": false,
    "ExecuteTime": {
     "end_time": "2024-02-27T21:11:50.505915200Z",
     "start_time": "2024-02-27T21:11:50.474343800Z"
    }
   },
   "id": "b6c9548df4d7d2ad",
   "execution_count": 23
  },
  {
   "cell_type": "code",
   "outputs": [
    {
     "data": {
      "text/plain": "[]"
     },
     "execution_count": 21,
     "metadata": {},
     "output_type": "execute_result"
    }
   ],
   "source": [
    "r_json['players'][235]['salaries']"
   ],
   "metadata": {
    "collapsed": false,
    "ExecuteTime": {
     "end_time": "2024-02-27T21:11:26.357098800Z",
     "start_time": "2024-02-27T21:11:26.338605700Z"
    }
   },
   "id": "a91fee7adefdba95",
   "execution_count": 21
  },
  {
   "cell_type": "code",
   "outputs": [],
   "source": [
    "def load_and_process_data(json_file):\n",
    "    r_json = json.load(json_file)\n",
    "    df = player_json_to_df(r_json)\n",
    "    df = df[df.season == df[~df.salary.isna()].season.max()].drop_duplicates(['pid', 'season']).reset_index(drop=True)\n",
    "    df['results'] = df.apply(lambda x: calc_progs(x['ovr'], x['age'], 0.75), axis=1)\n",
    "    df['rating_prog'] = df['results'].apply(lambda x: x['rating'])\n",
    "    df['rating_upper_prog'] = df['results'].apply(lambda x: x['rating_upper'])\n",
    "    df['rating_lower_prog'] = df['results'].apply(lambda x: x['rating_lower'])\n",
    "    df['vorp_added_prog'] = df['results'].apply(lambda x: x['vorp_added'])\n",
    "    df['cap_value_prog'] = df['results'].apply(lambda x: x['cap_value'])\n",
    "    df['team'] = df['tid'].map(dict([(teams['tid'], teams['region']) for teams in r_json['teams']]))\n",
    "    return df"
   ],
   "metadata": {
    "collapsed": false,
    "ExecuteTime": {
     "end_time": "2024-02-27T21:06:33.690605900Z",
     "start_time": "2024-02-27T21:06:33.689041900Z"
    }
   },
   "id": "3d06afea384c1583",
   "execution_count": 3
  },
  {
   "cell_type": "code",
   "outputs": [
    {
     "ename": "KeyboardInterrupt",
     "evalue": "",
     "output_type": "error",
     "traceback": [
      "\u001B[1;31m---------------------------------------------------------------------------\u001B[0m",
      "\u001B[1;31mKeyboardInterrupt\u001B[0m                         Traceback (most recent call last)",
      "Cell \u001B[1;32mIn[7], line 1\u001B[0m\n\u001B[1;32m----> 1\u001B[0m df \u001B[38;5;241m=\u001B[39m \u001B[43mload_and_process_data\u001B[49m\u001B[43m(\u001B[49m\u001B[38;5;28;43mopen\u001B[39;49m\u001B[43m(\u001B[49m\u001B[38;5;124;43m'\u001B[39;49m\u001B[38;5;124;43mC:/Users/jrnas/Downloads/BBGM_League_2_2024_preseason.json\u001B[39;49m\u001B[38;5;124;43m'\u001B[39;49m\u001B[43m,\u001B[49m\u001B[43m \u001B[49m\u001B[43mencoding\u001B[49m\u001B[38;5;241;43m=\u001B[39;49m\u001B[38;5;124;43m'\u001B[39;49m\u001B[38;5;124;43mlatin\u001B[39;49m\u001B[38;5;124;43m'\u001B[39;49m\u001B[43m)\u001B[49m\u001B[43m)\u001B[49m\n",
      "Cell \u001B[1;32mIn[6], line 4\u001B[0m, in \u001B[0;36mload_and_process_data\u001B[1;34m(json_file)\u001B[0m\n\u001B[0;32m      2\u001B[0m r_json \u001B[38;5;241m=\u001B[39m json\u001B[38;5;241m.\u001B[39mload(json_file)\n\u001B[0;32m      3\u001B[0m df \u001B[38;5;241m=\u001B[39m player_json_to_df(r_json)\n\u001B[1;32m----> 4\u001B[0m df[\u001B[38;5;124m'\u001B[39m\u001B[38;5;124mresults\u001B[39m\u001B[38;5;124m'\u001B[39m] \u001B[38;5;241m=\u001B[39m \u001B[43mdf\u001B[49m\u001B[38;5;241;43m.\u001B[39;49m\u001B[43mapply\u001B[49m\u001B[43m(\u001B[49m\u001B[38;5;28;43;01mlambda\u001B[39;49;00m\u001B[43m \u001B[49m\u001B[43mx\u001B[49m\u001B[43m:\u001B[49m\u001B[43m \u001B[49m\u001B[43mcalc_progs\u001B[49m\u001B[43m(\u001B[49m\u001B[43mx\u001B[49m\u001B[43m[\u001B[49m\u001B[38;5;124;43m'\u001B[39;49m\u001B[38;5;124;43movr\u001B[39;49m\u001B[38;5;124;43m'\u001B[39;49m\u001B[43m]\u001B[49m\u001B[43m,\u001B[49m\u001B[43m \u001B[49m\u001B[43mx\u001B[49m\u001B[43m[\u001B[49m\u001B[38;5;124;43m'\u001B[39;49m\u001B[38;5;124;43mage\u001B[39;49m\u001B[38;5;124;43m'\u001B[39;49m\u001B[43m]\u001B[49m\u001B[43m,\u001B[49m\u001B[43m \u001B[49m\u001B[38;5;241;43m0.75\u001B[39;49m\u001B[43m)\u001B[49m\u001B[43m,\u001B[49m\u001B[43m \u001B[49m\u001B[43maxis\u001B[49m\u001B[38;5;241;43m=\u001B[39;49m\u001B[38;5;241;43m1\u001B[39;49m\u001B[43m)\u001B[49m\n\u001B[0;32m      5\u001B[0m df[\u001B[38;5;124m'\u001B[39m\u001B[38;5;124mrating_prog\u001B[39m\u001B[38;5;124m'\u001B[39m] \u001B[38;5;241m=\u001B[39m df[\u001B[38;5;124m'\u001B[39m\u001B[38;5;124mresults\u001B[39m\u001B[38;5;124m'\u001B[39m]\u001B[38;5;241m.\u001B[39mapply(\u001B[38;5;28;01mlambda\u001B[39;00m x: x[\u001B[38;5;124m'\u001B[39m\u001B[38;5;124mrating\u001B[39m\u001B[38;5;124m'\u001B[39m])\n\u001B[0;32m      6\u001B[0m df[\u001B[38;5;124m'\u001B[39m\u001B[38;5;124mrating_upper_prog\u001B[39m\u001B[38;5;124m'\u001B[39m] \u001B[38;5;241m=\u001B[39m df[\u001B[38;5;124m'\u001B[39m\u001B[38;5;124mresults\u001B[39m\u001B[38;5;124m'\u001B[39m]\u001B[38;5;241m.\u001B[39mapply(\u001B[38;5;28;01mlambda\u001B[39;00m x: x[\u001B[38;5;124m'\u001B[39m\u001B[38;5;124mrating_upper\u001B[39m\u001B[38;5;124m'\u001B[39m])\n",
      "File \u001B[1;32m~\\anaconda3\\envs\\BBGM\\Lib\\site-packages\\pandas\\core\\frame.py:10361\u001B[0m, in \u001B[0;36mDataFrame.apply\u001B[1;34m(self, func, axis, raw, result_type, args, by_row, engine, engine_kwargs, **kwargs)\u001B[0m\n\u001B[0;32m  10347\u001B[0m \u001B[38;5;28;01mfrom\u001B[39;00m \u001B[38;5;21;01mpandas\u001B[39;00m\u001B[38;5;21;01m.\u001B[39;00m\u001B[38;5;21;01mcore\u001B[39;00m\u001B[38;5;21;01m.\u001B[39;00m\u001B[38;5;21;01mapply\u001B[39;00m \u001B[38;5;28;01mimport\u001B[39;00m frame_apply\n\u001B[0;32m  10349\u001B[0m op \u001B[38;5;241m=\u001B[39m frame_apply(\n\u001B[0;32m  10350\u001B[0m     \u001B[38;5;28mself\u001B[39m,\n\u001B[0;32m  10351\u001B[0m     func\u001B[38;5;241m=\u001B[39mfunc,\n\u001B[1;32m   (...)\u001B[0m\n\u001B[0;32m  10359\u001B[0m     kwargs\u001B[38;5;241m=\u001B[39mkwargs,\n\u001B[0;32m  10360\u001B[0m )\n\u001B[1;32m> 10361\u001B[0m \u001B[38;5;28;01mreturn\u001B[39;00m \u001B[43mop\u001B[49m\u001B[38;5;241;43m.\u001B[39;49m\u001B[43mapply\u001B[49m\u001B[43m(\u001B[49m\u001B[43m)\u001B[49m\u001B[38;5;241m.\u001B[39m__finalize__(\u001B[38;5;28mself\u001B[39m, method\u001B[38;5;241m=\u001B[39m\u001B[38;5;124m\"\u001B[39m\u001B[38;5;124mapply\u001B[39m\u001B[38;5;124m\"\u001B[39m)\n",
      "File \u001B[1;32m~\\anaconda3\\envs\\BBGM\\Lib\\site-packages\\pandas\\core\\apply.py:916\u001B[0m, in \u001B[0;36mFrameApply.apply\u001B[1;34m(self)\u001B[0m\n\u001B[0;32m    913\u001B[0m \u001B[38;5;28;01melif\u001B[39;00m \u001B[38;5;28mself\u001B[39m\u001B[38;5;241m.\u001B[39mraw:\n\u001B[0;32m    914\u001B[0m     \u001B[38;5;28;01mreturn\u001B[39;00m \u001B[38;5;28mself\u001B[39m\u001B[38;5;241m.\u001B[39mapply_raw(engine\u001B[38;5;241m=\u001B[39m\u001B[38;5;28mself\u001B[39m\u001B[38;5;241m.\u001B[39mengine, engine_kwargs\u001B[38;5;241m=\u001B[39m\u001B[38;5;28mself\u001B[39m\u001B[38;5;241m.\u001B[39mengine_kwargs)\n\u001B[1;32m--> 916\u001B[0m \u001B[38;5;28;01mreturn\u001B[39;00m \u001B[38;5;28;43mself\u001B[39;49m\u001B[38;5;241;43m.\u001B[39;49m\u001B[43mapply_standard\u001B[49m\u001B[43m(\u001B[49m\u001B[43m)\u001B[49m\n",
      "File \u001B[1;32m~\\anaconda3\\envs\\BBGM\\Lib\\site-packages\\pandas\\core\\apply.py:1063\u001B[0m, in \u001B[0;36mFrameApply.apply_standard\u001B[1;34m(self)\u001B[0m\n\u001B[0;32m   1061\u001B[0m \u001B[38;5;28;01mdef\u001B[39;00m \u001B[38;5;21mapply_standard\u001B[39m(\u001B[38;5;28mself\u001B[39m):\n\u001B[0;32m   1062\u001B[0m     \u001B[38;5;28;01mif\u001B[39;00m \u001B[38;5;28mself\u001B[39m\u001B[38;5;241m.\u001B[39mengine \u001B[38;5;241m==\u001B[39m \u001B[38;5;124m\"\u001B[39m\u001B[38;5;124mpython\u001B[39m\u001B[38;5;124m\"\u001B[39m:\n\u001B[1;32m-> 1063\u001B[0m         results, res_index \u001B[38;5;241m=\u001B[39m \u001B[38;5;28;43mself\u001B[39;49m\u001B[38;5;241;43m.\u001B[39;49m\u001B[43mapply_series_generator\u001B[49m\u001B[43m(\u001B[49m\u001B[43m)\u001B[49m\n\u001B[0;32m   1064\u001B[0m     \u001B[38;5;28;01melse\u001B[39;00m:\n\u001B[0;32m   1065\u001B[0m         results, res_index \u001B[38;5;241m=\u001B[39m \u001B[38;5;28mself\u001B[39m\u001B[38;5;241m.\u001B[39mapply_series_numba()\n",
      "File \u001B[1;32m~\\anaconda3\\envs\\BBGM\\Lib\\site-packages\\pandas\\core\\apply.py:1081\u001B[0m, in \u001B[0;36mFrameApply.apply_series_generator\u001B[1;34m(self)\u001B[0m\n\u001B[0;32m   1078\u001B[0m \u001B[38;5;28;01mwith\u001B[39;00m option_context(\u001B[38;5;124m\"\u001B[39m\u001B[38;5;124mmode.chained_assignment\u001B[39m\u001B[38;5;124m\"\u001B[39m, \u001B[38;5;28;01mNone\u001B[39;00m):\n\u001B[0;32m   1079\u001B[0m     \u001B[38;5;28;01mfor\u001B[39;00m i, v \u001B[38;5;129;01min\u001B[39;00m \u001B[38;5;28menumerate\u001B[39m(series_gen):\n\u001B[0;32m   1080\u001B[0m         \u001B[38;5;66;03m# ignore SettingWithCopy here in case the user mutates\u001B[39;00m\n\u001B[1;32m-> 1081\u001B[0m         results[i] \u001B[38;5;241m=\u001B[39m \u001B[38;5;28;43mself\u001B[39;49m\u001B[38;5;241;43m.\u001B[39;49m\u001B[43mfunc\u001B[49m\u001B[43m(\u001B[49m\u001B[43mv\u001B[49m\u001B[43m,\u001B[49m\u001B[43m \u001B[49m\u001B[38;5;241;43m*\u001B[39;49m\u001B[38;5;28;43mself\u001B[39;49m\u001B[38;5;241;43m.\u001B[39;49m\u001B[43margs\u001B[49m\u001B[43m,\u001B[49m\u001B[43m \u001B[49m\u001B[38;5;241;43m*\u001B[39;49m\u001B[38;5;241;43m*\u001B[39;49m\u001B[38;5;28;43mself\u001B[39;49m\u001B[38;5;241;43m.\u001B[39;49m\u001B[43mkwargs\u001B[49m\u001B[43m)\u001B[49m\n\u001B[0;32m   1082\u001B[0m         \u001B[38;5;28;01mif\u001B[39;00m \u001B[38;5;28misinstance\u001B[39m(results[i], ABCSeries):\n\u001B[0;32m   1083\u001B[0m             \u001B[38;5;66;03m# If we have a view on v, we need to make a copy because\u001B[39;00m\n\u001B[0;32m   1084\u001B[0m             \u001B[38;5;66;03m#  series_generator will swap out the underlying data\u001B[39;00m\n\u001B[0;32m   1085\u001B[0m             results[i] \u001B[38;5;241m=\u001B[39m results[i]\u001B[38;5;241m.\u001B[39mcopy(deep\u001B[38;5;241m=\u001B[39m\u001B[38;5;28;01mFalse\u001B[39;00m)\n",
      "Cell \u001B[1;32mIn[6], line 4\u001B[0m, in \u001B[0;36mload_and_process_data.<locals>.<lambda>\u001B[1;34m(x)\u001B[0m\n\u001B[0;32m      2\u001B[0m r_json \u001B[38;5;241m=\u001B[39m json\u001B[38;5;241m.\u001B[39mload(json_file)\n\u001B[0;32m      3\u001B[0m df \u001B[38;5;241m=\u001B[39m player_json_to_df(r_json)\n\u001B[1;32m----> 4\u001B[0m df[\u001B[38;5;124m'\u001B[39m\u001B[38;5;124mresults\u001B[39m\u001B[38;5;124m'\u001B[39m] \u001B[38;5;241m=\u001B[39m df\u001B[38;5;241m.\u001B[39mapply(\u001B[38;5;28;01mlambda\u001B[39;00m x: \u001B[43mcalc_progs\u001B[49m\u001B[43m(\u001B[49m\u001B[43mx\u001B[49m\u001B[43m[\u001B[49m\u001B[38;5;124;43m'\u001B[39;49m\u001B[38;5;124;43movr\u001B[39;49m\u001B[38;5;124;43m'\u001B[39;49m\u001B[43m]\u001B[49m\u001B[43m,\u001B[49m\u001B[43m \u001B[49m\u001B[43mx\u001B[49m\u001B[43m[\u001B[49m\u001B[38;5;124;43m'\u001B[39;49m\u001B[38;5;124;43mage\u001B[39;49m\u001B[38;5;124;43m'\u001B[39;49m\u001B[43m]\u001B[49m\u001B[43m,\u001B[49m\u001B[43m \u001B[49m\u001B[38;5;241;43m0.75\u001B[39;49m\u001B[43m)\u001B[49m, axis\u001B[38;5;241m=\u001B[39m\u001B[38;5;241m1\u001B[39m)\n\u001B[0;32m      5\u001B[0m df[\u001B[38;5;124m'\u001B[39m\u001B[38;5;124mrating_prog\u001B[39m\u001B[38;5;124m'\u001B[39m] \u001B[38;5;241m=\u001B[39m df[\u001B[38;5;124m'\u001B[39m\u001B[38;5;124mresults\u001B[39m\u001B[38;5;124m'\u001B[39m]\u001B[38;5;241m.\u001B[39mapply(\u001B[38;5;28;01mlambda\u001B[39;00m x: x[\u001B[38;5;124m'\u001B[39m\u001B[38;5;124mrating\u001B[39m\u001B[38;5;124m'\u001B[39m])\n\u001B[0;32m      6\u001B[0m df[\u001B[38;5;124m'\u001B[39m\u001B[38;5;124mrating_upper_prog\u001B[39m\u001B[38;5;124m'\u001B[39m] \u001B[38;5;241m=\u001B[39m df[\u001B[38;5;124m'\u001B[39m\u001B[38;5;124mresults\u001B[39m\u001B[38;5;124m'\u001B[39m]\u001B[38;5;241m.\u001B[39mapply(\u001B[38;5;28;01mlambda\u001B[39;00m x: x[\u001B[38;5;124m'\u001B[39m\u001B[38;5;124mrating_upper\u001B[39m\u001B[38;5;124m'\u001B[39m])\n",
      "File \u001B[1;32m~\\Projects\\Personal\\BBGM\\apps\\calcs.py:34\u001B[0m, in \u001B[0;36mcalc_progs\u001B[1;34m(ovr, age, q)\u001B[0m\n\u001B[0;32m     32\u001B[0m x_prog \u001B[38;5;241m=\u001B[39m progs[progs\u001B[38;5;241m.\u001B[39mage \u001B[38;5;241m==\u001B[39m age][\u001B[38;5;124m'\u001B[39m\u001B[38;5;124mx\u001B[39m\u001B[38;5;124m'\u001B[39m]\u001B[38;5;241m.\u001B[39mvalues\n\u001B[0;32m     33\u001B[0m x_rating \u001B[38;5;241m=\u001B[39m x_prog \u001B[38;5;241m+\u001B[39m ovr\n\u001B[1;32m---> 34\u001B[0m x_pred \u001B[38;5;241m=\u001B[39m \u001B[43m[\u001B[49m\u001B[43movr_to_vorp\u001B[49m\u001B[43m(\u001B[49m\u001B[43mx\u001B[49m\u001B[43m)\u001B[49m\u001B[43m \u001B[49m\u001B[38;5;28;43;01mfor\u001B[39;49;00m\u001B[43m \u001B[49m\u001B[43mx\u001B[49m\u001B[43m \u001B[49m\u001B[38;5;129;43;01min\u001B[39;49;00m\u001B[43m \u001B[49m\u001B[43mx_rating\u001B[49m\u001B[43m]\u001B[49m\n\u001B[0;32m     35\u001B[0m x_value \u001B[38;5;241m=\u001B[39m np\u001B[38;5;241m.\u001B[39marray(x_pred)\u001B[38;5;241m.\u001B[39mclip(\u001B[38;5;241m0\u001B[39m, )\n\u001B[0;32m     36\u001B[0m x_cap_hit \u001B[38;5;241m=\u001B[39m \u001B[38;5;241m30\u001B[39m \u001B[38;5;241m*\u001B[39m x_value \u001B[38;5;241m/\u001B[39m \u001B[38;5;241m433.58\u001B[39m\n",
      "File \u001B[1;32m~\\Projects\\Personal\\BBGM\\apps\\calcs.py:34\u001B[0m, in \u001B[0;36m<listcomp>\u001B[1;34m(.0)\u001B[0m\n\u001B[0;32m     32\u001B[0m x_prog \u001B[38;5;241m=\u001B[39m progs[progs\u001B[38;5;241m.\u001B[39mage \u001B[38;5;241m==\u001B[39m age][\u001B[38;5;124m'\u001B[39m\u001B[38;5;124mx\u001B[39m\u001B[38;5;124m'\u001B[39m]\u001B[38;5;241m.\u001B[39mvalues\n\u001B[0;32m     33\u001B[0m x_rating \u001B[38;5;241m=\u001B[39m x_prog \u001B[38;5;241m+\u001B[39m ovr\n\u001B[1;32m---> 34\u001B[0m x_pred \u001B[38;5;241m=\u001B[39m [\u001B[43movr_to_vorp\u001B[49m\u001B[43m(\u001B[49m\u001B[43mx\u001B[49m\u001B[43m)\u001B[49m \u001B[38;5;28;01mfor\u001B[39;00m x \u001B[38;5;129;01min\u001B[39;00m x_rating]\n\u001B[0;32m     35\u001B[0m x_value \u001B[38;5;241m=\u001B[39m np\u001B[38;5;241m.\u001B[39marray(x_pred)\u001B[38;5;241m.\u001B[39mclip(\u001B[38;5;241m0\u001B[39m, )\n\u001B[0;32m     36\u001B[0m x_cap_hit \u001B[38;5;241m=\u001B[39m \u001B[38;5;241m30\u001B[39m \u001B[38;5;241m*\u001B[39m x_value \u001B[38;5;241m/\u001B[39m \u001B[38;5;241m433.58\u001B[39m\n",
      "File \u001B[1;32m~\\Projects\\Personal\\BBGM\\apps\\calcs.py:18\u001B[0m, in \u001B[0;36movr_to_vorp\u001B[1;34m(ovr)\u001B[0m\n\u001B[0;32m     16\u001B[0m     \u001B[38;5;28;01mreturn\u001B[39;00m np\u001B[38;5;241m.\u001B[39mpolyval(poly_under, ovr)\n\u001B[0;32m     17\u001B[0m \u001B[38;5;28;01melse\u001B[39;00m:\n\u001B[1;32m---> 18\u001B[0m     \u001B[38;5;28;01mreturn\u001B[39;00m \u001B[43mnp\u001B[49m\u001B[38;5;241;43m.\u001B[39;49m\u001B[43mpolyval\u001B[49m\u001B[43m(\u001B[49m\u001B[43mpoly_over\u001B[49m\u001B[43m,\u001B[49m\u001B[43m \u001B[49m\u001B[43movr\u001B[49m\u001B[43m)\u001B[49m\n",
      "File \u001B[1;32m~\\anaconda3\\envs\\BBGM\\Lib\\site-packages\\numpy\\lib\\polynomial.py:778\u001B[0m, in \u001B[0;36mpolyval\u001B[1;34m(p, x)\u001B[0m\n\u001B[0;32m    776\u001B[0m \u001B[38;5;28;01melse\u001B[39;00m:\n\u001B[0;32m    777\u001B[0m     x \u001B[38;5;241m=\u001B[39m NX\u001B[38;5;241m.\u001B[39masanyarray(x)\n\u001B[1;32m--> 778\u001B[0m     y \u001B[38;5;241m=\u001B[39m \u001B[43mNX\u001B[49m\u001B[38;5;241;43m.\u001B[39;49m\u001B[43mzeros_like\u001B[49m\u001B[43m(\u001B[49m\u001B[43mx\u001B[49m\u001B[43m)\u001B[49m\n\u001B[0;32m    779\u001B[0m \u001B[38;5;28;01mfor\u001B[39;00m pv \u001B[38;5;129;01min\u001B[39;00m p:\n\u001B[0;32m    780\u001B[0m     y \u001B[38;5;241m=\u001B[39m y \u001B[38;5;241m*\u001B[39m x \u001B[38;5;241m+\u001B[39m pv\n",
      "File \u001B[1;32m~\\anaconda3\\envs\\BBGM\\Lib\\site-packages\\numpy\\core\\numeric.py:132\u001B[0m, in \u001B[0;36mzeros_like\u001B[1;34m(a, dtype, order, subok, shape)\u001B[0m\n\u001B[0;32m    130\u001B[0m \u001B[38;5;66;03m# needed instead of a 0 to get same result as zeros for string dtypes\u001B[39;00m\n\u001B[0;32m    131\u001B[0m z \u001B[38;5;241m=\u001B[39m zeros(\u001B[38;5;241m1\u001B[39m, dtype\u001B[38;5;241m=\u001B[39mres\u001B[38;5;241m.\u001B[39mdtype)\n\u001B[1;32m--> 132\u001B[0m \u001B[43mmultiarray\u001B[49m\u001B[38;5;241;43m.\u001B[39;49m\u001B[43mcopyto\u001B[49m\u001B[43m(\u001B[49m\u001B[43mres\u001B[49m\u001B[43m,\u001B[49m\u001B[43m \u001B[49m\u001B[43mz\u001B[49m\u001B[43m,\u001B[49m\u001B[43m \u001B[49m\u001B[43mcasting\u001B[49m\u001B[38;5;241;43m=\u001B[39;49m\u001B[38;5;124;43m'\u001B[39;49m\u001B[38;5;124;43munsafe\u001B[39;49m\u001B[38;5;124;43m'\u001B[39;49m\u001B[43m)\u001B[49m\n\u001B[0;32m    133\u001B[0m \u001B[38;5;28;01mreturn\u001B[39;00m res\n",
      "\u001B[1;31mKeyboardInterrupt\u001B[0m: "
     ]
    }
   ],
   "source": [
    "df = load_and_process_data(open('C:/Users/jrnas/Downloads/BBGM_League_2_2024_preseason.json', encoding='latin'))"
   ],
   "metadata": {
    "collapsed": false,
    "ExecuteTime": {
     "end_time": "2024-02-27T21:06:27.251707700Z",
     "start_time": "2024-02-27T21:06:04.550403700Z"
    }
   },
   "id": "92a6ed22f0f38217",
   "execution_count": 7
  },
  {
   "cell_type": "code",
   "outputs": [],
   "source": [],
   "metadata": {
    "collapsed": false
   },
   "id": "d339934c66c6a87a"
  },
  {
   "cell_type": "code",
   "outputs": [
    {
     "data": {
      "text/plain": "   pid firstName lastName  season  hgt  stre  spd  jmp  endu  ins  ...  vorp  \\\n0    0      Evan   Mobley    2024   67    58   55   61    70   68  ...   0.0   \n1    1    Julius   Randle    2024   56    50   62   45    99   70  ...   0.0   \n2    2      Rudy   Gobert    2024   80    96   35   54    70   69  ...   0.0   \n3    3     Myles   Turner    2024   70    60   44   70    70   46  ...   0.0   \n4    5  Draymond    Green    2024   55    74   35   44    25   60  ...   0.0   \n\n   ewa  salary                                            results  \\\n0  0.0   10000  {'rating': {0: 64, 1: 64.98245998684497, 2: 66...   \n1  0.0   30300  {'rating': {0: 65, 1: 62.62057108685903, 2: 59...   \n2  0.0   43800  {'rating': {0: 66, 1: 62.3418872499495, 2: 58....   \n3  0.0   20500  {'rating': {0: 65, 1: 63.197065820777155, 2: 6...   \n4  0.0   25000  {'rating': {0: 60, 1: 55.24398073836275, 2: 50...   \n\n                                         rating_prog  \\\n0  {0: 64, 1: 64.98245998684497, 2: 66.0349549467...   \n1  {0: 65, 1: 62.62057108685903, 2: 59.9480301657...   \n2  {0: 66, 1: 62.3418872499495, 2: 58.74028069657...   \n3  {0: 65, 1: 63.197065820777155, 2: 60.917737007...   \n4  {0: 60, 1: 55.24398073836275, 2: 50.1473896619...   \n\n                                   rating_upper_prog  \\\n0  {0: 64, 1: 68.30430430430431, 2: 70.3063063063...   \n1  {0: 65, 1: 64.8998998998999, 2: 62.89789789789...   \n2  {0: 66, 1: 64.6986986986987, 2: 61.69569569569...   \n3  {0: 65, 1: 65.50050050050051, 2: 63.8988988988...   \n4  {0: 60, 1: 57.297297297297305, 2: 52.892892892...   \n\n                                   rating_lower_prog  \\\n0  {0: 64, 1: 61.097097097097105, 2: 61.297297297...   \n1  {0: 65, 1: 60.295295295295304, 2: 56.891891891...   \n2  {0: 66, 1: 59.8938938938939, 2: 55.68968968968...   \n3  {0: 65, 1: 60.895895895895904, 2: 57.892892892...   \n4  {0: 60, 1: 53.0930930930931, 2: 47.28728728728...   \n\n                                     vorp_added_prog  \\\n0  {0: 4.275118756882797, 1: 4.711477446348202, 2...   \n1  {0: 4.7189779381015775, 1: 3.664402594549525, ...   \n2  {0: 5.162837119320354, 1: 3.5398025869945005, ...   \n3  {0: 4.7189779381015775, 1: 3.9189532011985255,...   \n4  {0: 2.49968203200768, 1: 0.8390973725568016, 2...   \n\n                                      cap_value_prog          team  \n0  {0: 0.29580138084432844, 1: 0.3259936422123854...     Cleveland  \n1  {0: 0.3265126116127297, 1: 0.25354508472827564...      New York  \n2  {0: 0.35722384238113064, 1: 0.2449238378380806...     Minnesota  \n3  {0: 0.3265126116127297, 1: 0.2711577933390742,...       Indiana  \n4  {0: 0.17295645777072374, 1: 0.0580583079863094...  Golden State  \n\n[5 rows x 46 columns]",
      "text/html": "<div>\n<style scoped>\n    .dataframe tbody tr th:only-of-type {\n        vertical-align: middle;\n    }\n\n    .dataframe tbody tr th {\n        vertical-align: top;\n    }\n\n    .dataframe thead th {\n        text-align: right;\n    }\n</style>\n<table border=\"1\" class=\"dataframe\">\n  <thead>\n    <tr style=\"text-align: right;\">\n      <th></th>\n      <th>pid</th>\n      <th>firstName</th>\n      <th>lastName</th>\n      <th>season</th>\n      <th>hgt</th>\n      <th>stre</th>\n      <th>spd</th>\n      <th>jmp</th>\n      <th>endu</th>\n      <th>ins</th>\n      <th>...</th>\n      <th>vorp</th>\n      <th>ewa</th>\n      <th>salary</th>\n      <th>results</th>\n      <th>rating_prog</th>\n      <th>rating_upper_prog</th>\n      <th>rating_lower_prog</th>\n      <th>vorp_added_prog</th>\n      <th>cap_value_prog</th>\n      <th>team</th>\n    </tr>\n  </thead>\n  <tbody>\n    <tr>\n      <th>0</th>\n      <td>0</td>\n      <td>Evan</td>\n      <td>Mobley</td>\n      <td>2024</td>\n      <td>67</td>\n      <td>58</td>\n      <td>55</td>\n      <td>61</td>\n      <td>70</td>\n      <td>68</td>\n      <td>...</td>\n      <td>0.0</td>\n      <td>0.0</td>\n      <td>10000</td>\n      <td>{'rating': {0: 64, 1: 64.98245998684497, 2: 66...</td>\n      <td>{0: 64, 1: 64.98245998684497, 2: 66.0349549467...</td>\n      <td>{0: 64, 1: 68.30430430430431, 2: 70.3063063063...</td>\n      <td>{0: 64, 1: 61.097097097097105, 2: 61.297297297...</td>\n      <td>{0: 4.275118756882797, 1: 4.711477446348202, 2...</td>\n      <td>{0: 0.29580138084432844, 1: 0.3259936422123854...</td>\n      <td>Cleveland</td>\n    </tr>\n    <tr>\n      <th>1</th>\n      <td>1</td>\n      <td>Julius</td>\n      <td>Randle</td>\n      <td>2024</td>\n      <td>56</td>\n      <td>50</td>\n      <td>62</td>\n      <td>45</td>\n      <td>99</td>\n      <td>70</td>\n      <td>...</td>\n      <td>0.0</td>\n      <td>0.0</td>\n      <td>30300</td>\n      <td>{'rating': {0: 65, 1: 62.62057108685903, 2: 59...</td>\n      <td>{0: 65, 1: 62.62057108685903, 2: 59.9480301657...</td>\n      <td>{0: 65, 1: 64.8998998998999, 2: 62.89789789789...</td>\n      <td>{0: 65, 1: 60.295295295295304, 2: 56.891891891...</td>\n      <td>{0: 4.7189779381015775, 1: 3.664402594549525, ...</td>\n      <td>{0: 0.3265126116127297, 1: 0.25354508472827564...</td>\n      <td>New York</td>\n    </tr>\n    <tr>\n      <th>2</th>\n      <td>2</td>\n      <td>Rudy</td>\n      <td>Gobert</td>\n      <td>2024</td>\n      <td>80</td>\n      <td>96</td>\n      <td>35</td>\n      <td>54</td>\n      <td>70</td>\n      <td>69</td>\n      <td>...</td>\n      <td>0.0</td>\n      <td>0.0</td>\n      <td>43800</td>\n      <td>{'rating': {0: 66, 1: 62.3418872499495, 2: 58....</td>\n      <td>{0: 66, 1: 62.3418872499495, 2: 58.74028069657...</td>\n      <td>{0: 66, 1: 64.6986986986987, 2: 61.69569569569...</td>\n      <td>{0: 66, 1: 59.8938938938939, 2: 55.68968968968...</td>\n      <td>{0: 5.162837119320354, 1: 3.5398025869945005, ...</td>\n      <td>{0: 0.35722384238113064, 1: 0.2449238378380806...</td>\n      <td>Minnesota</td>\n    </tr>\n    <tr>\n      <th>3</th>\n      <td>3</td>\n      <td>Myles</td>\n      <td>Turner</td>\n      <td>2024</td>\n      <td>70</td>\n      <td>60</td>\n      <td>44</td>\n      <td>70</td>\n      <td>70</td>\n      <td>46</td>\n      <td>...</td>\n      <td>0.0</td>\n      <td>0.0</td>\n      <td>20500</td>\n      <td>{'rating': {0: 65, 1: 63.197065820777155, 2: 6...</td>\n      <td>{0: 65, 1: 63.197065820777155, 2: 60.917737007...</td>\n      <td>{0: 65, 1: 65.50050050050051, 2: 63.8988988988...</td>\n      <td>{0: 65, 1: 60.895895895895904, 2: 57.892892892...</td>\n      <td>{0: 4.7189779381015775, 1: 3.9189532011985255,...</td>\n      <td>{0: 0.3265126116127297, 1: 0.2711577933390742,...</td>\n      <td>Indiana</td>\n    </tr>\n    <tr>\n      <th>4</th>\n      <td>5</td>\n      <td>Draymond</td>\n      <td>Green</td>\n      <td>2024</td>\n      <td>55</td>\n      <td>74</td>\n      <td>35</td>\n      <td>44</td>\n      <td>25</td>\n      <td>60</td>\n      <td>...</td>\n      <td>0.0</td>\n      <td>0.0</td>\n      <td>25000</td>\n      <td>{'rating': {0: 60, 1: 55.24398073836275, 2: 50...</td>\n      <td>{0: 60, 1: 55.24398073836275, 2: 50.1473896619...</td>\n      <td>{0: 60, 1: 57.297297297297305, 2: 52.892892892...</td>\n      <td>{0: 60, 1: 53.0930930930931, 2: 47.28728728728...</td>\n      <td>{0: 2.49968203200768, 1: 0.8390973725568016, 2...</td>\n      <td>{0: 0.17295645777072374, 1: 0.0580583079863094...</td>\n      <td>Golden State</td>\n    </tr>\n  </tbody>\n</table>\n<p>5 rows × 46 columns</p>\n</div>"
     },
     "execution_count": 5,
     "metadata": {},
     "output_type": "execute_result"
    }
   ],
   "source": [
    "df.head()"
   ],
   "metadata": {
    "collapsed": false,
    "ExecuteTime": {
     "end_time": "2024-02-27T21:05:36.215180300Z",
     "start_time": "2024-02-27T21:05:36.184354300Z"
    }
   },
   "id": "3357227973f3ab1b",
   "execution_count": 5
  },
  {
   "cell_type": "code",
   "outputs": [],
   "source": [
    "def player_plot(pid, df):\n",
    "    \n",
    "    # Filter the dataframe for the specific pid\n",
    "    df_filtered = df[df.pid == pid]\n",
    "    \n",
    "    # Retrieve the player's first name and last name\n",
    "    first_name = df_filtered['firstName'].values[0]\n",
    "    last_name = df_filtered['lastName'].values[0]\n",
    "    \n",
    "    # Create the title\n",
    "    title = f'{first_name} {last_name}'\n",
    "    \n",
    "    # Extract the rating, value, and bounds data\n",
    "    rating_data = df_filtered['rating_prog'].values[0]\n",
    "    rating_upper_data = df_filtered['rating_upper_prog'].values[0]\n",
    "    rating_lower_data = df_filtered['rating_lower_prog'].values[0]\n",
    "    value_data = df_filtered['vorp_added_prog'].values[0]\n",
    "    cap_value_data = df_filtered['cap_value_prog'].values[0]\n",
    "    \n",
    "    # Create the plot for ratings\n",
    "    fig = go.Figure()\n",
    "    \n",
    "    # Add the plot for upper and lower bounds as lines with the area between them filled\n",
    "    fig.add_trace(\n",
    "        go.Scatter(\n",
    "            x=list(rating_upper_data.keys()),\n",
    "            y=list(rating_upper_data.values()),\n",
    "            name='Upper Bound',\n",
    "            mode='lines',\n",
    "            line=dict(width=0),\n",
    "            hoverinfo='skip',\n",
    "            showlegend=False,\n",
    "        )\n",
    "    )\n",
    "    \n",
    "    fig.add_trace(\n",
    "        go.Scatter(\n",
    "            x=list(rating_lower_data.keys()),\n",
    "            y=list(rating_lower_data.values()),\n",
    "            name='Lower Bound',\n",
    "            mode='none',\n",
    "            fill='tonexty',\n",
    "            hoverinfo='skip',\n",
    "            fillcolor='rgba(255, 90, 95, 0.2)',\n",
    "            showlegend=False,\n",
    "        )\n",
    "    )\n",
    "    \n",
    "    # Add the plot for ratings as a line\n",
    "    fig.add_trace(\n",
    "        go.Scatter(\n",
    "            x=list(rating_data.keys()),\n",
    "            y=list(rating_data.values()),\n",
    "            name='Rating',\n",
    "            line=dict(\n",
    "                color='rgb(255, 90, 95)'\n",
    "            ),\n",
    "            customdata=np.stack((list(rating_lower_data.values()), list(rating_upper_data.values())), axis=-1),\n",
    "            hovertemplate=\n",
    "            '<b>Year</b>: %{x}<br>' +\n",
    "            '<b>Rating</b>: %{y:.1f}<br>' +  # Round to 1 decimal place\n",
    "            '<b>Lower Bound</b>: %{customdata[0]:.1f}<br>' +  # Round to 1 decimal place\n",
    "            '<b>Upper Bound</b>: %{customdata[1]:.1f}<br>',  # Round to 1 decimal place\n",
    "        )\n",
    "    )\n",
    "    \n",
    "    # Add the plot for values as bars\n",
    "    fig.add_trace(\n",
    "        go.Bar(\n",
    "            x=[x - 0.2 for x in list(value_data.keys())],\n",
    "            y=list(value_data.values()),\n",
    "            name='Value',\n",
    "            yaxis='y2',\n",
    "            width=0.35,\n",
    "            marker=dict(\n",
    "                color='rgb(252,100,45)'\n",
    "            ),\n",
    "            text=[f'{val:.1f}' for val in list(value_data.values())],\n",
    "            textposition='outside',\n",
    "            textfont=dict(\n",
    "                color='rgb(252,100,45)',\n",
    "                size=14,\n",
    "            ),\n",
    "        )\n",
    "    )\n",
    "    \n",
    "    # Add the plot for cap values as bars\n",
    "    fig.add_trace(\n",
    "        go.Bar(\n",
    "            x=[x + 0.2 for x in list(cap_value_data.keys())],\n",
    "            y=list(cap_value_data.values()),\n",
    "            name='Cap Value',\n",
    "            yaxis='y3',\n",
    "            width=0.35,\n",
    "            marker=dict(\n",
    "                color='rgb(0, 166, 153)'\n",
    "            ),\n",
    "            text=[f'{val*100:.1f}%' for val in list(cap_value_data.values())],\n",
    "            textposition='outside',\n",
    "            textfont=dict(\n",
    "                color='rgb(0, 166, 153)',\n",
    "                size=14,\n",
    "            ),\n",
    "        )\n",
    "    )\n",
    "    \n",
    "    # Update the plot title\n",
    "    fig.update_layout(\n",
    "        template='simple_white',\n",
    "        title=title,\n",
    "        barmode='group',\n",
    "        yaxis=dict(\n",
    "            range=[10, 90],\n",
    "            showgrid=False,\n",
    "            showticklabels=True,\n",
    "        ),\n",
    "        yaxis2=dict(\n",
    "            range=[0, 20],\n",
    "            overlaying='y',\n",
    "            side='right',\n",
    "            showgrid=False,\n",
    "            showticklabels=False,\n",
    "        ),\n",
    "        yaxis3=dict(\n",
    "            range=[0, 1],\n",
    "            overlaying='y',\n",
    "            side='left',\n",
    "            showgrid=False,\n",
    "            showticklabels=False,\n",
    "        )\n",
    "    )\n",
    "    return fig"
   ],
   "metadata": {
    "collapsed": false,
    "ExecuteTime": {
     "end_time": "2024-02-27T19:00:11.775605900Z",
     "start_time": "2024-02-27T19:00:11.764477200Z"
    }
   },
   "id": "4a7fddd0ac885599",
   "execution_count": 11
  },
  {
   "cell_type": "code",
   "outputs": [
    {
     "data": {
      "application/vnd.plotly.v1+json": {
       "data": [
        {
         "hoverinfo": "skip",
         "line": {
          "width": 0
         },
         "mode": "lines",
         "name": "Upper Bound",
         "showlegend": false,
         "x": [
          0,
          1,
          2,
          3,
          4,
          5,
          6,
          7,
          8,
          9
         ],
         "y": [
          71,
          72.90190190190191,
          72.90190190190191,
          71.90090090090091,
          70.6996996996997,
          68.8978978978979,
          66.6956956956957,
          63.4924924924925,
          60.2892892892893,
          57.0860860860861
         ],
         "type": "scatter"
        },
        {
         "fill": "tonexty",
         "fillcolor": "rgba(255, 90, 95, 0.2)",
         "hoverinfo": "skip",
         "mode": "none",
         "name": "Lower Bound",
         "showlegend": false,
         "x": [
          0,
          1,
          2,
          3,
          4,
          5,
          6,
          7,
          8,
          9
         ],
         "y": [
          71,
          68.4974974974975,
          67.0960960960961,
          64.8938938938939,
          62.6916916916917,
          59.8888888888889,
          56.8858858858859,
          52.88188188188188,
          48.87787787787788,
          44.873873873873876
         ],
         "type": "scatter"
        },
        {
         "customdata": [
          [
           71.0,
           71.0
          ],
          [
           68.4974974974975,
           72.90190190190191
          ],
          [
           67.0960960960961,
           72.90190190190191
          ],
          [
           64.8938938938939,
           71.90090090090091
          ],
          [
           62.6916916916917,
           70.6996996996997
          ],
          [
           59.8888888888889,
           68.8978978978979
          ],
          [
           56.8858858858859,
           66.6956956956957
          ],
          [
           52.88188188188188,
           63.4924924924925
          ],
          [
           48.87787787787788,
           60.2892892892893
          ],
          [
           44.873873873873876,
           57.0860860860861
          ]
         ],
         "hovertemplate": "<b>Year</b>: %{x}<br><b>Rating</b>: %{y:.1f}<br><b>Lower Bound</b>: %{customdata[0]:.1f}<br><b>Upper Bound</b>: %{customdata[1]:.1f}<br>",
         "line": {
          "color": "rgb(255, 90, 95)"
         },
         "name": "Rating",
         "x": [
          0,
          1,
          2,
          3,
          4,
          5,
          6,
          7,
          8,
          9
         ],
         "y": [
          71,
          70.67927559515115,
          70.1098992090046,
          68.48652083905417,
          66.7836867599314,
          64.50435794689052,
          61.831817025772736,
          58.273804375822316,
          54.67219782244725,
          51.05717083017289
         ],
         "type": "scatter"
        },
        {
         "marker": {
          "color": "rgb(252,100,45)"
         },
         "name": "Value",
         "text": [
          "7.4",
          "7.2",
          "7.0",
          "6.3",
          "5.5",
          "4.6",
          "3.6",
          "2.5",
          "1.6",
          "1.0"
         ],
         "textfont": {
          "color": "rgb(252,100,45)",
          "size": 14
         },
         "textposition": "outside",
         "width": 0.35,
         "x": [
          -0.2,
          0.8,
          1.8,
          2.8,
          3.8,
          4.8,
          5.8,
          6.8,
          7.8,
          8.8
         ],
         "y": [
          7.382133025414252,
          7.239776580767351,
          6.987112867484429,
          6.2674303418340225,
          5.524006078994024,
          4.578811904844747,
          3.5808229347664122,
          2.457839711206452,
          1.6016123648573615,
          0.999765262656747
         ],
         "yaxis": "y2",
         "type": "bar"
        },
        {
         "marker": {
          "color": "rgb(0, 166, 153)"
         },
         "name": "Cap Value",
         "text": [
          "51.1%",
          "50.1%",
          "48.3%",
          "43.4%",
          "38.2%",
          "31.7%",
          "24.8%",
          "17.0%",
          "11.1%",
          "6.9%"
         ],
         "textfont": {
          "color": "rgb(0, 166, 153)",
          "size": 14
         },
         "textposition": "outside",
         "width": 0.35,
         "x": [
          0.2,
          1.2,
          2.2,
          3.2,
          4.2,
          5.2,
          6.2,
          7.2,
          8.2,
          9.2
         ],
         "y": [
          0.5107799962231366,
          0.5009301568868963,
          0.4834480050383617,
          0.4336521755039916,
          0.38221362232995226,
          0.31681432987070984,
          0.24776209244658973,
          0.17006132971122642,
          0.1108177751411985,
          0.06917514156488402
         ],
         "yaxis": "y3",
         "type": "bar"
        }
       ],
       "layout": {
        "template": {
         "data": {
          "barpolar": [
           {
            "marker": {
             "line": {
              "color": "white",
              "width": 0.5
             },
             "pattern": {
              "fillmode": "overlay",
              "size": 10,
              "solidity": 0.2
             }
            },
            "type": "barpolar"
           }
          ],
          "bar": [
           {
            "error_x": {
             "color": "rgb(36,36,36)"
            },
            "error_y": {
             "color": "rgb(36,36,36)"
            },
            "marker": {
             "line": {
              "color": "white",
              "width": 0.5
             },
             "pattern": {
              "fillmode": "overlay",
              "size": 10,
              "solidity": 0.2
             }
            },
            "type": "bar"
           }
          ],
          "carpet": [
           {
            "aaxis": {
             "endlinecolor": "rgb(36,36,36)",
             "gridcolor": "white",
             "linecolor": "white",
             "minorgridcolor": "white",
             "startlinecolor": "rgb(36,36,36)"
            },
            "baxis": {
             "endlinecolor": "rgb(36,36,36)",
             "gridcolor": "white",
             "linecolor": "white",
             "minorgridcolor": "white",
             "startlinecolor": "rgb(36,36,36)"
            },
            "type": "carpet"
           }
          ],
          "choropleth": [
           {
            "colorbar": {
             "outlinewidth": 1,
             "tickcolor": "rgb(36,36,36)",
             "ticks": "outside"
            },
            "type": "choropleth"
           }
          ],
          "contourcarpet": [
           {
            "colorbar": {
             "outlinewidth": 1,
             "tickcolor": "rgb(36,36,36)",
             "ticks": "outside"
            },
            "type": "contourcarpet"
           }
          ],
          "contour": [
           {
            "colorbar": {
             "outlinewidth": 1,
             "tickcolor": "rgb(36,36,36)",
             "ticks": "outside"
            },
            "colorscale": [
             [
              0.0,
              "#440154"
             ],
             [
              0.1111111111111111,
              "#482878"
             ],
             [
              0.2222222222222222,
              "#3e4989"
             ],
             [
              0.3333333333333333,
              "#31688e"
             ],
             [
              0.4444444444444444,
              "#26828e"
             ],
             [
              0.5555555555555556,
              "#1f9e89"
             ],
             [
              0.6666666666666666,
              "#35b779"
             ],
             [
              0.7777777777777778,
              "#6ece58"
             ],
             [
              0.8888888888888888,
              "#b5de2b"
             ],
             [
              1.0,
              "#fde725"
             ]
            ],
            "type": "contour"
           }
          ],
          "heatmapgl": [
           {
            "colorbar": {
             "outlinewidth": 1,
             "tickcolor": "rgb(36,36,36)",
             "ticks": "outside"
            },
            "colorscale": [
             [
              0.0,
              "#440154"
             ],
             [
              0.1111111111111111,
              "#482878"
             ],
             [
              0.2222222222222222,
              "#3e4989"
             ],
             [
              0.3333333333333333,
              "#31688e"
             ],
             [
              0.4444444444444444,
              "#26828e"
             ],
             [
              0.5555555555555556,
              "#1f9e89"
             ],
             [
              0.6666666666666666,
              "#35b779"
             ],
             [
              0.7777777777777778,
              "#6ece58"
             ],
             [
              0.8888888888888888,
              "#b5de2b"
             ],
             [
              1.0,
              "#fde725"
             ]
            ],
            "type": "heatmapgl"
           }
          ],
          "heatmap": [
           {
            "colorbar": {
             "outlinewidth": 1,
             "tickcolor": "rgb(36,36,36)",
             "ticks": "outside"
            },
            "colorscale": [
             [
              0.0,
              "#440154"
             ],
             [
              0.1111111111111111,
              "#482878"
             ],
             [
              0.2222222222222222,
              "#3e4989"
             ],
             [
              0.3333333333333333,
              "#31688e"
             ],
             [
              0.4444444444444444,
              "#26828e"
             ],
             [
              0.5555555555555556,
              "#1f9e89"
             ],
             [
              0.6666666666666666,
              "#35b779"
             ],
             [
              0.7777777777777778,
              "#6ece58"
             ],
             [
              0.8888888888888888,
              "#b5de2b"
             ],
             [
              1.0,
              "#fde725"
             ]
            ],
            "type": "heatmap"
           }
          ],
          "histogram2dcontour": [
           {
            "colorbar": {
             "outlinewidth": 1,
             "tickcolor": "rgb(36,36,36)",
             "ticks": "outside"
            },
            "colorscale": [
             [
              0.0,
              "#440154"
             ],
             [
              0.1111111111111111,
              "#482878"
             ],
             [
              0.2222222222222222,
              "#3e4989"
             ],
             [
              0.3333333333333333,
              "#31688e"
             ],
             [
              0.4444444444444444,
              "#26828e"
             ],
             [
              0.5555555555555556,
              "#1f9e89"
             ],
             [
              0.6666666666666666,
              "#35b779"
             ],
             [
              0.7777777777777778,
              "#6ece58"
             ],
             [
              0.8888888888888888,
              "#b5de2b"
             ],
             [
              1.0,
              "#fde725"
             ]
            ],
            "type": "histogram2dcontour"
           }
          ],
          "histogram2d": [
           {
            "colorbar": {
             "outlinewidth": 1,
             "tickcolor": "rgb(36,36,36)",
             "ticks": "outside"
            },
            "colorscale": [
             [
              0.0,
              "#440154"
             ],
             [
              0.1111111111111111,
              "#482878"
             ],
             [
              0.2222222222222222,
              "#3e4989"
             ],
             [
              0.3333333333333333,
              "#31688e"
             ],
             [
              0.4444444444444444,
              "#26828e"
             ],
             [
              0.5555555555555556,
              "#1f9e89"
             ],
             [
              0.6666666666666666,
              "#35b779"
             ],
             [
              0.7777777777777778,
              "#6ece58"
             ],
             [
              0.8888888888888888,
              "#b5de2b"
             ],
             [
              1.0,
              "#fde725"
             ]
            ],
            "type": "histogram2d"
           }
          ],
          "histogram": [
           {
            "marker": {
             "line": {
              "color": "white",
              "width": 0.6
             }
            },
            "type": "histogram"
           }
          ],
          "mesh3d": [
           {
            "colorbar": {
             "outlinewidth": 1,
             "tickcolor": "rgb(36,36,36)",
             "ticks": "outside"
            },
            "type": "mesh3d"
           }
          ],
          "parcoords": [
           {
            "line": {
             "colorbar": {
              "outlinewidth": 1,
              "tickcolor": "rgb(36,36,36)",
              "ticks": "outside"
             }
            },
            "type": "parcoords"
           }
          ],
          "pie": [
           {
            "automargin": true,
            "type": "pie"
           }
          ],
          "scatter3d": [
           {
            "line": {
             "colorbar": {
              "outlinewidth": 1,
              "tickcolor": "rgb(36,36,36)",
              "ticks": "outside"
             }
            },
            "marker": {
             "colorbar": {
              "outlinewidth": 1,
              "tickcolor": "rgb(36,36,36)",
              "ticks": "outside"
             }
            },
            "type": "scatter3d"
           }
          ],
          "scattercarpet": [
           {
            "marker": {
             "colorbar": {
              "outlinewidth": 1,
              "tickcolor": "rgb(36,36,36)",
              "ticks": "outside"
             }
            },
            "type": "scattercarpet"
           }
          ],
          "scattergeo": [
           {
            "marker": {
             "colorbar": {
              "outlinewidth": 1,
              "tickcolor": "rgb(36,36,36)",
              "ticks": "outside"
             }
            },
            "type": "scattergeo"
           }
          ],
          "scattergl": [
           {
            "marker": {
             "colorbar": {
              "outlinewidth": 1,
              "tickcolor": "rgb(36,36,36)",
              "ticks": "outside"
             }
            },
            "type": "scattergl"
           }
          ],
          "scattermapbox": [
           {
            "marker": {
             "colorbar": {
              "outlinewidth": 1,
              "tickcolor": "rgb(36,36,36)",
              "ticks": "outside"
             }
            },
            "type": "scattermapbox"
           }
          ],
          "scatterpolargl": [
           {
            "marker": {
             "colorbar": {
              "outlinewidth": 1,
              "tickcolor": "rgb(36,36,36)",
              "ticks": "outside"
             }
            },
            "type": "scatterpolargl"
           }
          ],
          "scatterpolar": [
           {
            "marker": {
             "colorbar": {
              "outlinewidth": 1,
              "tickcolor": "rgb(36,36,36)",
              "ticks": "outside"
             }
            },
            "type": "scatterpolar"
           }
          ],
          "scatter": [
           {
            "fillpattern": {
             "fillmode": "overlay",
             "size": 10,
             "solidity": 0.2
            },
            "type": "scatter"
           }
          ],
          "scatterternary": [
           {
            "marker": {
             "colorbar": {
              "outlinewidth": 1,
              "tickcolor": "rgb(36,36,36)",
              "ticks": "outside"
             }
            },
            "type": "scatterternary"
           }
          ],
          "surface": [
           {
            "colorbar": {
             "outlinewidth": 1,
             "tickcolor": "rgb(36,36,36)",
             "ticks": "outside"
            },
            "colorscale": [
             [
              0.0,
              "#440154"
             ],
             [
              0.1111111111111111,
              "#482878"
             ],
             [
              0.2222222222222222,
              "#3e4989"
             ],
             [
              0.3333333333333333,
              "#31688e"
             ],
             [
              0.4444444444444444,
              "#26828e"
             ],
             [
              0.5555555555555556,
              "#1f9e89"
             ],
             [
              0.6666666666666666,
              "#35b779"
             ],
             [
              0.7777777777777778,
              "#6ece58"
             ],
             [
              0.8888888888888888,
              "#b5de2b"
             ],
             [
              1.0,
              "#fde725"
             ]
            ],
            "type": "surface"
           }
          ],
          "table": [
           {
            "cells": {
             "fill": {
              "color": "rgb(237,237,237)"
             },
             "line": {
              "color": "white"
             }
            },
            "header": {
             "fill": {
              "color": "rgb(217,217,217)"
             },
             "line": {
              "color": "white"
             }
            },
            "type": "table"
           }
          ]
         },
         "layout": {
          "annotationdefaults": {
           "arrowhead": 0,
           "arrowwidth": 1
          },
          "autotypenumbers": "strict",
          "coloraxis": {
           "colorbar": {
            "outlinewidth": 1,
            "tickcolor": "rgb(36,36,36)",
            "ticks": "outside"
           }
          },
          "colorscale": {
           "diverging": [
            [
             0.0,
             "rgb(103,0,31)"
            ],
            [
             0.1,
             "rgb(178,24,43)"
            ],
            [
             0.2,
             "rgb(214,96,77)"
            ],
            [
             0.3,
             "rgb(244,165,130)"
            ],
            [
             0.4,
             "rgb(253,219,199)"
            ],
            [
             0.5,
             "rgb(247,247,247)"
            ],
            [
             0.6,
             "rgb(209,229,240)"
            ],
            [
             0.7,
             "rgb(146,197,222)"
            ],
            [
             0.8,
             "rgb(67,147,195)"
            ],
            [
             0.9,
             "rgb(33,102,172)"
            ],
            [
             1.0,
             "rgb(5,48,97)"
            ]
           ],
           "sequential": [
            [
             0.0,
             "#440154"
            ],
            [
             0.1111111111111111,
             "#482878"
            ],
            [
             0.2222222222222222,
             "#3e4989"
            ],
            [
             0.3333333333333333,
             "#31688e"
            ],
            [
             0.4444444444444444,
             "#26828e"
            ],
            [
             0.5555555555555556,
             "#1f9e89"
            ],
            [
             0.6666666666666666,
             "#35b779"
            ],
            [
             0.7777777777777778,
             "#6ece58"
            ],
            [
             0.8888888888888888,
             "#b5de2b"
            ],
            [
             1.0,
             "#fde725"
            ]
           ],
           "sequentialminus": [
            [
             0.0,
             "#440154"
            ],
            [
             0.1111111111111111,
             "#482878"
            ],
            [
             0.2222222222222222,
             "#3e4989"
            ],
            [
             0.3333333333333333,
             "#31688e"
            ],
            [
             0.4444444444444444,
             "#26828e"
            ],
            [
             0.5555555555555556,
             "#1f9e89"
            ],
            [
             0.6666666666666666,
             "#35b779"
            ],
            [
             0.7777777777777778,
             "#6ece58"
            ],
            [
             0.8888888888888888,
             "#b5de2b"
            ],
            [
             1.0,
             "#fde725"
            ]
           ]
          },
          "colorway": [
           "#1F77B4",
           "#FF7F0E",
           "#2CA02C",
           "#D62728",
           "#9467BD",
           "#8C564B",
           "#E377C2",
           "#7F7F7F",
           "#BCBD22",
           "#17BECF"
          ],
          "font": {
           "color": "rgb(36,36,36)"
          },
          "geo": {
           "bgcolor": "white",
           "lakecolor": "white",
           "landcolor": "white",
           "showlakes": true,
           "showland": true,
           "subunitcolor": "white"
          },
          "hoverlabel": {
           "align": "left"
          },
          "hovermode": "closest",
          "mapbox": {
           "style": "light"
          },
          "paper_bgcolor": "white",
          "plot_bgcolor": "white",
          "polar": {
           "angularaxis": {
            "gridcolor": "rgb(232,232,232)",
            "linecolor": "rgb(36,36,36)",
            "showgrid": false,
            "showline": true,
            "ticks": "outside"
           },
           "bgcolor": "white",
           "radialaxis": {
            "gridcolor": "rgb(232,232,232)",
            "linecolor": "rgb(36,36,36)",
            "showgrid": false,
            "showline": true,
            "ticks": "outside"
           }
          },
          "scene": {
           "xaxis": {
            "backgroundcolor": "white",
            "gridcolor": "rgb(232,232,232)",
            "gridwidth": 2,
            "linecolor": "rgb(36,36,36)",
            "showbackground": true,
            "showgrid": false,
            "showline": true,
            "ticks": "outside",
            "zeroline": false,
            "zerolinecolor": "rgb(36,36,36)"
           },
           "yaxis": {
            "backgroundcolor": "white",
            "gridcolor": "rgb(232,232,232)",
            "gridwidth": 2,
            "linecolor": "rgb(36,36,36)",
            "showbackground": true,
            "showgrid": false,
            "showline": true,
            "ticks": "outside",
            "zeroline": false,
            "zerolinecolor": "rgb(36,36,36)"
           },
           "zaxis": {
            "backgroundcolor": "white",
            "gridcolor": "rgb(232,232,232)",
            "gridwidth": 2,
            "linecolor": "rgb(36,36,36)",
            "showbackground": true,
            "showgrid": false,
            "showline": true,
            "ticks": "outside",
            "zeroline": false,
            "zerolinecolor": "rgb(36,36,36)"
           }
          },
          "shapedefaults": {
           "fillcolor": "black",
           "line": {
            "width": 0
           },
           "opacity": 0.3
          },
          "ternary": {
           "aaxis": {
            "gridcolor": "rgb(232,232,232)",
            "linecolor": "rgb(36,36,36)",
            "showgrid": false,
            "showline": true,
            "ticks": "outside"
           },
           "baxis": {
            "gridcolor": "rgb(232,232,232)",
            "linecolor": "rgb(36,36,36)",
            "showgrid": false,
            "showline": true,
            "ticks": "outside"
           },
           "bgcolor": "white",
           "caxis": {
            "gridcolor": "rgb(232,232,232)",
            "linecolor": "rgb(36,36,36)",
            "showgrid": false,
            "showline": true,
            "ticks": "outside"
           }
          },
          "title": {
           "x": 0.05
          },
          "xaxis": {
           "automargin": true,
           "gridcolor": "rgb(232,232,232)",
           "linecolor": "rgb(36,36,36)",
           "showgrid": false,
           "showline": true,
           "ticks": "outside",
           "title": {
            "standoff": 15
           },
           "zeroline": false,
           "zerolinecolor": "rgb(36,36,36)"
          },
          "yaxis": {
           "automargin": true,
           "gridcolor": "rgb(232,232,232)",
           "linecolor": "rgb(36,36,36)",
           "showgrid": false,
           "showline": true,
           "ticks": "outside",
           "title": {
            "standoff": 15
           },
           "zeroline": false,
           "zerolinecolor": "rgb(36,36,36)"
          }
         }
        },
        "yaxis": {
         "range": [
          10,
          90
         ],
         "showgrid": false,
         "showticklabels": true
        },
        "yaxis2": {
         "range": [
          0,
          20
         ],
         "overlaying": "y",
         "side": "right",
         "showgrid": false,
         "showticklabels": false
        },
        "yaxis3": {
         "range": [
          0,
          1
         ],
         "overlaying": "y",
         "side": "left",
         "showgrid": false,
         "showticklabels": false
        },
        "title": {
         "text": "Luka Doncic"
        },
        "barmode": "group"
       },
       "config": {
        "plotlyServerURL": "https://plotly.com"
       }
      },
      "text/html": "<div>                            <div id=\"0ea6df1c-b274-4666-b5db-95d5c977df11\" class=\"plotly-graph-div\" style=\"height:525px; width:100%;\"></div>            <script type=\"text/javascript\">                require([\"plotly\"], function(Plotly) {                    window.PLOTLYENV=window.PLOTLYENV || {};                                    if (document.getElementById(\"0ea6df1c-b274-4666-b5db-95d5c977df11\")) {                    Plotly.newPlot(                        \"0ea6df1c-b274-4666-b5db-95d5c977df11\",                        [{\"hoverinfo\":\"skip\",\"line\":{\"width\":0},\"mode\":\"lines\",\"name\":\"Upper Bound\",\"showlegend\":false,\"x\":[0,1,2,3,4,5,6,7,8,9],\"y\":[71,72.90190190190191,72.90190190190191,71.90090090090091,70.6996996996997,68.8978978978979,66.6956956956957,63.4924924924925,60.2892892892893,57.0860860860861],\"type\":\"scatter\"},{\"fill\":\"tonexty\",\"fillcolor\":\"rgba(255, 90, 95, 0.2)\",\"hoverinfo\":\"skip\",\"mode\":\"none\",\"name\":\"Lower Bound\",\"showlegend\":false,\"x\":[0,1,2,3,4,5,6,7,8,9],\"y\":[71,68.4974974974975,67.0960960960961,64.8938938938939,62.6916916916917,59.8888888888889,56.8858858858859,52.88188188188188,48.87787787787788,44.873873873873876],\"type\":\"scatter\"},{\"customdata\":[[71.0,71.0],[68.4974974974975,72.90190190190191],[67.0960960960961,72.90190190190191],[64.8938938938939,71.90090090090091],[62.6916916916917,70.6996996996997],[59.8888888888889,68.8978978978979],[56.8858858858859,66.6956956956957],[52.88188188188188,63.4924924924925],[48.87787787787788,60.2892892892893],[44.873873873873876,57.0860860860861]],\"hovertemplate\":\"\\u003cb\\u003eYear\\u003c\\u002fb\\u003e: %{x}\\u003cbr\\u003e\\u003cb\\u003eRating\\u003c\\u002fb\\u003e: %{y:.1f}\\u003cbr\\u003e\\u003cb\\u003eLower Bound\\u003c\\u002fb\\u003e: %{customdata[0]:.1f}\\u003cbr\\u003e\\u003cb\\u003eUpper Bound\\u003c\\u002fb\\u003e: %{customdata[1]:.1f}\\u003cbr\\u003e\",\"line\":{\"color\":\"rgb(255, 90, 95)\"},\"name\":\"Rating\",\"x\":[0,1,2,3,4,5,6,7,8,9],\"y\":[71,70.67927559515115,70.1098992090046,68.48652083905417,66.7836867599314,64.50435794689052,61.831817025772736,58.273804375822316,54.67219782244725,51.05717083017289],\"type\":\"scatter\"},{\"marker\":{\"color\":\"rgb(252,100,45)\"},\"name\":\"Value\",\"text\":[\"7.4\",\"7.2\",\"7.0\",\"6.3\",\"5.5\",\"4.6\",\"3.6\",\"2.5\",\"1.6\",\"1.0\"],\"textfont\":{\"color\":\"rgb(252,100,45)\",\"size\":14},\"textposition\":\"outside\",\"width\":0.35,\"x\":[-0.2,0.8,1.8,2.8,3.8,4.8,5.8,6.8,7.8,8.8],\"y\":[7.382133025414252,7.239776580767351,6.987112867484429,6.2674303418340225,5.524006078994024,4.578811904844747,3.5808229347664122,2.457839711206452,1.6016123648573615,0.999765262656747],\"yaxis\":\"y2\",\"type\":\"bar\"},{\"marker\":{\"color\":\"rgb(0, 166, 153)\"},\"name\":\"Cap Value\",\"text\":[\"51.1%\",\"50.1%\",\"48.3%\",\"43.4%\",\"38.2%\",\"31.7%\",\"24.8%\",\"17.0%\",\"11.1%\",\"6.9%\"],\"textfont\":{\"color\":\"rgb(0, 166, 153)\",\"size\":14},\"textposition\":\"outside\",\"width\":0.35,\"x\":[0.2,1.2,2.2,3.2,4.2,5.2,6.2,7.2,8.2,9.2],\"y\":[0.5107799962231366,0.5009301568868963,0.4834480050383617,0.4336521755039916,0.38221362232995226,0.31681432987070984,0.24776209244658973,0.17006132971122642,0.1108177751411985,0.06917514156488402],\"yaxis\":\"y3\",\"type\":\"bar\"}],                        {\"template\":{\"data\":{\"barpolar\":[{\"marker\":{\"line\":{\"color\":\"white\",\"width\":0.5},\"pattern\":{\"fillmode\":\"overlay\",\"size\":10,\"solidity\":0.2}},\"type\":\"barpolar\"}],\"bar\":[{\"error_x\":{\"color\":\"rgb(36,36,36)\"},\"error_y\":{\"color\":\"rgb(36,36,36)\"},\"marker\":{\"line\":{\"color\":\"white\",\"width\":0.5},\"pattern\":{\"fillmode\":\"overlay\",\"size\":10,\"solidity\":0.2}},\"type\":\"bar\"}],\"carpet\":[{\"aaxis\":{\"endlinecolor\":\"rgb(36,36,36)\",\"gridcolor\":\"white\",\"linecolor\":\"white\",\"minorgridcolor\":\"white\",\"startlinecolor\":\"rgb(36,36,36)\"},\"baxis\":{\"endlinecolor\":\"rgb(36,36,36)\",\"gridcolor\":\"white\",\"linecolor\":\"white\",\"minorgridcolor\":\"white\",\"startlinecolor\":\"rgb(36,36,36)\"},\"type\":\"carpet\"}],\"choropleth\":[{\"colorbar\":{\"outlinewidth\":1,\"tickcolor\":\"rgb(36,36,36)\",\"ticks\":\"outside\"},\"type\":\"choropleth\"}],\"contourcarpet\":[{\"colorbar\":{\"outlinewidth\":1,\"tickcolor\":\"rgb(36,36,36)\",\"ticks\":\"outside\"},\"type\":\"contourcarpet\"}],\"contour\":[{\"colorbar\":{\"outlinewidth\":1,\"tickcolor\":\"rgb(36,36,36)\",\"ticks\":\"outside\"},\"colorscale\":[[0.0,\"#440154\"],[0.1111111111111111,\"#482878\"],[0.2222222222222222,\"#3e4989\"],[0.3333333333333333,\"#31688e\"],[0.4444444444444444,\"#26828e\"],[0.5555555555555556,\"#1f9e89\"],[0.6666666666666666,\"#35b779\"],[0.7777777777777778,\"#6ece58\"],[0.8888888888888888,\"#b5de2b\"],[1.0,\"#fde725\"]],\"type\":\"contour\"}],\"heatmapgl\":[{\"colorbar\":{\"outlinewidth\":1,\"tickcolor\":\"rgb(36,36,36)\",\"ticks\":\"outside\"},\"colorscale\":[[0.0,\"#440154\"],[0.1111111111111111,\"#482878\"],[0.2222222222222222,\"#3e4989\"],[0.3333333333333333,\"#31688e\"],[0.4444444444444444,\"#26828e\"],[0.5555555555555556,\"#1f9e89\"],[0.6666666666666666,\"#35b779\"],[0.7777777777777778,\"#6ece58\"],[0.8888888888888888,\"#b5de2b\"],[1.0,\"#fde725\"]],\"type\":\"heatmapgl\"}],\"heatmap\":[{\"colorbar\":{\"outlinewidth\":1,\"tickcolor\":\"rgb(36,36,36)\",\"ticks\":\"outside\"},\"colorscale\":[[0.0,\"#440154\"],[0.1111111111111111,\"#482878\"],[0.2222222222222222,\"#3e4989\"],[0.3333333333333333,\"#31688e\"],[0.4444444444444444,\"#26828e\"],[0.5555555555555556,\"#1f9e89\"],[0.6666666666666666,\"#35b779\"],[0.7777777777777778,\"#6ece58\"],[0.8888888888888888,\"#b5de2b\"],[1.0,\"#fde725\"]],\"type\":\"heatmap\"}],\"histogram2dcontour\":[{\"colorbar\":{\"outlinewidth\":1,\"tickcolor\":\"rgb(36,36,36)\",\"ticks\":\"outside\"},\"colorscale\":[[0.0,\"#440154\"],[0.1111111111111111,\"#482878\"],[0.2222222222222222,\"#3e4989\"],[0.3333333333333333,\"#31688e\"],[0.4444444444444444,\"#26828e\"],[0.5555555555555556,\"#1f9e89\"],[0.6666666666666666,\"#35b779\"],[0.7777777777777778,\"#6ece58\"],[0.8888888888888888,\"#b5de2b\"],[1.0,\"#fde725\"]],\"type\":\"histogram2dcontour\"}],\"histogram2d\":[{\"colorbar\":{\"outlinewidth\":1,\"tickcolor\":\"rgb(36,36,36)\",\"ticks\":\"outside\"},\"colorscale\":[[0.0,\"#440154\"],[0.1111111111111111,\"#482878\"],[0.2222222222222222,\"#3e4989\"],[0.3333333333333333,\"#31688e\"],[0.4444444444444444,\"#26828e\"],[0.5555555555555556,\"#1f9e89\"],[0.6666666666666666,\"#35b779\"],[0.7777777777777778,\"#6ece58\"],[0.8888888888888888,\"#b5de2b\"],[1.0,\"#fde725\"]],\"type\":\"histogram2d\"}],\"histogram\":[{\"marker\":{\"line\":{\"color\":\"white\",\"width\":0.6}},\"type\":\"histogram\"}],\"mesh3d\":[{\"colorbar\":{\"outlinewidth\":1,\"tickcolor\":\"rgb(36,36,36)\",\"ticks\":\"outside\"},\"type\":\"mesh3d\"}],\"parcoords\":[{\"line\":{\"colorbar\":{\"outlinewidth\":1,\"tickcolor\":\"rgb(36,36,36)\",\"ticks\":\"outside\"}},\"type\":\"parcoords\"}],\"pie\":[{\"automargin\":true,\"type\":\"pie\"}],\"scatter3d\":[{\"line\":{\"colorbar\":{\"outlinewidth\":1,\"tickcolor\":\"rgb(36,36,36)\",\"ticks\":\"outside\"}},\"marker\":{\"colorbar\":{\"outlinewidth\":1,\"tickcolor\":\"rgb(36,36,36)\",\"ticks\":\"outside\"}},\"type\":\"scatter3d\"}],\"scattercarpet\":[{\"marker\":{\"colorbar\":{\"outlinewidth\":1,\"tickcolor\":\"rgb(36,36,36)\",\"ticks\":\"outside\"}},\"type\":\"scattercarpet\"}],\"scattergeo\":[{\"marker\":{\"colorbar\":{\"outlinewidth\":1,\"tickcolor\":\"rgb(36,36,36)\",\"ticks\":\"outside\"}},\"type\":\"scattergeo\"}],\"scattergl\":[{\"marker\":{\"colorbar\":{\"outlinewidth\":1,\"tickcolor\":\"rgb(36,36,36)\",\"ticks\":\"outside\"}},\"type\":\"scattergl\"}],\"scattermapbox\":[{\"marker\":{\"colorbar\":{\"outlinewidth\":1,\"tickcolor\":\"rgb(36,36,36)\",\"ticks\":\"outside\"}},\"type\":\"scattermapbox\"}],\"scatterpolargl\":[{\"marker\":{\"colorbar\":{\"outlinewidth\":1,\"tickcolor\":\"rgb(36,36,36)\",\"ticks\":\"outside\"}},\"type\":\"scatterpolargl\"}],\"scatterpolar\":[{\"marker\":{\"colorbar\":{\"outlinewidth\":1,\"tickcolor\":\"rgb(36,36,36)\",\"ticks\":\"outside\"}},\"type\":\"scatterpolar\"}],\"scatter\":[{\"fillpattern\":{\"fillmode\":\"overlay\",\"size\":10,\"solidity\":0.2},\"type\":\"scatter\"}],\"scatterternary\":[{\"marker\":{\"colorbar\":{\"outlinewidth\":1,\"tickcolor\":\"rgb(36,36,36)\",\"ticks\":\"outside\"}},\"type\":\"scatterternary\"}],\"surface\":[{\"colorbar\":{\"outlinewidth\":1,\"tickcolor\":\"rgb(36,36,36)\",\"ticks\":\"outside\"},\"colorscale\":[[0.0,\"#440154\"],[0.1111111111111111,\"#482878\"],[0.2222222222222222,\"#3e4989\"],[0.3333333333333333,\"#31688e\"],[0.4444444444444444,\"#26828e\"],[0.5555555555555556,\"#1f9e89\"],[0.6666666666666666,\"#35b779\"],[0.7777777777777778,\"#6ece58\"],[0.8888888888888888,\"#b5de2b\"],[1.0,\"#fde725\"]],\"type\":\"surface\"}],\"table\":[{\"cells\":{\"fill\":{\"color\":\"rgb(237,237,237)\"},\"line\":{\"color\":\"white\"}},\"header\":{\"fill\":{\"color\":\"rgb(217,217,217)\"},\"line\":{\"color\":\"white\"}},\"type\":\"table\"}]},\"layout\":{\"annotationdefaults\":{\"arrowhead\":0,\"arrowwidth\":1},\"autotypenumbers\":\"strict\",\"coloraxis\":{\"colorbar\":{\"outlinewidth\":1,\"tickcolor\":\"rgb(36,36,36)\",\"ticks\":\"outside\"}},\"colorscale\":{\"diverging\":[[0.0,\"rgb(103,0,31)\"],[0.1,\"rgb(178,24,43)\"],[0.2,\"rgb(214,96,77)\"],[0.3,\"rgb(244,165,130)\"],[0.4,\"rgb(253,219,199)\"],[0.5,\"rgb(247,247,247)\"],[0.6,\"rgb(209,229,240)\"],[0.7,\"rgb(146,197,222)\"],[0.8,\"rgb(67,147,195)\"],[0.9,\"rgb(33,102,172)\"],[1.0,\"rgb(5,48,97)\"]],\"sequential\":[[0.0,\"#440154\"],[0.1111111111111111,\"#482878\"],[0.2222222222222222,\"#3e4989\"],[0.3333333333333333,\"#31688e\"],[0.4444444444444444,\"#26828e\"],[0.5555555555555556,\"#1f9e89\"],[0.6666666666666666,\"#35b779\"],[0.7777777777777778,\"#6ece58\"],[0.8888888888888888,\"#b5de2b\"],[1.0,\"#fde725\"]],\"sequentialminus\":[[0.0,\"#440154\"],[0.1111111111111111,\"#482878\"],[0.2222222222222222,\"#3e4989\"],[0.3333333333333333,\"#31688e\"],[0.4444444444444444,\"#26828e\"],[0.5555555555555556,\"#1f9e89\"],[0.6666666666666666,\"#35b779\"],[0.7777777777777778,\"#6ece58\"],[0.8888888888888888,\"#b5de2b\"],[1.0,\"#fde725\"]]},\"colorway\":[\"#1F77B4\",\"#FF7F0E\",\"#2CA02C\",\"#D62728\",\"#9467BD\",\"#8C564B\",\"#E377C2\",\"#7F7F7F\",\"#BCBD22\",\"#17BECF\"],\"font\":{\"color\":\"rgb(36,36,36)\"},\"geo\":{\"bgcolor\":\"white\",\"lakecolor\":\"white\",\"landcolor\":\"white\",\"showlakes\":true,\"showland\":true,\"subunitcolor\":\"white\"},\"hoverlabel\":{\"align\":\"left\"},\"hovermode\":\"closest\",\"mapbox\":{\"style\":\"light\"},\"paper_bgcolor\":\"white\",\"plot_bgcolor\":\"white\",\"polar\":{\"angularaxis\":{\"gridcolor\":\"rgb(232,232,232)\",\"linecolor\":\"rgb(36,36,36)\",\"showgrid\":false,\"showline\":true,\"ticks\":\"outside\"},\"bgcolor\":\"white\",\"radialaxis\":{\"gridcolor\":\"rgb(232,232,232)\",\"linecolor\":\"rgb(36,36,36)\",\"showgrid\":false,\"showline\":true,\"ticks\":\"outside\"}},\"scene\":{\"xaxis\":{\"backgroundcolor\":\"white\",\"gridcolor\":\"rgb(232,232,232)\",\"gridwidth\":2,\"linecolor\":\"rgb(36,36,36)\",\"showbackground\":true,\"showgrid\":false,\"showline\":true,\"ticks\":\"outside\",\"zeroline\":false,\"zerolinecolor\":\"rgb(36,36,36)\"},\"yaxis\":{\"backgroundcolor\":\"white\",\"gridcolor\":\"rgb(232,232,232)\",\"gridwidth\":2,\"linecolor\":\"rgb(36,36,36)\",\"showbackground\":true,\"showgrid\":false,\"showline\":true,\"ticks\":\"outside\",\"zeroline\":false,\"zerolinecolor\":\"rgb(36,36,36)\"},\"zaxis\":{\"backgroundcolor\":\"white\",\"gridcolor\":\"rgb(232,232,232)\",\"gridwidth\":2,\"linecolor\":\"rgb(36,36,36)\",\"showbackground\":true,\"showgrid\":false,\"showline\":true,\"ticks\":\"outside\",\"zeroline\":false,\"zerolinecolor\":\"rgb(36,36,36)\"}},\"shapedefaults\":{\"fillcolor\":\"black\",\"line\":{\"width\":0},\"opacity\":0.3},\"ternary\":{\"aaxis\":{\"gridcolor\":\"rgb(232,232,232)\",\"linecolor\":\"rgb(36,36,36)\",\"showgrid\":false,\"showline\":true,\"ticks\":\"outside\"},\"baxis\":{\"gridcolor\":\"rgb(232,232,232)\",\"linecolor\":\"rgb(36,36,36)\",\"showgrid\":false,\"showline\":true,\"ticks\":\"outside\"},\"bgcolor\":\"white\",\"caxis\":{\"gridcolor\":\"rgb(232,232,232)\",\"linecolor\":\"rgb(36,36,36)\",\"showgrid\":false,\"showline\":true,\"ticks\":\"outside\"}},\"title\":{\"x\":0.05},\"xaxis\":{\"automargin\":true,\"gridcolor\":\"rgb(232,232,232)\",\"linecolor\":\"rgb(36,36,36)\",\"showgrid\":false,\"showline\":true,\"ticks\":\"outside\",\"title\":{\"standoff\":15},\"zeroline\":false,\"zerolinecolor\":\"rgb(36,36,36)\"},\"yaxis\":{\"automargin\":true,\"gridcolor\":\"rgb(232,232,232)\",\"linecolor\":\"rgb(36,36,36)\",\"showgrid\":false,\"showline\":true,\"ticks\":\"outside\",\"title\":{\"standoff\":15},\"zeroline\":false,\"zerolinecolor\":\"rgb(36,36,36)\"}}},\"yaxis\":{\"range\":[10,90],\"showgrid\":false,\"showticklabels\":true},\"yaxis2\":{\"range\":[0,20],\"overlaying\":\"y\",\"side\":\"right\",\"showgrid\":false,\"showticklabels\":false},\"yaxis3\":{\"range\":[0,1],\"overlaying\":\"y\",\"side\":\"left\",\"showgrid\":false,\"showticklabels\":false},\"title\":{\"text\":\"Luka Doncic\"},\"barmode\":\"group\"},                        {\"responsive\": true}                    ).then(function(){\n                            \nvar gd = document.getElementById('0ea6df1c-b274-4666-b5db-95d5c977df11');\nvar x = new MutationObserver(function (mutations, observer) {{\n        var display = window.getComputedStyle(gd).display;\n        if (!display || display === 'none') {{\n            console.log([gd, 'removed!']);\n            Plotly.purge(gd);\n            observer.disconnect();\n        }}\n}});\n\n// Listen for the removal of the full notebook cells\nvar notebookContainer = gd.closest('#notebook-container');\nif (notebookContainer) {{\n    x.observe(notebookContainer, {childList: true});\n}}\n\n// Listen for the clearing of the current output cell\nvar outputEl = gd.closest('.output');\nif (outputEl) {{\n    x.observe(outputEl, {childList: true});\n}}\n\n                        })                };                });            </script>        </div>"
     },
     "metadata": {},
     "output_type": "display_data"
    }
   ],
   "source": [
    "player_plot(int(input('Enter a pid: ')), df)"
   ],
   "metadata": {
    "collapsed": false,
    "ExecuteTime": {
     "end_time": "2024-02-27T19:00:55.467729300Z",
     "start_time": "2024-02-27T19:00:54.196736Z"
    }
   },
   "id": "a19bbb6a44ae34cf",
   "execution_count": 13
  },
  {
   "cell_type": "code",
   "outputs": [],
   "source": [],
   "metadata": {
    "collapsed": false,
    "ExecuteTime": {
     "start_time": "2024-02-27T18:55:51.554481700Z"
    }
   },
   "id": "77cdc363d03e4b49",
   "execution_count": null
  }
 ],
 "metadata": {
  "kernelspec": {
   "display_name": "Python 3",
   "language": "python",
   "name": "python3"
  },
  "language_info": {
   "codemirror_mode": {
    "name": "ipython",
    "version": 2
   },
   "file_extension": ".py",
   "mimetype": "text/x-python",
   "name": "python",
   "nbconvert_exporter": "python",
   "pygments_lexer": "ipython2",
   "version": "2.7.6"
  }
 },
 "nbformat": 4,
 "nbformat_minor": 5
}
