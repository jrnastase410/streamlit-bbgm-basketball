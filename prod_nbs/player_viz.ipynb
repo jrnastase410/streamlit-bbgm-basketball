{
 "cells": [
  {
   "cell_type": "code",
   "execution_count": 8,
   "id": "initial_id",
   "metadata": {
    "collapsed": true,
    "ExecuteTime": {
     "end_time": "2024-02-27T19:00:03.915134800Z",
     "start_time": "2024-02-27T19:00:03.731817900Z"
    }
   },
   "outputs": [],
   "source": [
    "import json\n",
    "from utils.calcs import *\n",
    "from utils.data import player_json_to_df\n",
    "import plotly.graph_objects as go"
   ]
  },
  {
   "cell_type": "code",
   "outputs": [],
   "source": [
    "with open('C:/Users/jrnas/Downloads/BBGM_League_2_2024_preseason.json', encoding='latin') as f:\n",
    "    r_json = json.load(f)\n",
    "\n",
    "df = player_json_to_df(r_json)\n",
    "df = df[df.season == df[~df.salary.isna()].season.max()].drop_duplicates(['pid', 'season']).reset_index(drop=True)"
   ],
   "metadata": {
    "collapsed": false,
    "ExecuteTime": {
     "end_time": "2024-02-27T19:00:05.243329Z",
     "start_time": "2024-02-27T19:00:04.710073Z"
    }
   },
   "id": "fa9177ea5f86aa6",
   "execution_count": 9
  },
  {
   "cell_type": "code",
   "outputs": [],
   "source": [
    "df['results'] = df.apply(lambda x: calc_progs(x['ovr'], x['age'], 0.75), axis=1)\n",
    "df['rating_prog'] = df['results'].apply(lambda x: x['rating'])\n",
    "df['rating_upper_prog'] = df['results'].apply(lambda x: x['rating_upper'])\n",
    "df['rating_lower_prog'] = df['results'].apply(lambda x: x['rating_lower'])\n",
    "df['vorp_added_prog'] = df['results'].apply(lambda x: x['vorp_added'])\n",
    "df['cap_value_prog'] = df['results'].apply(lambda x: x['cap_value'])\n",
    "df['team'] = df['tid'].map(dict([(teams['tid'], teams['region']) for teams in r_json['teams']]))"
   ],
   "metadata": {
    "collapsed": false,
    "ExecuteTime": {
     "end_time": "2024-02-27T19:00:10.513022800Z",
     "start_time": "2024-02-27T19:00:06.104753800Z"
    }
   },
   "id": "3d06afea384c1583",
   "execution_count": 10
  },
  {
   "cell_type": "code",
   "outputs": [],
   "source": [
    "def player_plot(pid, df):\n",
    "    \n",
    "    # Filter the dataframe for the specific pid\n",
    "    df_filtered = df[df.pid == pid]\n",
    "    \n",
    "    # Retrieve the player's first name and last name\n",
    "    first_name = df_filtered['firstName'].values[0]\n",
    "    last_name = df_filtered['lastName'].values[0]\n",
    "    \n",
    "    # Create the title\n",
    "    title = f'{first_name} {last_name}'\n",
    "    \n",
    "    # Extract the rating, value, and bounds data\n",
    "    rating_data = df_filtered['rating_prog'].values[0]\n",
    "    rating_upper_data = df_filtered['rating_upper_prog'].values[0]\n",
    "    rating_lower_data = df_filtered['rating_lower_prog'].values[0]\n",
    "    value_data = df_filtered['vorp_added_prog'].values[0]\n",
    "    cap_value_data = df_filtered['cap_value_prog'].values[0]\n",
    "    \n",
    "    # Create the plot for ratings\n",
    "    fig = go.Figure()\n",
    "    \n",
    "    # Add the plot for upper and lower bounds as lines with the area between them filled\n",
    "    fig.add_trace(\n",
    "        go.Scatter(\n",
    "            x=list(rating_upper_data.keys()),\n",
    "            y=list(rating_upper_data.values()),\n",
    "            name='Upper Bound',\n",
    "            mode='lines',\n",
    "            line=dict(width=0),\n",
    "            hoverinfo='skip',\n",
    "            showlegend=False,\n",
    "        )\n",
    "    )\n",
    "    \n",
    "    fig.add_trace(\n",
    "        go.Scatter(\n",
    "            x=list(rating_lower_data.keys()),\n",
    "            y=list(rating_lower_data.values()),\n",
    "            name='Lower Bound',\n",
    "            mode='none',\n",
    "            fill='tonexty',\n",
    "            hoverinfo='skip',\n",
    "            fillcolor='rgba(255, 90, 95, 0.2)',\n",
    "            showlegend=False,\n",
    "        )\n",
    "    )\n",
    "    \n",
    "    # Add the plot for ratings as a line\n",
    "    fig.add_trace(\n",
    "        go.Scatter(\n",
    "            x=list(rating_data.keys()),\n",
    "            y=list(rating_data.values()),\n",
    "            name='Rating',\n",
    "            line=dict(\n",
    "                color='rgb(255, 90, 95)'\n",
    "            ),\n",
    "            customdata=np.stack((list(rating_lower_data.values()), list(rating_upper_data.values())), axis=-1),\n",
    "            hovertemplate=\n",
    "            '<b>Year</b>: %{x}<br>' +\n",
    "            '<b>Rating</b>: %{y:.1f}<br>' +  # Round to 1 decimal place\n",
    "            '<b>Lower Bound</b>: %{customdata[0]:.1f}<br>' +  # Round to 1 decimal place\n",
    "            '<b>Upper Bound</b>: %{customdata[1]:.1f}<br>',  # Round to 1 decimal place\n",
    "        )\n",
    "    )\n",
    "    \n",
    "    # Add the plot for values as bars\n",
    "    fig.add_trace(\n",
    "        go.Bar(\n",
    "            x=[x - 0.2 for x in list(value_data.keys())],\n",
    "            y=list(value_data.values()),\n",
    "            name='Value',\n",
    "            yaxis='y2',\n",
    "            width=0.35,\n",
    "            marker=dict(\n",
    "                color='rgb(252,100,45)'\n",
    "            ),\n",
    "            text=[f'{val:.1f}' for val in list(value_data.values())],\n",
    "            textposition='outside',\n",
    "            textfont=dict(\n",
    "                color='rgb(252,100,45)',\n",
    "                size=14,\n",
    "            ),\n",
    "        )\n",
    "    )\n",
    "    \n",
    "    # Add the plot for cap values as bars\n",
    "    fig.add_trace(\n",
    "        go.Bar(\n",
    "            x=[x + 0.2 for x in list(cap_value_data.keys())],\n",
    "            y=list(cap_value_data.values()),\n",
    "            name='Cap Value',\n",
    "            yaxis='y3',\n",
    "            width=0.35,\n",
    "            marker=dict(\n",
    "                color='rgb(0, 166, 153)'\n",
    "            ),\n",
    "            text=[f'{val*100:.1f}%' for val in list(cap_value_data.values())],\n",
    "            textposition='outside',\n",
    "            textfont=dict(\n",
    "                color='rgb(0, 166, 153)',\n",
    "                size=14,\n",
    "            ),\n",
    "        )\n",
    "    )\n",
    "    \n",
    "    # Update the plot title\n",
    "    fig.update_layout(\n",
    "        template='simple_white',\n",
    "        title=title,\n",
    "        barmode='group',\n",
    "        yaxis=dict(\n",
    "            range=[10, 90],\n",
    "            showgrid=False,\n",
    "            showticklabels=True,\n",
    "        ),\n",
    "        yaxis2=dict(\n",
    "            range=[0, 20],\n",
    "            overlaying='y',\n",
    "            side='right',\n",
    "            showgrid=False,\n",
    "            showticklabels=False,\n",
    "        ),\n",
    "        yaxis3=dict(\n",
    "            range=[0, 1],\n",
    "            overlaying='y',\n",
    "            side='left',\n",
    "            showgrid=False,\n",
    "            showticklabels=False,\n",
    "        )\n",
    "    )\n",
    "    return fig"
   ],
   "metadata": {
    "collapsed": false,
    "ExecuteTime": {
     "end_time": "2024-02-27T19:00:11.775605900Z",
     "start_time": "2024-02-27T19:00:11.764477200Z"
    }
   },
   "id": "4a7fddd0ac885599",
   "execution_count": 11
  },
  {
   "cell_type": "code",
   "outputs": [
    {
     "data": {
      "application/vnd.plotly.v1+json": {
       "data": [
        {
         "hoverinfo": "skip",
         "line": {
          "width": 0
         },
         "mode": "lines",
         "name": "Upper Bound",
         "showlegend": false,
         "x": [
          0,
          1,
          2,
          3,
          4,
          5,
          6,
          7,
          8,
          9
         ],
         "y": [
          71,
          72.90190190190191,
          72.90190190190191,
          71.90090090090091,
          70.6996996996997,
          68.8978978978979,
          66.6956956956957,
          63.4924924924925,
          60.2892892892893,
          57.0860860860861
         ],
         "type": "scatter"
        },
        {
         "fill": "tonexty",
         "fillcolor": "rgba(255, 90, 95, 0.2)",
         "hoverinfo": "skip",
         "mode": "none",
         "name": "Lower Bound",
         "showlegend": false,
         "x": [
          0,
          1,
          2,
          3,
          4,
          5,
          6,
          7,
          8,
          9
         ],
         "y": [
          71,
          68.4974974974975,
          67.0960960960961,
          64.8938938938939,
          62.6916916916917,
          59.8888888888889,
          56.8858858858859,
          52.88188188188188,
          48.87787787787788,
          44.873873873873876
         ],
         "type": "scatter"
        },
        {
         "customdata": [
          [
           71.0,
           71.0
          ],
          [
           68.4974974974975,
           72.90190190190191
          ],
          [
           67.0960960960961,
           72.90190190190191
          ],
          [
           64.8938938938939,
           71.90090090090091
          ],
          [
           62.6916916916917,
           70.6996996996997
          ],
          [
           59.8888888888889,
           68.8978978978979
          ],
          [
           56.8858858858859,
           66.6956956956957
          ],
          [
           52.88188188188188,
           63.4924924924925
          ],
          [
           48.87787787787788,
           60.2892892892893
          ],
          [
           44.873873873873876,
           57.0860860860861
          ]
         ],
         "hovertemplate": "<b>Year</b>: %{x}<br><b>Rating</b>: %{y:.1f}<br><b>Lower Bound</b>: %{customdata[0]:.1f}<br><b>Upper Bound</b>: %{customdata[1]:.1f}<br>",
         "line": {
          "color": "rgb(255, 90, 95)"
         },
         "name": "Rating",
         "x": [
          0,
          1,
          2,
          3,
          4,
          5,
          6,
          7,
          8,
          9
         ],
         "y": [
          71,
          70.67927559515115,
          70.1098992090046,
          68.48652083905417,
          66.7836867599314,
          64.50435794689052,
          61.831817025772736,
          58.273804375822316,
          54.67219782244725,
          51.05717083017289
         ],
         "type": "scatter"
        },
        {
         "marker": {
          "color": "rgb(252,100,45)"
         },
         "name": "Value",
         "text": [
          "7.4",
          "7.2",
          "7.0",
          "6.3",
          "5.5",
          "4.6",
          "3.6",
          "2.5",
          "1.6",
          "1.0"
         ],
         "textfont": {
          "color": "rgb(252,100,45)",
          "size": 14
         },
         "textposition": "outside",
         "width": 0.35,
         "x": [
          -0.2,
          0.8,
          1.8,
          2.8,
          3.8,
          4.8,
          5.8,
          6.8,
          7.8,
          8.8
         ],
         "y": [
          7.382133025414252,
          7.239776580767351,
          6.987112867484429,
          6.2674303418340225,
          5.524006078994024,
          4.578811904844747,
          3.5808229347664122,
          2.457839711206452,
          1.6016123648573615,
          0.999765262656747
         ],
         "yaxis": "y2",
         "type": "bar"
        },
        {
         "marker": {
          "color": "rgb(0, 166, 153)"
         },
         "name": "Cap Value",
         "text": [
          "51.1%",
          "50.1%",
          "48.3%",
          "43.4%",
          "38.2%",
          "31.7%",
          "24.8%",
          "17.0%",
          "11.1%",
          "6.9%"
         ],
         "textfont": {
          "color": "rgb(0, 166, 153)",
          "size": 14
         },
         "textposition": "outside",
         "width": 0.35,
         "x": [
          0.2,
          1.2,
          2.2,
          3.2,
          4.2,
          5.2,
          6.2,
          7.2,
          8.2,
          9.2
         ],
         "y": [
          0.5107799962231366,
          0.5009301568868963,
          0.4834480050383617,
          0.4336521755039916,
          0.38221362232995226,
          0.31681432987070984,
          0.24776209244658973,
          0.17006132971122642,
          0.1108177751411985,
          0.06917514156488402
         ],
         "yaxis": "y3",
         "type": "bar"
        }
       ],
       "layout": {
        "template": {
         "data": {
          "barpolar": [
           {
            "marker": {
             "line": {
              "color": "white",
              "width": 0.5
             },
             "pattern": {
              "fillmode": "overlay",
              "size": 10,
              "solidity": 0.2
             }
            },
            "type": "barpolar"
           }
          ],
          "bar": [
           {
            "error_x": {
             "color": "rgb(36,36,36)"
            },
            "error_y": {
             "color": "rgb(36,36,36)"
            },
            "marker": {
             "line": {
              "color": "white",
              "width": 0.5
             },
             "pattern": {
              "fillmode": "overlay",
              "size": 10,
              "solidity": 0.2
             }
            },
            "type": "bar"
           }
          ],
          "carpet": [
           {
            "aaxis": {
             "endlinecolor": "rgb(36,36,36)",
             "gridcolor": "white",
             "linecolor": "white",
             "minorgridcolor": "white",
             "startlinecolor": "rgb(36,36,36)"
            },
            "baxis": {
             "endlinecolor": "rgb(36,36,36)",
             "gridcolor": "white",
             "linecolor": "white",
             "minorgridcolor": "white",
             "startlinecolor": "rgb(36,36,36)"
            },
            "type": "carpet"
           }
          ],
          "choropleth": [
           {
            "colorbar": {
             "outlinewidth": 1,
             "tickcolor": "rgb(36,36,36)",
             "ticks": "outside"
            },
            "type": "choropleth"
           }
          ],
          "contourcarpet": [
           {
            "colorbar": {
             "outlinewidth": 1,
             "tickcolor": "rgb(36,36,36)",
             "ticks": "outside"
            },
            "type": "contourcarpet"
           }
          ],
          "contour": [
           {
            "colorbar": {
             "outlinewidth": 1,
             "tickcolor": "rgb(36,36,36)",
             "ticks": "outside"
            },
            "colorscale": [
             [
              0.0,
              "#440154"
             ],
             [
              0.1111111111111111,
              "#482878"
             ],
             [
              0.2222222222222222,
              "#3e4989"
             ],
             [
              0.3333333333333333,
              "#31688e"
             ],
             [
              0.4444444444444444,
              "#26828e"
             ],
             [
              0.5555555555555556,
              "#1f9e89"
             ],
             [
              0.6666666666666666,
              "#35b779"
             ],
             [
              0.7777777777777778,
              "#6ece58"
             ],
             [
              0.8888888888888888,
              "#b5de2b"
             ],
             [
              1.0,
              "#fde725"
             ]
            ],
            "type": "contour"
           }
          ],
          "heatmapgl": [
           {
            "colorbar": {
             "outlinewidth": 1,
             "tickcolor": "rgb(36,36,36)",
             "ticks": "outside"
            },
            "colorscale": [
             [
              0.0,
              "#440154"
             ],
             [
              0.1111111111111111,
              "#482878"
             ],
             [
              0.2222222222222222,
              "#3e4989"
             ],
             [
              0.3333333333333333,
              "#31688e"
             ],
             [
              0.4444444444444444,
              "#26828e"
             ],
             [
              0.5555555555555556,
              "#1f9e89"
             ],
             [
              0.6666666666666666,
              "#35b779"
             ],
             [
              0.7777777777777778,
              "#6ece58"
             ],
             [
              0.8888888888888888,
              "#b5de2b"
             ],
             [
              1.0,
              "#fde725"
             ]
            ],
            "type": "heatmapgl"
           }
          ],
          "heatmap": [
           {
            "colorbar": {
             "outlinewidth": 1,
             "tickcolor": "rgb(36,36,36)",
             "ticks": "outside"
            },
            "colorscale": [
             [
              0.0,
              "#440154"
             ],
             [
              0.1111111111111111,
              "#482878"
             ],
             [
              0.2222222222222222,
              "#3e4989"
             ],
             [
              0.3333333333333333,
              "#31688e"
             ],
             [
              0.4444444444444444,
              "#26828e"
             ],
             [
              0.5555555555555556,
              "#1f9e89"
             ],
             [
              0.6666666666666666,
              "#35b779"
             ],
             [
              0.7777777777777778,
              "#6ece58"
             ],
             [
              0.8888888888888888,
              "#b5de2b"
             ],
             [
              1.0,
              "#fde725"
             ]
            ],
            "type": "heatmap"
           }
          ],
          "histogram2dcontour": [
           {
            "colorbar": {
             "outlinewidth": 1,
             "tickcolor": "rgb(36,36,36)",
             "ticks": "outside"
            },
            "colorscale": [
             [
              0.0,
              "#440154"
             ],
             [
              0.1111111111111111,
              "#482878"
             ],
             [
              0.2222222222222222,
              "#3e4989"
             ],
             [
              0.3333333333333333,
              "#31688e"
             ],
             [
              0.4444444444444444,
              "#26828e"
             ],
             [
              0.5555555555555556,
              "#1f9e89"
             ],
             [
              0.6666666666666666,
              "#35b779"
             ],
             [
              0.7777777777777778,
              "#6ece58"
             ],
             [
              0.8888888888888888,
              "#b5de2b"
             ],
             [
              1.0,
              "#fde725"
             ]
            ],
            "type": "histogram2dcontour"
           }
          ],
          "histogram2d": [
           {
            "colorbar": {
             "outlinewidth": 1,
             "tickcolor": "rgb(36,36,36)",
             "ticks": "outside"
            },
            "colorscale": [
             [
              0.0,
              "#440154"
             ],
             [
              0.1111111111111111,
              "#482878"
             ],
             [
              0.2222222222222222,
              "#3e4989"
             ],
             [
              0.3333333333333333,
              "#31688e"
             ],
             [
              0.4444444444444444,
              "#26828e"
             ],
             [
              0.5555555555555556,
              "#1f9e89"
             ],
             [
              0.6666666666666666,
              "#35b779"
             ],
             [
              0.7777777777777778,
              "#6ece58"
             ],
             [
              0.8888888888888888,
              "#b5de2b"
             ],
             [
              1.0,
              "#fde725"
             ]
            ],
            "type": "histogram2d"
           }
          ],
          "histogram": [
           {
            "marker": {
             "line": {
              "color": "white",
              "width": 0.6
             }
            },
            "type": "histogram"
           }
          ],
          "mesh3d": [
           {
            "colorbar": {
             "outlinewidth": 1,
             "tickcolor": "rgb(36,36,36)",
             "ticks": "outside"
            },
            "type": "mesh3d"
           }
          ],
          "parcoords": [
           {
            "line": {
             "colorbar": {
              "outlinewidth": 1,
              "tickcolor": "rgb(36,36,36)",
              "ticks": "outside"
             }
            },
            "type": "parcoords"
           }
          ],
          "pie": [
           {
            "automargin": true,
            "type": "pie"
           }
          ],
          "scatter3d": [
           {
            "line": {
             "colorbar": {
              "outlinewidth": 1,
              "tickcolor": "rgb(36,36,36)",
              "ticks": "outside"
             }
            },
            "marker": {
             "colorbar": {
              "outlinewidth": 1,
              "tickcolor": "rgb(36,36,36)",
              "ticks": "outside"
             }
            },
            "type": "scatter3d"
           }
          ],
          "scattercarpet": [
           {
            "marker": {
             "colorbar": {
              "outlinewidth": 1,
              "tickcolor": "rgb(36,36,36)",
              "ticks": "outside"
             }
            },
            "type": "scattercarpet"
           }
          ],
          "scattergeo": [
           {
            "marker": {
             "colorbar": {
              "outlinewidth": 1,
              "tickcolor": "rgb(36,36,36)",
              "ticks": "outside"
             }
            },
            "type": "scattergeo"
           }
          ],
          "scattergl": [
           {
            "marker": {
             "colorbar": {
              "outlinewidth": 1,
              "tickcolor": "rgb(36,36,36)",
              "ticks": "outside"
             }
            },
            "type": "scattergl"
           }
          ],
          "scattermapbox": [
           {
            "marker": {
             "colorbar": {
              "outlinewidth": 1,
              "tickcolor": "rgb(36,36,36)",
              "ticks": "outside"
             }
            },
            "type": "scattermapbox"
           }
          ],
          "scatterpolargl": [
           {
            "marker": {
             "colorbar": {
              "outlinewidth": 1,
              "tickcolor": "rgb(36,36,36)",
              "ticks": "outside"
             }
            },
            "type": "scatterpolargl"
           }
          ],
          "scatterpolar": [
           {
            "marker": {
             "colorbar": {
              "outlinewidth": 1,
              "tickcolor": "rgb(36,36,36)",
              "ticks": "outside"
             }
            },
            "type": "scatterpolar"
           }
          ],
          "scatter": [
           {
            "fillpattern": {
             "fillmode": "overlay",
             "size": 10,
             "solidity": 0.2
            },
            "type": "scatter"
           }
          ],
          "scatterternary": [
           {
            "marker": {
             "colorbar": {
              "outlinewidth": 1,
              "tickcolor": "rgb(36,36,36)",
              "ticks": "outside"
             }
            },
            "type": "scatterternary"
           }
          ],
          "surface": [
           {
            "colorbar": {
             "outlinewidth": 1,
             "tickcolor": "rgb(36,36,36)",
             "ticks": "outside"
            },
            "colorscale": [
             [
              0.0,
              "#440154"
             ],
             [
              0.1111111111111111,
              "#482878"
             ],
             [
              0.2222222222222222,
              "#3e4989"
             ],
             [
              0.3333333333333333,
              "#31688e"
             ],
             [
              0.4444444444444444,
              "#26828e"
             ],
             [
              0.5555555555555556,
              "#1f9e89"
             ],
             [
              0.6666666666666666,
              "#35b779"
             ],
             [
              0.7777777777777778,
              "#6ece58"
             ],
             [
              0.8888888888888888,
              "#b5de2b"
             ],
             [
              1.0,
              "#fde725"
             ]
            ],
            "type": "surface"
           }
          ],
          "table": [
           {
            "cells": {
             "fill": {
              "color": "rgb(237,237,237)"
             },
             "line": {
              "color": "white"
             }
            },
            "header": {
             "fill": {
              "color": "rgb(217,217,217)"
             },
             "line": {
              "color": "white"
             }
            },
            "type": "table"
           }
          ]
         },
         "layout": {
          "annotationdefaults": {
           "arrowhead": 0,
           "arrowwidth": 1
          },
          "autotypenumbers": "strict",
          "coloraxis": {
           "colorbar": {
            "outlinewidth": 1,
            "tickcolor": "rgb(36,36,36)",
            "ticks": "outside"
           }
          },
          "colorscale": {
           "diverging": [
            [
             0.0,
             "rgb(103,0,31)"
            ],
            [
             0.1,
             "rgb(178,24,43)"
            ],
            [
             0.2,
             "rgb(214,96,77)"
            ],
            [
             0.3,
             "rgb(244,165,130)"
            ],
            [
             0.4,
             "rgb(253,219,199)"
            ],
            [
             0.5,
             "rgb(247,247,247)"
            ],
            [
             0.6,
             "rgb(209,229,240)"
            ],
            [
             0.7,
             "rgb(146,197,222)"
            ],
            [
             0.8,
             "rgb(67,147,195)"
            ],
            [
             0.9,
             "rgb(33,102,172)"
            ],
            [
             1.0,
             "rgb(5,48,97)"
            ]
           ],
           "sequential": [
            [
             0.0,
             "#440154"
            ],
            [
             0.1111111111111111,
             "#482878"
            ],
            [
             0.2222222222222222,
             "#3e4989"
            ],
            [
             0.3333333333333333,
             "#31688e"
            ],
            [
             0.4444444444444444,
             "#26828e"
            ],
            [
             0.5555555555555556,
             "#1f9e89"
            ],
            [
             0.6666666666666666,
             "#35b779"
            ],
            [
             0.7777777777777778,
             "#6ece58"
            ],
            [
             0.8888888888888888,
             "#b5de2b"
            ],
            [
             1.0,
             "#fde725"
            ]
           ],
           "sequentialminus": [
            [
             0.0,
             "#440154"
            ],
            [
             0.1111111111111111,
             "#482878"
            ],
            [
             0.2222222222222222,
             "#3e4989"
            ],
            [
             0.3333333333333333,
             "#31688e"
            ],
            [
             0.4444444444444444,
             "#26828e"
            ],
            [
             0.5555555555555556,
             "#1f9e89"
            ],
            [
             0.6666666666666666,
             "#35b779"
            ],
            [
             0.7777777777777778,
             "#6ece58"
            ],
            [
             0.8888888888888888,
             "#b5de2b"
            ],
            [
             1.0,
             "#fde725"
            ]
           ]
          },
          "colorway": [
           "#1F77B4",
           "#FF7F0E",
           "#2CA02C",
           "#D62728",
           "#9467BD",
           "#8C564B",
           "#E377C2",
           "#7F7F7F",
           "#BCBD22",
           "#17BECF"
          ],
          "font": {
           "color": "rgb(36,36,36)"
          },
          "geo": {
           "bgcolor": "white",
           "lakecolor": "white",
           "landcolor": "white",
           "showlakes": true,
           "showland": true,
           "subunitcolor": "white"
          },
          "hoverlabel": {
           "align": "left"
          },
          "hovermode": "closest",
          "mapbox": {
           "style": "light"
          },
          "paper_bgcolor": "white",
          "plot_bgcolor": "white",
          "polar": {
           "angularaxis": {
            "gridcolor": "rgb(232,232,232)",
            "linecolor": "rgb(36,36,36)",
            "showgrid": false,
            "showline": true,
            "ticks": "outside"
           },
           "bgcolor": "white",
           "radialaxis": {
            "gridcolor": "rgb(232,232,232)",
            "linecolor": "rgb(36,36,36)",
            "showgrid": false,
            "showline": true,
            "ticks": "outside"
           }
          },
          "scene": {
           "xaxis": {
            "backgroundcolor": "white",
            "gridcolor": "rgb(232,232,232)",
            "gridwidth": 2,
            "linecolor": "rgb(36,36,36)",
            "showbackground": true,
            "showgrid": false,
            "showline": true,
            "ticks": "outside",
            "zeroline": false,
            "zerolinecolor": "rgb(36,36,36)"
           },
           "yaxis": {
            "backgroundcolor": "white",
            "gridcolor": "rgb(232,232,232)",
            "gridwidth": 2,
            "linecolor": "rgb(36,36,36)",
            "showbackground": true,
            "showgrid": false,
            "showline": true,
            "ticks": "outside",
            "zeroline": false,
            "zerolinecolor": "rgb(36,36,36)"
           },
           "zaxis": {
            "backgroundcolor": "white",
            "gridcolor": "rgb(232,232,232)",
            "gridwidth": 2,
            "linecolor": "rgb(36,36,36)",
            "showbackground": true,
            "showgrid": false,
            "showline": true,
            "ticks": "outside",
            "zeroline": false,
            "zerolinecolor": "rgb(36,36,36)"
           }
          },
          "shapedefaults": {
           "fillcolor": "black",
           "line": {
            "width": 0
           },
           "opacity": 0.3
          },
          "ternary": {
           "aaxis": {
            "gridcolor": "rgb(232,232,232)",
            "linecolor": "rgb(36,36,36)",
            "showgrid": false,
            "showline": true,
            "ticks": "outside"
           },
           "baxis": {
            "gridcolor": "rgb(232,232,232)",
            "linecolor": "rgb(36,36,36)",
            "showgrid": false,
            "showline": true,
            "ticks": "outside"
           },
           "bgcolor": "white",
           "caxis": {
            "gridcolor": "rgb(232,232,232)",
            "linecolor": "rgb(36,36,36)",
            "showgrid": false,
            "showline": true,
            "ticks": "outside"
           }
          },
          "title": {
           "x": 0.05
          },
          "xaxis": {
           "automargin": true,
           "gridcolor": "rgb(232,232,232)",
           "linecolor": "rgb(36,36,36)",
           "showgrid": false,
           "showline": true,
           "ticks": "outside",
           "title": {
            "standoff": 15
           },
           "zeroline": false,
           "zerolinecolor": "rgb(36,36,36)"
          },
          "yaxis": {
           "automargin": true,
           "gridcolor": "rgb(232,232,232)",
           "linecolor": "rgb(36,36,36)",
           "showgrid": false,
           "showline": true,
           "ticks": "outside",
           "title": {
            "standoff": 15
           },
           "zeroline": false,
           "zerolinecolor": "rgb(36,36,36)"
          }
         }
        },
        "yaxis": {
         "range": [
          10,
          90
         ],
         "showgrid": false,
         "showticklabels": true
        },
        "yaxis2": {
         "range": [
          0,
          20
         ],
         "overlaying": "y",
         "side": "right",
         "showgrid": false,
         "showticklabels": false
        },
        "yaxis3": {
         "range": [
          0,
          1
         ],
         "overlaying": "y",
         "side": "left",
         "showgrid": false,
         "showticklabels": false
        },
        "title": {
         "text": "Luka Doncic"
        },
        "barmode": "group"
       },
       "config": {
        "plotlyServerURL": "https://plotly.com"
       }
      },
      "text/html": "<div>                            <div id=\"0ea6df1c-b274-4666-b5db-95d5c977df11\" class=\"plotly-graph-div\" style=\"height:525px; width:100%;\"></div>            <script type=\"text/javascript\">                require([\"plotly\"], function(Plotly) {                    window.PLOTLYENV=window.PLOTLYENV || {};                                    if (document.getElementById(\"0ea6df1c-b274-4666-b5db-95d5c977df11\")) {                    Plotly.newPlot(                        \"0ea6df1c-b274-4666-b5db-95d5c977df11\",                        [{\"hoverinfo\":\"skip\",\"line\":{\"width\":0},\"mode\":\"lines\",\"name\":\"Upper Bound\",\"showlegend\":false,\"x\":[0,1,2,3,4,5,6,7,8,9],\"y\":[71,72.90190190190191,72.90190190190191,71.90090090090091,70.6996996996997,68.8978978978979,66.6956956956957,63.4924924924925,60.2892892892893,57.0860860860861],\"type\":\"scatter\"},{\"fill\":\"tonexty\",\"fillcolor\":\"rgba(255, 90, 95, 0.2)\",\"hoverinfo\":\"skip\",\"mode\":\"none\",\"name\":\"Lower Bound\",\"showlegend\":false,\"x\":[0,1,2,3,4,5,6,7,8,9],\"y\":[71,68.4974974974975,67.0960960960961,64.8938938938939,62.6916916916917,59.8888888888889,56.8858858858859,52.88188188188188,48.87787787787788,44.873873873873876],\"type\":\"scatter\"},{\"customdata\":[[71.0,71.0],[68.4974974974975,72.90190190190191],[67.0960960960961,72.90190190190191],[64.8938938938939,71.90090090090091],[62.6916916916917,70.6996996996997],[59.8888888888889,68.8978978978979],[56.8858858858859,66.6956956956957],[52.88188188188188,63.4924924924925],[48.87787787787788,60.2892892892893],[44.873873873873876,57.0860860860861]],\"hovertemplate\":\"\\u003cb\\u003eYear\\u003c\\u002fb\\u003e: %{x}\\u003cbr\\u003e\\u003cb\\u003eRating\\u003c\\u002fb\\u003e: %{y:.1f}\\u003cbr\\u003e\\u003cb\\u003eLower Bound\\u003c\\u002fb\\u003e: %{customdata[0]:.1f}\\u003cbr\\u003e\\u003cb\\u003eUpper Bound\\u003c\\u002fb\\u003e: %{customdata[1]:.1f}\\u003cbr\\u003e\",\"line\":{\"color\":\"rgb(255, 90, 95)\"},\"name\":\"Rating\",\"x\":[0,1,2,3,4,5,6,7,8,9],\"y\":[71,70.67927559515115,70.1098992090046,68.48652083905417,66.7836867599314,64.50435794689052,61.831817025772736,58.273804375822316,54.67219782244725,51.05717083017289],\"type\":\"scatter\"},{\"marker\":{\"color\":\"rgb(252,100,45)\"},\"name\":\"Value\",\"text\":[\"7.4\",\"7.2\",\"7.0\",\"6.3\",\"5.5\",\"4.6\",\"3.6\",\"2.5\",\"1.6\",\"1.0\"],\"textfont\":{\"color\":\"rgb(252,100,45)\",\"size\":14},\"textposition\":\"outside\",\"width\":0.35,\"x\":[-0.2,0.8,1.8,2.8,3.8,4.8,5.8,6.8,7.8,8.8],\"y\":[7.382133025414252,7.239776580767351,6.987112867484429,6.2674303418340225,5.524006078994024,4.578811904844747,3.5808229347664122,2.457839711206452,1.6016123648573615,0.999765262656747],\"yaxis\":\"y2\",\"type\":\"bar\"},{\"marker\":{\"color\":\"rgb(0, 166, 153)\"},\"name\":\"Cap Value\",\"text\":[\"51.1%\",\"50.1%\",\"48.3%\",\"43.4%\",\"38.2%\",\"31.7%\",\"24.8%\",\"17.0%\",\"11.1%\",\"6.9%\"],\"textfont\":{\"color\":\"rgb(0, 166, 153)\",\"size\":14},\"textposition\":\"outside\",\"width\":0.35,\"x\":[0.2,1.2,2.2,3.2,4.2,5.2,6.2,7.2,8.2,9.2],\"y\":[0.5107799962231366,0.5009301568868963,0.4834480050383617,0.4336521755039916,0.38221362232995226,0.31681432987070984,0.24776209244658973,0.17006132971122642,0.1108177751411985,0.06917514156488402],\"yaxis\":\"y3\",\"type\":\"bar\"}],                        {\"template\":{\"data\":{\"barpolar\":[{\"marker\":{\"line\":{\"color\":\"white\",\"width\":0.5},\"pattern\":{\"fillmode\":\"overlay\",\"size\":10,\"solidity\":0.2}},\"type\":\"barpolar\"}],\"bar\":[{\"error_x\":{\"color\":\"rgb(36,36,36)\"},\"error_y\":{\"color\":\"rgb(36,36,36)\"},\"marker\":{\"line\":{\"color\":\"white\",\"width\":0.5},\"pattern\":{\"fillmode\":\"overlay\",\"size\":10,\"solidity\":0.2}},\"type\":\"bar\"}],\"carpet\":[{\"aaxis\":{\"endlinecolor\":\"rgb(36,36,36)\",\"gridcolor\":\"white\",\"linecolor\":\"white\",\"minorgridcolor\":\"white\",\"startlinecolor\":\"rgb(36,36,36)\"},\"baxis\":{\"endlinecolor\":\"rgb(36,36,36)\",\"gridcolor\":\"white\",\"linecolor\":\"white\",\"minorgridcolor\":\"white\",\"startlinecolor\":\"rgb(36,36,36)\"},\"type\":\"carpet\"}],\"choropleth\":[{\"colorbar\":{\"outlinewidth\":1,\"tickcolor\":\"rgb(36,36,36)\",\"ticks\":\"outside\"},\"type\":\"choropleth\"}],\"contourcarpet\":[{\"colorbar\":{\"outlinewidth\":1,\"tickcolor\":\"rgb(36,36,36)\",\"ticks\":\"outside\"},\"type\":\"contourcarpet\"}],\"contour\":[{\"colorbar\":{\"outlinewidth\":1,\"tickcolor\":\"rgb(36,36,36)\",\"ticks\":\"outside\"},\"colorscale\":[[0.0,\"#440154\"],[0.1111111111111111,\"#482878\"],[0.2222222222222222,\"#3e4989\"],[0.3333333333333333,\"#31688e\"],[0.4444444444444444,\"#26828e\"],[0.5555555555555556,\"#1f9e89\"],[0.6666666666666666,\"#35b779\"],[0.7777777777777778,\"#6ece58\"],[0.8888888888888888,\"#b5de2b\"],[1.0,\"#fde725\"]],\"type\":\"contour\"}],\"heatmapgl\":[{\"colorbar\":{\"outlinewidth\":1,\"tickcolor\":\"rgb(36,36,36)\",\"ticks\":\"outside\"},\"colorscale\":[[0.0,\"#440154\"],[0.1111111111111111,\"#482878\"],[0.2222222222222222,\"#3e4989\"],[0.3333333333333333,\"#31688e\"],[0.4444444444444444,\"#26828e\"],[0.5555555555555556,\"#1f9e89\"],[0.6666666666666666,\"#35b779\"],[0.7777777777777778,\"#6ece58\"],[0.8888888888888888,\"#b5de2b\"],[1.0,\"#fde725\"]],\"type\":\"heatmapgl\"}],\"heatmap\":[{\"colorbar\":{\"outlinewidth\":1,\"tickcolor\":\"rgb(36,36,36)\",\"ticks\":\"outside\"},\"colorscale\":[[0.0,\"#440154\"],[0.1111111111111111,\"#482878\"],[0.2222222222222222,\"#3e4989\"],[0.3333333333333333,\"#31688e\"],[0.4444444444444444,\"#26828e\"],[0.5555555555555556,\"#1f9e89\"],[0.6666666666666666,\"#35b779\"],[0.7777777777777778,\"#6ece58\"],[0.8888888888888888,\"#b5de2b\"],[1.0,\"#fde725\"]],\"type\":\"heatmap\"}],\"histogram2dcontour\":[{\"colorbar\":{\"outlinewidth\":1,\"tickcolor\":\"rgb(36,36,36)\",\"ticks\":\"outside\"},\"colorscale\":[[0.0,\"#440154\"],[0.1111111111111111,\"#482878\"],[0.2222222222222222,\"#3e4989\"],[0.3333333333333333,\"#31688e\"],[0.4444444444444444,\"#26828e\"],[0.5555555555555556,\"#1f9e89\"],[0.6666666666666666,\"#35b779\"],[0.7777777777777778,\"#6ece58\"],[0.8888888888888888,\"#b5de2b\"],[1.0,\"#fde725\"]],\"type\":\"histogram2dcontour\"}],\"histogram2d\":[{\"colorbar\":{\"outlinewidth\":1,\"tickcolor\":\"rgb(36,36,36)\",\"ticks\":\"outside\"},\"colorscale\":[[0.0,\"#440154\"],[0.1111111111111111,\"#482878\"],[0.2222222222222222,\"#3e4989\"],[0.3333333333333333,\"#31688e\"],[0.4444444444444444,\"#26828e\"],[0.5555555555555556,\"#1f9e89\"],[0.6666666666666666,\"#35b779\"],[0.7777777777777778,\"#6ece58\"],[0.8888888888888888,\"#b5de2b\"],[1.0,\"#fde725\"]],\"type\":\"histogram2d\"}],\"histogram\":[{\"marker\":{\"line\":{\"color\":\"white\",\"width\":0.6}},\"type\":\"histogram\"}],\"mesh3d\":[{\"colorbar\":{\"outlinewidth\":1,\"tickcolor\":\"rgb(36,36,36)\",\"ticks\":\"outside\"},\"type\":\"mesh3d\"}],\"parcoords\":[{\"line\":{\"colorbar\":{\"outlinewidth\":1,\"tickcolor\":\"rgb(36,36,36)\",\"ticks\":\"outside\"}},\"type\":\"parcoords\"}],\"pie\":[{\"automargin\":true,\"type\":\"pie\"}],\"scatter3d\":[{\"line\":{\"colorbar\":{\"outlinewidth\":1,\"tickcolor\":\"rgb(36,36,36)\",\"ticks\":\"outside\"}},\"marker\":{\"colorbar\":{\"outlinewidth\":1,\"tickcolor\":\"rgb(36,36,36)\",\"ticks\":\"outside\"}},\"type\":\"scatter3d\"}],\"scattercarpet\":[{\"marker\":{\"colorbar\":{\"outlinewidth\":1,\"tickcolor\":\"rgb(36,36,36)\",\"ticks\":\"outside\"}},\"type\":\"scattercarpet\"}],\"scattergeo\":[{\"marker\":{\"colorbar\":{\"outlinewidth\":1,\"tickcolor\":\"rgb(36,36,36)\",\"ticks\":\"outside\"}},\"type\":\"scattergeo\"}],\"scattergl\":[{\"marker\":{\"colorbar\":{\"outlinewidth\":1,\"tickcolor\":\"rgb(36,36,36)\",\"ticks\":\"outside\"}},\"type\":\"scattergl\"}],\"scattermapbox\":[{\"marker\":{\"colorbar\":{\"outlinewidth\":1,\"tickcolor\":\"rgb(36,36,36)\",\"ticks\":\"outside\"}},\"type\":\"scattermapbox\"}],\"scatterpolargl\":[{\"marker\":{\"colorbar\":{\"outlinewidth\":1,\"tickcolor\":\"rgb(36,36,36)\",\"ticks\":\"outside\"}},\"type\":\"scatterpolargl\"}],\"scatterpolar\":[{\"marker\":{\"colorbar\":{\"outlinewidth\":1,\"tickcolor\":\"rgb(36,36,36)\",\"ticks\":\"outside\"}},\"type\":\"scatterpolar\"}],\"scatter\":[{\"fillpattern\":{\"fillmode\":\"overlay\",\"size\":10,\"solidity\":0.2},\"type\":\"scatter\"}],\"scatterternary\":[{\"marker\":{\"colorbar\":{\"outlinewidth\":1,\"tickcolor\":\"rgb(36,36,36)\",\"ticks\":\"outside\"}},\"type\":\"scatterternary\"}],\"surface\":[{\"colorbar\":{\"outlinewidth\":1,\"tickcolor\":\"rgb(36,36,36)\",\"ticks\":\"outside\"},\"colorscale\":[[0.0,\"#440154\"],[0.1111111111111111,\"#482878\"],[0.2222222222222222,\"#3e4989\"],[0.3333333333333333,\"#31688e\"],[0.4444444444444444,\"#26828e\"],[0.5555555555555556,\"#1f9e89\"],[0.6666666666666666,\"#35b779\"],[0.7777777777777778,\"#6ece58\"],[0.8888888888888888,\"#b5de2b\"],[1.0,\"#fde725\"]],\"type\":\"surface\"}],\"table\":[{\"cells\":{\"fill\":{\"color\":\"rgb(237,237,237)\"},\"line\":{\"color\":\"white\"}},\"header\":{\"fill\":{\"color\":\"rgb(217,217,217)\"},\"line\":{\"color\":\"white\"}},\"type\":\"table\"}]},\"layout\":{\"annotationdefaults\":{\"arrowhead\":0,\"arrowwidth\":1},\"autotypenumbers\":\"strict\",\"coloraxis\":{\"colorbar\":{\"outlinewidth\":1,\"tickcolor\":\"rgb(36,36,36)\",\"ticks\":\"outside\"}},\"colorscale\":{\"diverging\":[[0.0,\"rgb(103,0,31)\"],[0.1,\"rgb(178,24,43)\"],[0.2,\"rgb(214,96,77)\"],[0.3,\"rgb(244,165,130)\"],[0.4,\"rgb(253,219,199)\"],[0.5,\"rgb(247,247,247)\"],[0.6,\"rgb(209,229,240)\"],[0.7,\"rgb(146,197,222)\"],[0.8,\"rgb(67,147,195)\"],[0.9,\"rgb(33,102,172)\"],[1.0,\"rgb(5,48,97)\"]],\"sequential\":[[0.0,\"#440154\"],[0.1111111111111111,\"#482878\"],[0.2222222222222222,\"#3e4989\"],[0.3333333333333333,\"#31688e\"],[0.4444444444444444,\"#26828e\"],[0.5555555555555556,\"#1f9e89\"],[0.6666666666666666,\"#35b779\"],[0.7777777777777778,\"#6ece58\"],[0.8888888888888888,\"#b5de2b\"],[1.0,\"#fde725\"]],\"sequentialminus\":[[0.0,\"#440154\"],[0.1111111111111111,\"#482878\"],[0.2222222222222222,\"#3e4989\"],[0.3333333333333333,\"#31688e\"],[0.4444444444444444,\"#26828e\"],[0.5555555555555556,\"#1f9e89\"],[0.6666666666666666,\"#35b779\"],[0.7777777777777778,\"#6ece58\"],[0.8888888888888888,\"#b5de2b\"],[1.0,\"#fde725\"]]},\"colorway\":[\"#1F77B4\",\"#FF7F0E\",\"#2CA02C\",\"#D62728\",\"#9467BD\",\"#8C564B\",\"#E377C2\",\"#7F7F7F\",\"#BCBD22\",\"#17BECF\"],\"font\":{\"color\":\"rgb(36,36,36)\"},\"geo\":{\"bgcolor\":\"white\",\"lakecolor\":\"white\",\"landcolor\":\"white\",\"showlakes\":true,\"showland\":true,\"subunitcolor\":\"white\"},\"hoverlabel\":{\"align\":\"left\"},\"hovermode\":\"closest\",\"mapbox\":{\"style\":\"light\"},\"paper_bgcolor\":\"white\",\"plot_bgcolor\":\"white\",\"polar\":{\"angularaxis\":{\"gridcolor\":\"rgb(232,232,232)\",\"linecolor\":\"rgb(36,36,36)\",\"showgrid\":false,\"showline\":true,\"ticks\":\"outside\"},\"bgcolor\":\"white\",\"radialaxis\":{\"gridcolor\":\"rgb(232,232,232)\",\"linecolor\":\"rgb(36,36,36)\",\"showgrid\":false,\"showline\":true,\"ticks\":\"outside\"}},\"scene\":{\"xaxis\":{\"backgroundcolor\":\"white\",\"gridcolor\":\"rgb(232,232,232)\",\"gridwidth\":2,\"linecolor\":\"rgb(36,36,36)\",\"showbackground\":true,\"showgrid\":false,\"showline\":true,\"ticks\":\"outside\",\"zeroline\":false,\"zerolinecolor\":\"rgb(36,36,36)\"},\"yaxis\":{\"backgroundcolor\":\"white\",\"gridcolor\":\"rgb(232,232,232)\",\"gridwidth\":2,\"linecolor\":\"rgb(36,36,36)\",\"showbackground\":true,\"showgrid\":false,\"showline\":true,\"ticks\":\"outside\",\"zeroline\":false,\"zerolinecolor\":\"rgb(36,36,36)\"},\"zaxis\":{\"backgroundcolor\":\"white\",\"gridcolor\":\"rgb(232,232,232)\",\"gridwidth\":2,\"linecolor\":\"rgb(36,36,36)\",\"showbackground\":true,\"showgrid\":false,\"showline\":true,\"ticks\":\"outside\",\"zeroline\":false,\"zerolinecolor\":\"rgb(36,36,36)\"}},\"shapedefaults\":{\"fillcolor\":\"black\",\"line\":{\"width\":0},\"opacity\":0.3},\"ternary\":{\"aaxis\":{\"gridcolor\":\"rgb(232,232,232)\",\"linecolor\":\"rgb(36,36,36)\",\"showgrid\":false,\"showline\":true,\"ticks\":\"outside\"},\"baxis\":{\"gridcolor\":\"rgb(232,232,232)\",\"linecolor\":\"rgb(36,36,36)\",\"showgrid\":false,\"showline\":true,\"ticks\":\"outside\"},\"bgcolor\":\"white\",\"caxis\":{\"gridcolor\":\"rgb(232,232,232)\",\"linecolor\":\"rgb(36,36,36)\",\"showgrid\":false,\"showline\":true,\"ticks\":\"outside\"}},\"title\":{\"x\":0.05},\"xaxis\":{\"automargin\":true,\"gridcolor\":\"rgb(232,232,232)\",\"linecolor\":\"rgb(36,36,36)\",\"showgrid\":false,\"showline\":true,\"ticks\":\"outside\",\"title\":{\"standoff\":15},\"zeroline\":false,\"zerolinecolor\":\"rgb(36,36,36)\"},\"yaxis\":{\"automargin\":true,\"gridcolor\":\"rgb(232,232,232)\",\"linecolor\":\"rgb(36,36,36)\",\"showgrid\":false,\"showline\":true,\"ticks\":\"outside\",\"title\":{\"standoff\":15},\"zeroline\":false,\"zerolinecolor\":\"rgb(36,36,36)\"}}},\"yaxis\":{\"range\":[10,90],\"showgrid\":false,\"showticklabels\":true},\"yaxis2\":{\"range\":[0,20],\"overlaying\":\"y\",\"side\":\"right\",\"showgrid\":false,\"showticklabels\":false},\"yaxis3\":{\"range\":[0,1],\"overlaying\":\"y\",\"side\":\"left\",\"showgrid\":false,\"showticklabels\":false},\"title\":{\"text\":\"Luka Doncic\"},\"barmode\":\"group\"},                        {\"responsive\": true}                    ).then(function(){\n                            \nvar gd = document.getElementById('0ea6df1c-b274-4666-b5db-95d5c977df11');\nvar x = new MutationObserver(function (mutations, observer) {{\n        var display = window.getComputedStyle(gd).display;\n        if (!display || display === 'none') {{\n            console.log([gd, 'removed!']);\n            Plotly.purge(gd);\n            observer.disconnect();\n        }}\n}});\n\n// Listen for the removal of the full notebook cells\nvar notebookContainer = gd.closest('#notebook-container');\nif (notebookContainer) {{\n    x.observe(notebookContainer, {childList: true});\n}}\n\n// Listen for the clearing of the current output cell\nvar outputEl = gd.closest('.output');\nif (outputEl) {{\n    x.observe(outputEl, {childList: true});\n}}\n\n                        })                };                });            </script>        </div>"
     },
     "metadata": {},
     "output_type": "display_data"
    }
   ],
   "source": [
    "player_plot(int(input('Enter a pid: ')), df)"
   ],
   "metadata": {
    "collapsed": false,
    "ExecuteTime": {
     "end_time": "2024-02-27T19:00:55.467729300Z",
     "start_time": "2024-02-27T19:00:54.196736Z"
    }
   },
   "id": "a19bbb6a44ae34cf",
   "execution_count": 13
  },
  {
   "cell_type": "code",
   "outputs": [],
   "source": [],
   "metadata": {
    "collapsed": false,
    "ExecuteTime": {
     "start_time": "2024-02-27T18:55:51.554481700Z"
    }
   },
   "id": "77cdc363d03e4b49",
   "execution_count": null
  }
 ],
 "metadata": {
  "kernelspec": {
   "display_name": "Python 3",
   "language": "python",
   "name": "python3"
  },
  "language_info": {
   "codemirror_mode": {
    "name": "ipython",
    "version": 2
   },
   "file_extension": ".py",
   "mimetype": "text/x-python",
   "name": "python",
   "nbconvert_exporter": "python",
   "pygments_lexer": "ipython2",
   "version": "2.7.6"
  }
 },
 "nbformat": 4,
 "nbformat_minor": 5
}
